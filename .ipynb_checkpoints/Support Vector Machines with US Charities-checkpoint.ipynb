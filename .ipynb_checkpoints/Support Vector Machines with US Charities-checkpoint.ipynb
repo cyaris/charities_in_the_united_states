{
 "cells": [
  {
   "cell_type": "markdown",
   "metadata": {},
   "source": [
    "# **Support Vector Machines and GridSearchCV with US Charities**\n",
    "### **Data obtained from charitynavigator.org**"
   ]
  },
  {
   "cell_type": "code",
   "execution_count": 1,
   "metadata": {},
   "outputs": [],
   "source": [
    "import warnings\n",
    "warnings.filterwarnings('ignore')"
   ]
  },
  {
   "cell_type": "code",
   "execution_count": 2,
   "metadata": {},
   "outputs": [],
   "source": [
    "import pandas as pd\n",
    "import numpy as np\n",
    "import matplotlib.pyplot as plt\n",
    "import seaborn as sns\n",
    "%matplotlib inline"
   ]
  },
  {
   "cell_type": "code",
   "execution_count": 3,
   "metadata": {},
   "outputs": [],
   "source": [
    "df = pd.read_csv('charity_navigator_clean.csv', index_col = 0)"
   ]
  },
  {
   "cell_type": "markdown",
   "metadata": {},
   "source": [
    "Create a dataframe with no null values."
   ]
  },
  {
   "cell_type": "code",
   "execution_count": 4,
   "metadata": {},
   "outputs": [],
   "source": [
    "df = df[df['comp_leader_income'].isnull() == False].reset_index(drop = True)"
   ]
  },
  {
   "cell_type": "code",
   "execution_count": 5,
   "metadata": {},
   "outputs": [
    {
     "data": {
      "text/html": [
       "<div>\n",
       "<style scoped>\n",
       "    .dataframe tbody tr th:only-of-type {\n",
       "        vertical-align: middle;\n",
       "    }\n",
       "\n",
       "    .dataframe tbody tr th {\n",
       "        vertical-align: top;\n",
       "    }\n",
       "\n",
       "    .dataframe thead th {\n",
       "        text-align: right;\n",
       "    }\n",
       "</style>\n",
       "<table border=\"1\" class=\"dataframe\">\n",
       "  <thead>\n",
       "    <tr style=\"text-align: right;\">\n",
       "      <th></th>\n",
       "      <th>accountability_score</th>\n",
       "      <th>administrative_expenses</th>\n",
       "      <th>charity_name</th>\n",
       "      <th>charity_url</th>\n",
       "      <th>city</th>\n",
       "      <th>cn_advisory</th>\n",
       "      <th>comp_leader_income</th>\n",
       "      <th>comp_leader_expense_pct</th>\n",
       "      <th>comp_leader_title</th>\n",
       "      <th>excess_or_deficit_for_year</th>\n",
       "      <th>...</th>\n",
       "      <th>net_assets</th>\n",
       "      <th>other_revenue</th>\n",
       "      <th>overall_score</th>\n",
       "      <th>payments_to_affiliates</th>\n",
       "      <th>program_expenses</th>\n",
       "      <th>state</th>\n",
       "      <th>total_contributions</th>\n",
       "      <th>org_type</th>\n",
       "      <th>org_category</th>\n",
       "      <th>org_type_id</th>\n",
       "    </tr>\n",
       "  </thead>\n",
       "  <tbody>\n",
       "    <tr>\n",
       "      <th>0</th>\n",
       "      <td>89.0</td>\n",
       "      <td>164590.0</td>\n",
       "      <td>9to5 National Association of Working Women</td>\n",
       "      <td>https://www.charitynavigator.org/index.cfm?bay...</td>\n",
       "      <td>Milwaukee</td>\n",
       "      <td>NaN</td>\n",
       "      <td>53463.0</td>\n",
       "      <td>3.11</td>\n",
       "      <td>Executive Director</td>\n",
       "      <td>349718.0</td>\n",
       "      <td>...</td>\n",
       "      <td>1350382</td>\n",
       "      <td>49634.0</td>\n",
       "      <td>89.75</td>\n",
       "      <td>0</td>\n",
       "      <td>1440463</td>\n",
       "      <td>WI</td>\n",
       "      <td>1999023</td>\n",
       "      <td>Human and Civil Rights</td>\n",
       "      <td>Advocacy and Education</td>\n",
       "      <td>0.0</td>\n",
       "    </tr>\n",
       "    <tr>\n",
       "      <th>1</th>\n",
       "      <td>86.0</td>\n",
       "      <td>1001560.0</td>\n",
       "      <td>'Aha Pūnana Leo</td>\n",
       "      <td>https://www.charitynavigator.org/index.cfm?bay...</td>\n",
       "      <td>Hilo</td>\n",
       "      <td>NaN</td>\n",
       "      <td>73500.0</td>\n",
       "      <td>1.47</td>\n",
       "      <td>Executive Director</td>\n",
       "      <td>1175965.0</td>\n",
       "      <td>...</td>\n",
       "      <td>14773920</td>\n",
       "      <td>382540.0</td>\n",
       "      <td>85.95</td>\n",
       "      <td>0</td>\n",
       "      <td>3912270</td>\n",
       "      <td>HI</td>\n",
       "      <td>3339358</td>\n",
       "      <td>Education</td>\n",
       "      <td>Early Childhood Programs and Services</td>\n",
       "      <td>1.0</td>\n",
       "    </tr>\n",
       "    <tr>\n",
       "      <th>2</th>\n",
       "      <td>85.0</td>\n",
       "      <td>93957.0</td>\n",
       "      <td>AID FOR AIDS International</td>\n",
       "      <td>https://www.charitynavigator.org/index.cfm?bay...</td>\n",
       "      <td>New York</td>\n",
       "      <td>NaN</td>\n",
       "      <td>85000.0</td>\n",
       "      <td>0.99</td>\n",
       "      <td>Executive Director</td>\n",
       "      <td>-461502.0</td>\n",
       "      <td>...</td>\n",
       "      <td>-770370</td>\n",
       "      <td>0.0</td>\n",
       "      <td>80.96</td>\n",
       "      <td>0</td>\n",
       "      <td>8157850</td>\n",
       "      <td>NY</td>\n",
       "      <td>8039138</td>\n",
       "      <td>International</td>\n",
       "      <td>Development and Relief Services</td>\n",
       "      <td>2.0</td>\n",
       "    </tr>\n",
       "    <tr>\n",
       "      <th>3</th>\n",
       "      <td>86.0</td>\n",
       "      <td>346867.0</td>\n",
       "      <td>Futures in Education</td>\n",
       "      <td>https://www.charitynavigator.org/index.cfm?bay...</td>\n",
       "      <td>Brooklyn</td>\n",
       "      <td>NaN</td>\n",
       "      <td>61220.0</td>\n",
       "      <td>0.78</td>\n",
       "      <td>Acting Executive Director</td>\n",
       "      <td>1872733.0</td>\n",
       "      <td>...</td>\n",
       "      <td>11460087</td>\n",
       "      <td>-81726.0</td>\n",
       "      <td>89.94</td>\n",
       "      <td>0</td>\n",
       "      <td>7018262</td>\n",
       "      <td>NY</td>\n",
       "      <td>9704138</td>\n",
       "      <td>Education</td>\n",
       "      <td>Scholarship and Financial Support</td>\n",
       "      <td>1.0</td>\n",
       "    </tr>\n",
       "    <tr>\n",
       "      <th>4</th>\n",
       "      <td>97.0</td>\n",
       "      <td>135195.0</td>\n",
       "      <td>Every Generation Ministries</td>\n",
       "      <td>https://www.charitynavigator.org/index.cfm?bay...</td>\n",
       "      <td>Temecula</td>\n",
       "      <td>NaN</td>\n",
       "      <td>74244.0</td>\n",
       "      <td>5.41</td>\n",
       "      <td>President</td>\n",
       "      <td>-103940.0</td>\n",
       "      <td>...</td>\n",
       "      <td>723772</td>\n",
       "      <td>32436.0</td>\n",
       "      <td>90.62</td>\n",
       "      <td>0</td>\n",
       "      <td>1148407</td>\n",
       "      <td>CA</td>\n",
       "      <td>1234662</td>\n",
       "      <td>Religion</td>\n",
       "      <td>Religious Activities</td>\n",
       "      <td>3.0</td>\n",
       "    </tr>\n",
       "  </tbody>\n",
       "</table>\n",
       "<p>5 rows × 22 columns</p>\n",
       "</div>"
      ],
      "text/plain": [
       "   accountability_score  administrative_expenses  \\\n",
       "0                  89.0                 164590.0   \n",
       "1                  86.0                1001560.0   \n",
       "2                  85.0                  93957.0   \n",
       "3                  86.0                 346867.0   \n",
       "4                  97.0                 135195.0   \n",
       "\n",
       "                                 charity_name  \\\n",
       "0  9to5 National Association of Working Women   \n",
       "1                             'Aha Pūnana Leo   \n",
       "2                  AID FOR AIDS International   \n",
       "3                        Futures in Education   \n",
       "4                 Every Generation Ministries   \n",
       "\n",
       "                                         charity_url       city cn_advisory  \\\n",
       "0  https://www.charitynavigator.org/index.cfm?bay...  Milwaukee         NaN   \n",
       "1  https://www.charitynavigator.org/index.cfm?bay...       Hilo         NaN   \n",
       "2  https://www.charitynavigator.org/index.cfm?bay...   New York         NaN   \n",
       "3  https://www.charitynavigator.org/index.cfm?bay...   Brooklyn         NaN   \n",
       "4  https://www.charitynavigator.org/index.cfm?bay...   Temecula         NaN   \n",
       "\n",
       "   comp_leader_income  comp_leader_expense_pct          comp_leader_title  \\\n",
       "0             53463.0                     3.11         Executive Director   \n",
       "1             73500.0                     1.47         Executive Director   \n",
       "2             85000.0                     0.99         Executive Director   \n",
       "3             61220.0                     0.78  Acting Executive Director   \n",
       "4             74244.0                     5.41                  President   \n",
       "\n",
       "   excess_or_deficit_for_year     ...      net_assets  other_revenue  \\\n",
       "0                    349718.0     ...         1350382        49634.0   \n",
       "1                   1175965.0     ...        14773920       382540.0   \n",
       "2                   -461502.0     ...         -770370            0.0   \n",
       "3                   1872733.0     ...        11460087       -81726.0   \n",
       "4                   -103940.0     ...          723772        32436.0   \n",
       "\n",
       "   overall_score  payments_to_affiliates  program_expenses  state  \\\n",
       "0          89.75                       0           1440463     WI   \n",
       "1          85.95                       0           3912270     HI   \n",
       "2          80.96                       0           8157850     NY   \n",
       "3          89.94                       0           7018262     NY   \n",
       "4          90.62                       0           1148407     CA   \n",
       "\n",
       "   total_contributions                org_type  \\\n",
       "0              1999023  Human and Civil Rights   \n",
       "1              3339358               Education   \n",
       "2              8039138           International   \n",
       "3              9704138               Education   \n",
       "4              1234662                Religion   \n",
       "\n",
       "                            org_category org_type_id  \n",
       "0                 Advocacy and Education         0.0  \n",
       "1  Early Childhood Programs and Services         1.0  \n",
       "2        Development and Relief Services         2.0  \n",
       "3      Scholarship and Financial Support         1.0  \n",
       "4                   Religious Activities         3.0  \n",
       "\n",
       "[5 rows x 22 columns]"
      ]
     },
     "execution_count": 5,
     "metadata": {},
     "output_type": "execute_result"
    }
   ],
   "source": [
    "df.head()"
   ]
  },
  {
   "cell_type": "code",
   "execution_count": 6,
   "metadata": {},
   "outputs": [
    {
     "name": "stdout",
     "output_type": "stream",
     "text": [
      "<class 'pandas.core.frame.DataFrame'>\n",
      "RangeIndex: 7290 entries, 0 to 7289\n",
      "Data columns (total 22 columns):\n",
      "accountability_score          7290 non-null float64\n",
      "administrative_expenses       7290 non-null float64\n",
      "charity_name                  7288 non-null object\n",
      "charity_url                   7290 non-null object\n",
      "city                          7289 non-null object\n",
      "cn_advisory                   4 non-null object\n",
      "comp_leader_income            7290 non-null float64\n",
      "comp_leader_expense_pct       7290 non-null float64\n",
      "comp_leader_title             7290 non-null object\n",
      "excess_or_deficit_for_year    7290 non-null float64\n",
      "financial_score               7290 non-null float64\n",
      "fundraising_expenses          7290 non-null int64\n",
      "net_assets                    7290 non-null int64\n",
      "other_revenue                 7290 non-null float64\n",
      "overall_score                 7290 non-null float64\n",
      "payments_to_affiliates        7290 non-null int64\n",
      "program_expenses              7290 non-null int64\n",
      "state                         7290 non-null object\n",
      "total_contributions           7290 non-null int64\n",
      "org_type                      7290 non-null object\n",
      "org_category                  7290 non-null object\n",
      "org_type_id                   7290 non-null float64\n",
      "dtypes: float64(9), int64(5), object(8)\n",
      "memory usage: 1.2+ MB\n"
     ]
    }
   ],
   "source": [
    "df.info()"
   ]
  },
  {
   "cell_type": "code",
   "execution_count": 7,
   "metadata": {},
   "outputs": [
    {
     "data": {
      "text/html": [
       "<div>\n",
       "<style scoped>\n",
       "    .dataframe tbody tr th:only-of-type {\n",
       "        vertical-align: middle;\n",
       "    }\n",
       "\n",
       "    .dataframe tbody tr th {\n",
       "        vertical-align: top;\n",
       "    }\n",
       "\n",
       "    .dataframe thead th {\n",
       "        text-align: right;\n",
       "    }\n",
       "</style>\n",
       "<table border=\"1\" class=\"dataframe\">\n",
       "  <thead>\n",
       "    <tr style=\"text-align: right;\">\n",
       "      <th></th>\n",
       "      <th>accountability_score</th>\n",
       "      <th>administrative_expenses</th>\n",
       "      <th>comp_leader_income</th>\n",
       "      <th>comp_leader_expense_pct</th>\n",
       "      <th>excess_or_deficit_for_year</th>\n",
       "      <th>financial_score</th>\n",
       "      <th>fundraising_expenses</th>\n",
       "      <th>net_assets</th>\n",
       "      <th>other_revenue</th>\n",
       "      <th>overall_score</th>\n",
       "      <th>payments_to_affiliates</th>\n",
       "      <th>program_expenses</th>\n",
       "      <th>total_contributions</th>\n",
       "      <th>org_type_id</th>\n",
       "    </tr>\n",
       "  </thead>\n",
       "  <tbody>\n",
       "    <tr>\n",
       "      <th>count</th>\n",
       "      <td>7290.000000</td>\n",
       "      <td>7.290000e+03</td>\n",
       "      <td>7.290000e+03</td>\n",
       "      <td>7290.000000</td>\n",
       "      <td>7.290000e+03</td>\n",
       "      <td>7290.000000</td>\n",
       "      <td>7.290000e+03</td>\n",
       "      <td>7.290000e+03</td>\n",
       "      <td>7.290000e+03</td>\n",
       "      <td>7290.000000</td>\n",
       "      <td>7.290000e+03</td>\n",
       "      <td>7.290000e+03</td>\n",
       "      <td>7.290000e+03</td>\n",
       "      <td>7290.000000</td>\n",
       "    </tr>\n",
       "    <tr>\n",
       "      <th>mean</th>\n",
       "      <td>91.338683</td>\n",
       "      <td>1.294414e+06</td>\n",
       "      <td>1.659498e+05</td>\n",
       "      <td>3.543462</td>\n",
       "      <td>9.060532e+05</td>\n",
       "      <td>85.966429</td>\n",
       "      <td>1.070673e+06</td>\n",
       "      <td>3.219307e+07</td>\n",
       "      <td>1.190769e+06</td>\n",
       "      <td>87.178483</td>\n",
       "      <td>1.977978e+04</td>\n",
       "      <td>1.345123e+07</td>\n",
       "      <td>1.286215e+07</td>\n",
       "      <td>5.705898</td>\n",
       "    </tr>\n",
       "    <tr>\n",
       "      <th>std</th>\n",
       "      <td>8.873393</td>\n",
       "      <td>6.049582e+06</td>\n",
       "      <td>1.298927e+05</td>\n",
       "      <td>2.384256</td>\n",
       "      <td>1.180910e+07</td>\n",
       "      <td>9.940291</td>\n",
       "      <td>6.142220e+06</td>\n",
       "      <td>1.752289e+08</td>\n",
       "      <td>7.803896e+06</td>\n",
       "      <td>7.777421</td>\n",
       "      <td>2.624573e+05</td>\n",
       "      <td>6.457635e+07</td>\n",
       "      <td>6.028956e+07</td>\n",
       "      <td>2.727216</td>\n",
       "    </tr>\n",
       "    <tr>\n",
       "      <th>min</th>\n",
       "      <td>24.000000</td>\n",
       "      <td>9.440000e+02</td>\n",
       "      <td>1.000000e+00</td>\n",
       "      <td>0.000000</td>\n",
       "      <td>-2.691435e+08</td>\n",
       "      <td>0.000000</td>\n",
       "      <td>1.301000e+03</td>\n",
       "      <td>-1.290334e+07</td>\n",
       "      <td>-1.391081e+07</td>\n",
       "      <td>18.950000</td>\n",
       "      <td>-4.101700e+04</td>\n",
       "      <td>7.718300e+04</td>\n",
       "      <td>9.063000e+04</td>\n",
       "      <td>0.000000</td>\n",
       "    </tr>\n",
       "    <tr>\n",
       "      <th>25%</th>\n",
       "      <td>89.000000</td>\n",
       "      <td>1.945552e+05</td>\n",
       "      <td>9.155775e+04</td>\n",
       "      <td>1.610000</td>\n",
       "      <td>-2.368478e+05</td>\n",
       "      <td>81.180000</td>\n",
       "      <td>1.605952e+05</td>\n",
       "      <td>2.088086e+06</td>\n",
       "      <td>1.116200e+04</td>\n",
       "      <td>83.730000</td>\n",
       "      <td>0.000000e+00</td>\n",
       "      <td>1.683411e+06</td>\n",
       "      <td>1.701188e+06</td>\n",
       "      <td>4.000000</td>\n",
       "    </tr>\n",
       "    <tr>\n",
       "      <th>50%</th>\n",
       "      <td>93.000000</td>\n",
       "      <td>3.732055e+05</td>\n",
       "      <td>1.311865e+05</td>\n",
       "      <td>3.150000</td>\n",
       "      <td>6.882200e+04</td>\n",
       "      <td>87.500000</td>\n",
       "      <td>3.264685e+05</td>\n",
       "      <td>5.658102e+06</td>\n",
       "      <td>1.145770e+05</td>\n",
       "      <td>88.530000</td>\n",
       "      <td>0.000000e+00</td>\n",
       "      <td>3.211320e+06</td>\n",
       "      <td>3.273303e+06</td>\n",
       "      <td>7.000000</td>\n",
       "    </tr>\n",
       "    <tr>\n",
       "      <th>75%</th>\n",
       "      <td>97.000000</td>\n",
       "      <td>8.588372e+05</td>\n",
       "      <td>1.977418e+05</td>\n",
       "      <td>5.120000</td>\n",
       "      <td>6.325405e+05</td>\n",
       "      <td>92.500000</td>\n",
       "      <td>7.113882e+05</td>\n",
       "      <td>1.631770e+07</td>\n",
       "      <td>4.977250e+05</td>\n",
       "      <td>92.020000</td>\n",
       "      <td>0.000000e+00</td>\n",
       "      <td>7.953149e+06</td>\n",
       "      <td>7.657308e+06</td>\n",
       "      <td>8.000000</td>\n",
       "    </tr>\n",
       "    <tr>\n",
       "      <th>max</th>\n",
       "      <td>100.000000</td>\n",
       "      <td>2.569202e+08</td>\n",
       "      <td>2.013535e+06</td>\n",
       "      <td>9.990000</td>\n",
       "      <td>4.531299e+08</td>\n",
       "      <td>100.000000</td>\n",
       "      <td>3.377669e+08</td>\n",
       "      <td>7.551342e+09</td>\n",
       "      <td>3.903250e+08</td>\n",
       "      <td>100.000000</td>\n",
       "      <td>1.679144e+07</td>\n",
       "      <td>2.499301e+09</td>\n",
       "      <td>2.379130e+09</td>\n",
       "      <td>10.000000</td>\n",
       "    </tr>\n",
       "  </tbody>\n",
       "</table>\n",
       "</div>"
      ],
      "text/plain": [
       "       accountability_score  administrative_expenses  comp_leader_income  \\\n",
       "count           7290.000000             7.290000e+03        7.290000e+03   \n",
       "mean              91.338683             1.294414e+06        1.659498e+05   \n",
       "std                8.873393             6.049582e+06        1.298927e+05   \n",
       "min               24.000000             9.440000e+02        1.000000e+00   \n",
       "25%               89.000000             1.945552e+05        9.155775e+04   \n",
       "50%               93.000000             3.732055e+05        1.311865e+05   \n",
       "75%               97.000000             8.588372e+05        1.977418e+05   \n",
       "max              100.000000             2.569202e+08        2.013535e+06   \n",
       "\n",
       "       comp_leader_expense_pct  excess_or_deficit_for_year  financial_score  \\\n",
       "count              7290.000000                7.290000e+03      7290.000000   \n",
       "mean                  3.543462                9.060532e+05        85.966429   \n",
       "std                   2.384256                1.180910e+07         9.940291   \n",
       "min                   0.000000               -2.691435e+08         0.000000   \n",
       "25%                   1.610000               -2.368478e+05        81.180000   \n",
       "50%                   3.150000                6.882200e+04        87.500000   \n",
       "75%                   5.120000                6.325405e+05        92.500000   \n",
       "max                   9.990000                4.531299e+08       100.000000   \n",
       "\n",
       "       fundraising_expenses    net_assets  other_revenue  overall_score  \\\n",
       "count          7.290000e+03  7.290000e+03   7.290000e+03    7290.000000   \n",
       "mean           1.070673e+06  3.219307e+07   1.190769e+06      87.178483   \n",
       "std            6.142220e+06  1.752289e+08   7.803896e+06       7.777421   \n",
       "min            1.301000e+03 -1.290334e+07  -1.391081e+07      18.950000   \n",
       "25%            1.605952e+05  2.088086e+06   1.116200e+04      83.730000   \n",
       "50%            3.264685e+05  5.658102e+06   1.145770e+05      88.530000   \n",
       "75%            7.113882e+05  1.631770e+07   4.977250e+05      92.020000   \n",
       "max            3.377669e+08  7.551342e+09   3.903250e+08     100.000000   \n",
       "\n",
       "       payments_to_affiliates  program_expenses  total_contributions  \\\n",
       "count            7.290000e+03      7.290000e+03         7.290000e+03   \n",
       "mean             1.977978e+04      1.345123e+07         1.286215e+07   \n",
       "std              2.624573e+05      6.457635e+07         6.028956e+07   \n",
       "min             -4.101700e+04      7.718300e+04         9.063000e+04   \n",
       "25%              0.000000e+00      1.683411e+06         1.701188e+06   \n",
       "50%              0.000000e+00      3.211320e+06         3.273303e+06   \n",
       "75%              0.000000e+00      7.953149e+06         7.657308e+06   \n",
       "max              1.679144e+07      2.499301e+09         2.379130e+09   \n",
       "\n",
       "       org_type_id  \n",
       "count  7290.000000  \n",
       "mean      5.705898  \n",
       "std       2.727216  \n",
       "min       0.000000  \n",
       "25%       4.000000  \n",
       "50%       7.000000  \n",
       "75%       8.000000  \n",
       "max      10.000000  "
      ]
     },
     "execution_count": 7,
     "metadata": {},
     "output_type": "execute_result"
    }
   ],
   "source": [
    "df.describe()"
   ]
  },
  {
   "cell_type": "markdown",
   "metadata": {},
   "source": [
    "Add dummy variables for organization type."
   ]
  },
  {
   "cell_type": "code",
   "execution_count": 8,
   "metadata": {},
   "outputs": [],
   "source": [
    "org_type_dummies = pd.get_dummies(df.org_type)\n",
    "df = pd.concat([df, org_type_dummies], axis = 1, join = 'outer')"
   ]
  },
  {
   "cell_type": "markdown",
   "metadata": {},
   "source": [
    "Drop non-numerical variables from the dataframe."
   ]
  },
  {
   "cell_type": "code",
   "execution_count": 9,
   "metadata": {},
   "outputs": [
    {
     "data": {
      "text/html": [
       "<div>\n",
       "<style scoped>\n",
       "    .dataframe tbody tr th:only-of-type {\n",
       "        vertical-align: middle;\n",
       "    }\n",
       "\n",
       "    .dataframe tbody tr th {\n",
       "        vertical-align: top;\n",
       "    }\n",
       "\n",
       "    .dataframe thead th {\n",
       "        text-align: right;\n",
       "    }\n",
       "</style>\n",
       "<table border=\"1\" class=\"dataframe\">\n",
       "  <thead>\n",
       "    <tr style=\"text-align: right;\">\n",
       "      <th></th>\n",
       "      <th>accountability_score</th>\n",
       "      <th>administrative_expenses</th>\n",
       "      <th>comp_leader_income</th>\n",
       "      <th>comp_leader_expense_pct</th>\n",
       "      <th>excess_or_deficit_for_year</th>\n",
       "      <th>financial_score</th>\n",
       "      <th>fundraising_expenses</th>\n",
       "      <th>net_assets</th>\n",
       "      <th>other_revenue</th>\n",
       "      <th>overall_score</th>\n",
       "      <th>...</th>\n",
       "      <th>Arts, Culture, Humanities</th>\n",
       "      <th>Community Development</th>\n",
       "      <th>Education</th>\n",
       "      <th>Environment</th>\n",
       "      <th>Health</th>\n",
       "      <th>Human Services</th>\n",
       "      <th>Human and Civil Rights</th>\n",
       "      <th>International</th>\n",
       "      <th>Religion</th>\n",
       "      <th>Research and Public Policy</th>\n",
       "    </tr>\n",
       "  </thead>\n",
       "  <tbody>\n",
       "    <tr>\n",
       "      <th>0</th>\n",
       "      <td>89.0</td>\n",
       "      <td>164590.0</td>\n",
       "      <td>53463.0</td>\n",
       "      <td>3.11</td>\n",
       "      <td>349718.0</td>\n",
       "      <td>90.56</td>\n",
       "      <td>111522</td>\n",
       "      <td>1350382</td>\n",
       "      <td>49634.0</td>\n",
       "      <td>89.75</td>\n",
       "      <td>...</td>\n",
       "      <td>0</td>\n",
       "      <td>0</td>\n",
       "      <td>0</td>\n",
       "      <td>0</td>\n",
       "      <td>0</td>\n",
       "      <td>0</td>\n",
       "      <td>1</td>\n",
       "      <td>0</td>\n",
       "      <td>0</td>\n",
       "      <td>0</td>\n",
       "    </tr>\n",
       "    <tr>\n",
       "      <th>1</th>\n",
       "      <td>86.0</td>\n",
       "      <td>1001560.0</td>\n",
       "      <td>73500.0</td>\n",
       "      <td>1.47</td>\n",
       "      <td>1175965.0</td>\n",
       "      <td>85.92</td>\n",
       "      <td>54613</td>\n",
       "      <td>14773920</td>\n",
       "      <td>382540.0</td>\n",
       "      <td>85.95</td>\n",
       "      <td>...</td>\n",
       "      <td>0</td>\n",
       "      <td>0</td>\n",
       "      <td>1</td>\n",
       "      <td>0</td>\n",
       "      <td>0</td>\n",
       "      <td>0</td>\n",
       "      <td>0</td>\n",
       "      <td>0</td>\n",
       "      <td>0</td>\n",
       "      <td>0</td>\n",
       "    </tr>\n",
       "    <tr>\n",
       "      <th>2</th>\n",
       "      <td>85.0</td>\n",
       "      <td>93957.0</td>\n",
       "      <td>85000.0</td>\n",
       "      <td>0.99</td>\n",
       "      <td>-461502.0</td>\n",
       "      <td>77.65</td>\n",
       "      <td>248833</td>\n",
       "      <td>-770370</td>\n",
       "      <td>0.0</td>\n",
       "      <td>80.96</td>\n",
       "      <td>...</td>\n",
       "      <td>0</td>\n",
       "      <td>0</td>\n",
       "      <td>0</td>\n",
       "      <td>0</td>\n",
       "      <td>0</td>\n",
       "      <td>0</td>\n",
       "      <td>0</td>\n",
       "      <td>1</td>\n",
       "      <td>0</td>\n",
       "      <td>0</td>\n",
       "    </tr>\n",
       "    <tr>\n",
       "      <th>3</th>\n",
       "      <td>86.0</td>\n",
       "      <td>346867.0</td>\n",
       "      <td>61220.0</td>\n",
       "      <td>0.78</td>\n",
       "      <td>1872733.0</td>\n",
       "      <td>97.50</td>\n",
       "      <td>384550</td>\n",
       "      <td>11460087</td>\n",
       "      <td>-81726.0</td>\n",
       "      <td>89.94</td>\n",
       "      <td>...</td>\n",
       "      <td>0</td>\n",
       "      <td>0</td>\n",
       "      <td>1</td>\n",
       "      <td>0</td>\n",
       "      <td>0</td>\n",
       "      <td>0</td>\n",
       "      <td>0</td>\n",
       "      <td>0</td>\n",
       "      <td>0</td>\n",
       "      <td>0</td>\n",
       "    </tr>\n",
       "    <tr>\n",
       "      <th>4</th>\n",
       "      <td>97.0</td>\n",
       "      <td>135195.0</td>\n",
       "      <td>74244.0</td>\n",
       "      <td>5.41</td>\n",
       "      <td>-103940.0</td>\n",
       "      <td>87.08</td>\n",
       "      <td>87436</td>\n",
       "      <td>723772</td>\n",
       "      <td>32436.0</td>\n",
       "      <td>90.62</td>\n",
       "      <td>...</td>\n",
       "      <td>0</td>\n",
       "      <td>0</td>\n",
       "      <td>0</td>\n",
       "      <td>0</td>\n",
       "      <td>0</td>\n",
       "      <td>0</td>\n",
       "      <td>0</td>\n",
       "      <td>0</td>\n",
       "      <td>1</td>\n",
       "      <td>0</td>\n",
       "    </tr>\n",
       "  </tbody>\n",
       "</table>\n",
       "<p>5 rows × 26 columns</p>\n",
       "</div>"
      ],
      "text/plain": [
       "   accountability_score  administrative_expenses  comp_leader_income  \\\n",
       "0                  89.0                 164590.0             53463.0   \n",
       "1                  86.0                1001560.0             73500.0   \n",
       "2                  85.0                  93957.0             85000.0   \n",
       "3                  86.0                 346867.0             61220.0   \n",
       "4                  97.0                 135195.0             74244.0   \n",
       "\n",
       "   comp_leader_expense_pct  excess_or_deficit_for_year  financial_score  \\\n",
       "0                     3.11                    349718.0            90.56   \n",
       "1                     1.47                   1175965.0            85.92   \n",
       "2                     0.99                   -461502.0            77.65   \n",
       "3                     0.78                   1872733.0            97.50   \n",
       "4                     5.41                   -103940.0            87.08   \n",
       "\n",
       "   fundraising_expenses  net_assets  other_revenue  overall_score  \\\n",
       "0                111522     1350382        49634.0          89.75   \n",
       "1                 54613    14773920       382540.0          85.95   \n",
       "2                248833     -770370            0.0          80.96   \n",
       "3                384550    11460087       -81726.0          89.94   \n",
       "4                 87436      723772        32436.0          90.62   \n",
       "\n",
       "              ...              Arts, Culture, Humanities  \\\n",
       "0             ...                                      0   \n",
       "1             ...                                      0   \n",
       "2             ...                                      0   \n",
       "3             ...                                      0   \n",
       "4             ...                                      0   \n",
       "\n",
       "   Community Development  Education Environment  Health  Human Services  \\\n",
       "0                      0          0           0       0               0   \n",
       "1                      0          1           0       0               0   \n",
       "2                      0          0           0       0               0   \n",
       "3                      0          1           0       0               0   \n",
       "4                      0          0           0       0               0   \n",
       "\n",
       "   Human and Civil Rights  International  Religion  Research and Public Policy  \n",
       "0                       1              0         0                           0  \n",
       "1                       0              0         0                           0  \n",
       "2                       0              1         0                           0  \n",
       "3                       0              0         0                           0  \n",
       "4                       0              0         1                           0  \n",
       "\n",
       "[5 rows x 26 columns]"
      ]
     },
     "execution_count": 9,
     "metadata": {},
     "output_type": "execute_result"
    }
   ],
   "source": [
    "df.drop(['charity_name', 'charity_url', \n",
    "          'city', 'cn_advisory', \n",
    "          'state', 'org_category', 'comp_leader_title'], \n",
    "         axis = 1, inplace = True)\n",
    "df.head()"
   ]
  },
  {
   "cell_type": "markdown",
   "metadata": {},
   "source": [
    "## **Predicting positive or negative 2017 profit for US charities**"
   ]
  },
  {
   "cell_type": "code",
   "execution_count": 10,
   "metadata": {},
   "outputs": [],
   "source": [
    "n = 0\n",
    "for excess_or_deficit in df['excess_or_deficit_for_year']:\n",
    "    if df.loc[n, 'excess_or_deficit_for_year'] > 0:\n",
    "        df.loc[n, 'excess_or_deficit_id'] = str(1)\n",
    "        n += 1\n",
    "    elif df.loc[n, 'excess_or_deficit_for_year'] <= 0:\n",
    "        df.loc[n, 'excess_or_deficit_id'] = str(0)\n",
    "        n += 1"
   ]
  },
  {
   "cell_type": "code",
   "execution_count": 11,
   "metadata": {},
   "outputs": [
    {
     "data": {
      "image/png": "[encoded data removed]",
      "text/plain": [
       "<Figure size 792x360 with 1 Axes>"
      ]
     },
     "metadata": {},
     "output_type": "display_data"
    }
   ],
   "source": [
    "plt.figure(figsize = (11, 5))\n",
    "labels = [str(df['excess_or_deficit_id'].value_counts()[0]) + ' Charities', \n",
    "          str(df['excess_or_deficit_id'].value_counts()[1]) + ' Charities']\n",
    "plt.pie(df['excess_or_deficit_id'].value_counts(), \n",
    "        labels = labels, \n",
    "        colors = ['#66b3ff', '#ff9999'],\n",
    "        autopct = '%1.1f%%', startangle = 90)\n",
    "plt.title('2017 Charity Profits')\n",
    "plt.legend(['Positive 2017 Profit', 'Negative 2017 Profit'], loc = 'best')\n",
    "plt.axis('equal')\n",
    "plt.tight_layout()"
   ]
  },
  {
   "cell_type": "code",
   "execution_count": 12,
   "metadata": {},
   "outputs": [
    {
     "data": {
      "image/png": "[encoded data removed]",
      "text/plain": [
       "<Figure size 792x504 with 1 Axes>"
      ]
     },
     "metadata": {},
     "output_type": "display_data"
    }
   ],
   "source": [
    "plt.figure(figsize = (11, 7))\n",
    "\n",
    "ax = sns.countplot(x = 'org_type_id', hue = 'excess_or_deficit_id',\n",
    "                   data = df, palette = 'Set1', alpha = 0.85,\n",
    "                   order = reversed(df['org_type_id'].value_counts().index))\n",
    "ax.set_xlabel('Organization Type')\n",
    "ax.set_ylabel('Number of Charities')\n",
    "ax.set_title('Charity Counts of Positive and Negative 2017 Profits by Organization Type')\n",
    "ax.set_xticklabels(reversed(df['org_type'].value_counts().index),\n",
    "                   rotation = 45, ha = \"right\")\n",
    "plt.legend(['Negative 2017 Profit', 'Positive 2017 Profit'])\n",
    "plt.tight_layout()"
   ]
  },
  {
   "cell_type": "markdown",
   "metadata": {},
   "source": [
    "### **Train Test Split**"
   ]
  },
  {
   "cell_type": "code",
   "execution_count": 13,
   "metadata": {},
   "outputs": [],
   "source": [
    "from sklearn.model_selection import train_test_split"
   ]
  },
  {
   "cell_type": "markdown",
   "metadata": {},
   "source": [
    "All numerical features including org type dummy variables are included."
   ]
  },
  {
   "cell_type": "code",
   "execution_count": 14,
   "metadata": {},
   "outputs": [],
   "source": [
    "feature_names = ['accountability_score', 'financial_score',\n",
    "                 'overall_score', 'administrative_expenses',\n",
    "                 'fundraising_expenses', 'net_assets',\n",
    "                 'other_revenue', 'payments_to_affiliates',\n",
    "                 'comp_leader_income', 'comp_leader_expense_pct',\n",
    "                 'Animals', 'Arts, Culture, Humanities',\n",
    "                 'Community Development', 'Education',\n",
    "                 'Environment', 'Health', 'Human Services',\n",
    "                 'Human and Civil Rights', 'International',\n",
    "                 'Religion']\n",
    "X = df[feature_names]\n",
    "y = df['excess_or_deficit_id']\n",
    "\n",
    "X_train, X_test, y_train, y_test = train_test_split(X, y, test_size = 0.4, random_state = 101)"
   ]
  },
  {
   "cell_type": "markdown",
   "metadata": {},
   "source": [
    "### **Standard Scaler**"
   ]
  },
  {
   "cell_type": "markdown",
   "metadata": {},
   "source": [
    "First use a standard scaler to level all features in the model."
   ]
  },
  {
   "cell_type": "code",
   "execution_count": 15,
   "metadata": {},
   "outputs": [],
   "source": [
    "from sklearn.preprocessing import StandardScaler"
   ]
  },
  {
   "cell_type": "code",
   "execution_count": 16,
   "metadata": {},
   "outputs": [],
   "source": [
    "scaler = StandardScaler()\n",
    "X_train_scaled = scaler.fit_transform(X_train)\n",
    "X_test_scaled = scaler.transform(X_test)"
   ]
  },
  {
   "cell_type": "markdown",
   "metadata": {},
   "source": [
    "Create a dataframe to see scaled features."
   ]
  },
  {
   "cell_type": "code",
   "execution_count": 17,
   "metadata": {},
   "outputs": [
    {
     "data": {
      "text/html": [
       "<div>\n",
       "<style scoped>\n",
       "    .dataframe tbody tr th:only-of-type {\n",
       "        vertical-align: middle;\n",
       "    }\n",
       "\n",
       "    .dataframe tbody tr th {\n",
       "        vertical-align: top;\n",
       "    }\n",
       "\n",
       "    .dataframe thead th {\n",
       "        text-align: right;\n",
       "    }\n",
       "</style>\n",
       "<table border=\"1\" class=\"dataframe\">\n",
       "  <thead>\n",
       "    <tr style=\"text-align: right;\">\n",
       "      <th></th>\n",
       "      <th>accountability_score</th>\n",
       "      <th>financial_score</th>\n",
       "      <th>overall_score</th>\n",
       "      <th>administrative_expenses</th>\n",
       "      <th>fundraising_expenses</th>\n",
       "      <th>net_assets</th>\n",
       "      <th>other_revenue</th>\n",
       "      <th>payments_to_affiliates</th>\n",
       "      <th>comp_leader_income</th>\n",
       "      <th>comp_leader_expense_pct</th>\n",
       "      <th>Animals</th>\n",
       "      <th>Arts, Culture, Humanities</th>\n",
       "      <th>Community Development</th>\n",
       "      <th>Education</th>\n",
       "      <th>Environment</th>\n",
       "      <th>Health</th>\n",
       "      <th>Human Services</th>\n",
       "      <th>Human and Civil Rights</th>\n",
       "      <th>International</th>\n",
       "      <th>Religion</th>\n",
       "    </tr>\n",
       "  </thead>\n",
       "  <tbody>\n",
       "    <tr>\n",
       "      <th>0</th>\n",
       "      <td>0.523977</td>\n",
       "      <td>0.794084</td>\n",
       "      <td>0.977527</td>\n",
       "      <td>1.416871</td>\n",
       "      <td>0.885268</td>\n",
       "      <td>0.290553</td>\n",
       "      <td>-0.089992</td>\n",
       "      <td>-0.075257</td>\n",
       "      <td>0.007558</td>\n",
       "      <td>-1.394520</td>\n",
       "      <td>-0.243064</td>\n",
       "      <td>2.419876</td>\n",
       "      <td>-0.325487</td>\n",
       "      <td>-0.283784</td>\n",
       "      <td>-0.235588</td>\n",
       "      <td>-0.336121</td>\n",
       "      <td>-0.640713</td>\n",
       "      <td>-0.207767</td>\n",
       "      <td>-0.268927</td>\n",
       "      <td>-0.237206</td>\n",
       "    </tr>\n",
       "    <tr>\n",
       "      <th>1</th>\n",
       "      <td>0.971347</td>\n",
       "      <td>0.136413</td>\n",
       "      <td>0.490523</td>\n",
       "      <td>-0.150319</td>\n",
       "      <td>0.024736</td>\n",
       "      <td>-0.116007</td>\n",
       "      <td>-0.299356</td>\n",
       "      <td>-0.075257</td>\n",
       "      <td>0.614274</td>\n",
       "      <td>0.028344</td>\n",
       "      <td>-0.243064</td>\n",
       "      <td>-0.413244</td>\n",
       "      <td>-0.325487</td>\n",
       "      <td>-0.283784</td>\n",
       "      <td>-0.235588</td>\n",
       "      <td>-0.336121</td>\n",
       "      <td>1.560762</td>\n",
       "      <td>-0.207767</td>\n",
       "      <td>-0.268927</td>\n",
       "      <td>-0.237206</td>\n",
       "    </tr>\n",
       "    <tr>\n",
       "      <th>2</th>\n",
       "      <td>0.971347</td>\n",
       "      <td>-0.355110</td>\n",
       "      <td>0.046528</td>\n",
       "      <td>-0.101158</td>\n",
       "      <td>-0.106470</td>\n",
       "      <td>-0.118849</td>\n",
       "      <td>-0.136323</td>\n",
       "      <td>-0.075257</td>\n",
       "      <td>-0.021811</td>\n",
       "      <td>0.197229</td>\n",
       "      <td>4.114150</td>\n",
       "      <td>-0.413244</td>\n",
       "      <td>-0.325487</td>\n",
       "      <td>-0.283784</td>\n",
       "      <td>-0.235588</td>\n",
       "      <td>-0.336121</td>\n",
       "      <td>-0.640713</td>\n",
       "      <td>-0.207767</td>\n",
       "      <td>-0.268927</td>\n",
       "      <td>-0.237206</td>\n",
       "    </tr>\n",
       "    <tr>\n",
       "      <th>3</th>\n",
       "      <td>-3.166823</td>\n",
       "      <td>-2.782065</td>\n",
       "      <td>-3.394119</td>\n",
       "      <td>-0.120767</td>\n",
       "      <td>-0.074416</td>\n",
       "      <td>-0.147770</td>\n",
       "      <td>-0.153193</td>\n",
       "      <td>-0.075257</td>\n",
       "      <td>-0.230468</td>\n",
       "      <td>1.856533</td>\n",
       "      <td>-0.243064</td>\n",
       "      <td>-0.413244</td>\n",
       "      <td>-0.325487</td>\n",
       "      <td>-0.283784</td>\n",
       "      <td>-0.235588</td>\n",
       "      <td>-0.336121</td>\n",
       "      <td>1.560762</td>\n",
       "      <td>-0.207767</td>\n",
       "      <td>-0.268927</td>\n",
       "      <td>-0.237206</td>\n",
       "    </tr>\n",
       "    <tr>\n",
       "      <th>4</th>\n",
       "      <td>0.188450</td>\n",
       "      <td>0.008835</td>\n",
       "      <td>0.227415</td>\n",
       "      <td>0.377612</td>\n",
       "      <td>0.032822</td>\n",
       "      <td>0.547113</td>\n",
       "      <td>0.209070</td>\n",
       "      <td>-0.075257</td>\n",
       "      <td>2.738364</td>\n",
       "      <td>-0.410760</td>\n",
       "      <td>-0.243064</td>\n",
       "      <td>2.419876</td>\n",
       "      <td>-0.325487</td>\n",
       "      <td>-0.283784</td>\n",
       "      <td>-0.235588</td>\n",
       "      <td>-0.336121</td>\n",
       "      <td>-0.640713</td>\n",
       "      <td>-0.207767</td>\n",
       "      <td>-0.268927</td>\n",
       "      <td>-0.237206</td>\n",
       "    </tr>\n",
       "  </tbody>\n",
       "</table>\n",
       "</div>"
      ],
      "text/plain": [
       "   accountability_score  financial_score  overall_score  \\\n",
       "0              0.523977         0.794084       0.977527   \n",
       "1              0.971347         0.136413       0.490523   \n",
       "2              0.971347        -0.355110       0.046528   \n",
       "3             -3.166823        -2.782065      -3.394119   \n",
       "4              0.188450         0.008835       0.227415   \n",
       "\n",
       "   administrative_expenses  fundraising_expenses  net_assets  other_revenue  \\\n",
       "0                 1.416871              0.885268    0.290553      -0.089992   \n",
       "1                -0.150319              0.024736   -0.116007      -0.299356   \n",
       "2                -0.101158             -0.106470   -0.118849      -0.136323   \n",
       "3                -0.120767             -0.074416   -0.147770      -0.153193   \n",
       "4                 0.377612              0.032822    0.547113       0.209070   \n",
       "\n",
       "   payments_to_affiliates  comp_leader_income  comp_leader_expense_pct  \\\n",
       "0               -0.075257            0.007558                -1.394520   \n",
       "1               -0.075257            0.614274                 0.028344   \n",
       "2               -0.075257           -0.021811                 0.197229   \n",
       "3               -0.075257           -0.230468                 1.856533   \n",
       "4               -0.075257            2.738364                -0.410760   \n",
       "\n",
       "    Animals  Arts, Culture, Humanities  Community Development  Education  \\\n",
       "0 -0.243064                   2.419876              -0.325487  -0.283784   \n",
       "1 -0.243064                  -0.413244              -0.325487  -0.283784   \n",
       "2  4.114150                  -0.413244              -0.325487  -0.283784   \n",
       "3 -0.243064                  -0.413244              -0.325487  -0.283784   \n",
       "4 -0.243064                   2.419876              -0.325487  -0.283784   \n",
       "\n",
       "   Environment    Health  Human Services  Human and Civil Rights  \\\n",
       "0    -0.235588 -0.336121       -0.640713               -0.207767   \n",
       "1    -0.235588 -0.336121        1.560762               -0.207767   \n",
       "2    -0.235588 -0.336121       -0.640713               -0.207767   \n",
       "3    -0.235588 -0.336121        1.560762               -0.207767   \n",
       "4    -0.235588 -0.336121       -0.640713               -0.207767   \n",
       "\n",
       "   International  Religion  \n",
       "0      -0.268927 -0.237206  \n",
       "1      -0.268927 -0.237206  \n",
       "2      -0.268927 -0.237206  \n",
       "3      -0.268927 -0.237206  \n",
       "4      -0.268927 -0.237206  "
      ]
     },
     "execution_count": 17,
     "metadata": {},
     "output_type": "execute_result"
    }
   ],
   "source": [
    "df_scaled = pd.DataFrame(X_train_scaled, columns = X.columns)\n",
    "df_scaled.head()"
   ]
  },
  {
   "cell_type": "markdown",
   "metadata": {},
   "source": [
    "### **Support Vector Machines**\n",
    "\n",
    "#### *Will a support vector classifier allow for an accurate model to predict whether a charity's 2017 profit was positive or negative?*"
   ]
  },
  {
   "cell_type": "code",
   "execution_count": 18,
   "metadata": {},
   "outputs": [],
   "source": [
    "from sklearn.svm import SVC\n",
    "from sklearn import metrics"
   ]
  },
  {
   "cell_type": "markdown",
   "metadata": {},
   "source": [
    "Instantiate SVC() and fit our data to a new model."
   ]
  },
  {
   "cell_type": "code",
   "execution_count": 19,
   "metadata": {},
   "outputs": [],
   "source": [
    "svc_model = SVC()\n",
    "svc_model.fit(X_train_scaled, y_train)\n",
    "y_pred = svc_model.predict(X_test_scaled)\n",
    "# print('svc_model.coef_\\n', svc_model.coef_)\n",
    "# print('svc_model.intercept_\\n', svc_model.intercept_)"
   ]
  },
  {
   "cell_type": "code",
   "execution_count": 20,
   "metadata": {},
   "outputs": [
    {
     "name": "stdout",
     "output_type": "stream",
     "text": [
      "Train R^2: 0.6024\n",
      "Test  R^2: 0.571\n",
      "MAE:       0.429\n",
      "MSE:       0.429\n",
      "RMSE:      0.655\n"
     ]
    }
   ],
   "source": [
    "print('Train R^2:', svc_model.score(X_train_scaled, y_train).round(4))\n",
    "print('Test  R^2:', svc_model.score(X_test_scaled, y_test).round(4))\n",
    "print('MAE:      ', metrics.mean_absolute_error(y_test, y_pred).round(4))\n",
    "print('MSE:      ', metrics.mean_squared_error(y_test, y_pred).round(4))\n",
    "print('RMSE:     ', np.sqrt(metrics.mean_squared_error(y_test, y_pred)).round(4))"
   ]
  },
  {
   "cell_type": "code",
   "execution_count": 21,
   "metadata": {
    "scrolled": true
   },
   "outputs": [
    {
     "name": "stdout",
     "output_type": "stream",
     "text": [
      "             precision    recall  f1-score   support\n",
      "\n",
      "          0       0.49      0.10      0.16      1245\n",
      "          1       0.58      0.92      0.71      1671\n",
      "\n",
      "avg / total       0.54      0.57      0.48      2916\n",
      "\n",
      "[[ 123 1122]\n",
      " [ 129 1542]]\n"
     ]
    }
   ],
   "source": [
    "print(metrics.classification_report(y_test, y_pred))\n",
    "print(metrics.confusion_matrix(y_test, y_pred))"
   ]
  },
  {
   "cell_type": "code",
   "execution_count": 22,
   "metadata": {},
   "outputs": [
    {
     "data": {
      "text/plain": [
       "dict_keys(['C', 'cache_size', 'class_weight', 'coef0', 'decision_function_shape', 'degree', 'gamma', 'kernel', 'max_iter', 'probability', 'random_state', 'shrinking', 'tol', 'verbose'])"
      ]
     },
     "execution_count": 22,
     "metadata": {},
     "output_type": "execute_result"
    }
   ],
   "source": [
    "svc_model.get_params().keys()"
   ]
  },
  {
   "cell_type": "code",
   "execution_count": 22,
   "metadata": {},
   "outputs": [],
   "source": [
    "from plot_validation_curve import plot_validation_curve"
   ]
  },
  {
   "cell_type": "code",
   "execution_count": 23,
   "metadata": {},
   "outputs": [
    {
     "data": {
      "image/png": "[encoded data removed]",
      "text/plain": [
       "<Figure size 504x360 with 1 Axes>"
      ]
     },
     "metadata": {},
     "output_type": "display_data"
    },
    {
     "data": {
      "image/png": "[encoded data removed]",
      "text/plain": [
       "<Figure size 504x360 with 1 Axes>"
      ]
     },
     "metadata": {},
     "output_type": "display_data"
    }
   ],
   "source": [
    "sns.set_style('whitegrid')\n",
    "\n",
    "title = 'Validation Curve with SVC, C Parameter'\n",
    "plot_validation_curve(SVC(), 'C', title, X_train_scaled, y_train, cv = 3)\n",
    "title = 'Validation Curve with SVC, gamma Parameter'\n",
    "plot_validation_curve(SVC(), 'gamma', title, X_train_scaled, y_train, cv = 3)"
   ]
  },
  {
   "cell_type": "markdown",
   "metadata": {},
   "source": [
    "### **GridSearchCV**\n",
    "\n",
    "#### *Will GridSearchCV allow for an accurate model to whether a charity's 2017 profit was positive or negative?*"
   ]
  },
  {
   "cell_type": "code",
   "execution_count": 24,
   "metadata": {},
   "outputs": [],
   "source": [
    "from sklearn.model_selection import GridSearchCV"
   ]
  },
  {
   "cell_type": "markdown",
   "metadata": {},
   "source": [
    "Now istantiate GridSearchCV() and fit our data to a model with parameters defined by param_grid."
   ]
  },
  {
   "cell_type": "code",
   "execution_count": 25,
   "metadata": {
    "scrolled": false
   },
   "outputs": [],
   "source": [
    "param_grid = {'C': [0.1, 1, 10, 100, 1000], 'gamma': [1, 0.1, 0.01, 0.001]}\n",
    "grid = GridSearchCV(SVC(), cv = 5, param_grid = param_grid, refit = True)\n",
    "grid.fit(X_train_scaled, y_train)\n",
    "grid_pred = grid.predict(X_test_scaled)"
   ]
  },
  {
   "cell_type": "markdown",
   "metadata": {},
   "source": [
    "*What are the best parameters as defined by GridSearchCV?*"
   ]
  },
  {
   "cell_type": "code",
   "execution_count": 26,
   "metadata": {},
   "outputs": [
    {
     "name": "stdout",
     "output_type": "stream",
     "text": [
      "SVC(C=100, cache_size=200, class_weight=None, coef0=0.0,\n",
      "  decision_function_shape='ovr', degree=3, gamma=0.01, kernel='rbf',\n",
      "  max_iter=-1, probability=False, random_state=None, shrinking=True,\n",
      "  tol=0.001, verbose=False)\n",
      "{'C': 100, 'gamma': 0.01}\n"
     ]
    }
   ],
   "source": [
    "print(grid.best_estimator_)\n",
    "print(grid.best_params_)"
   ]
  },
  {
   "cell_type": "markdown",
   "metadata": {},
   "source": [
    "*What are our new metrics scores with these optimized parameters?*"
   ]
  },
  {
   "cell_type": "code",
   "execution_count": 27,
   "metadata": {},
   "outputs": [
    {
     "name": "stdout",
     "output_type": "stream",
     "text": [
      "Train R^2: 0.6164\n",
      "Test  R^2: 0.5682\n",
      "MAE:       0.4318\n",
      "MSE:       0.4318\n",
      "RMSE:      0.6571\n"
     ]
    }
   ],
   "source": [
    "print('Train R^2:', grid.score(X_train_scaled, y_train).round(4))\n",
    "print('Test  R^2:', grid.score(X_test_scaled, y_test).round(4))\n",
    "print('MAE:      ', metrics.mean_absolute_error(y_test, grid_pred).round(4))\n",
    "print('MSE:      ', metrics.mean_squared_error(y_test, grid_pred).round(4))\n",
    "print('RMSE:     ', np.sqrt(metrics.mean_squared_error(y_test, grid_pred)).round(4))"
   ]
  },
  {
   "cell_type": "code",
   "execution_count": 28,
   "metadata": {},
   "outputs": [
    {
     "name": "stdout",
     "output_type": "stream",
     "text": [
      "             precision    recall  f1-score   support\n",
      "\n",
      "          0       0.48      0.13      0.21      1245\n",
      "          1       0.58      0.89      0.70      1671\n",
      "\n",
      "avg / total       0.54      0.57      0.49      2916\n",
      "\n",
      "[[ 163 1082]\n",
      " [ 177 1494]]\n"
     ]
    }
   ],
   "source": [
    "print(metrics.classification_report(y_test, grid_pred))\n",
    "print(metrics.confusion_matrix(y_test, grid_pred))"
   ]
  },
  {
   "cell_type": "markdown",
   "metadata": {},
   "source": [
    "## **Predicting organization type for US charities**"
   ]
  },
  {
   "cell_type": "code",
   "execution_count": 29,
   "metadata": {},
   "outputs": [
    {
     "data": {
      "image/png": "[encoded data removed]",
      "text/plain": [
       "<Figure size 792x504 with 1 Axes>"
      ]
     },
     "metadata": {},
     "output_type": "display_data"
    }
   ],
   "source": [
    "sns.set_style('white')\n",
    "plt.figure(figsize = (11, 7))\n",
    "\n",
    "ax = sns.countplot(x = 'org_type_id',\n",
    "                   data = df, palette = 'Set2',\n",
    "                   order = reversed(df['org_type_id'].value_counts().index))\n",
    "ax.set_title('Charity Counts by Organization Type')\n",
    "ax.set_xlabel('Organization Type')\n",
    "ax.set_ylabel('Number of Charities')\n",
    "ax.set_xticklabels(reversed(df['org_type'].value_counts().index),\n",
    "                   rotation = 45, ha = \"right\")\n",
    "\n",
    "plt.tight_layout()"
   ]
  },
  {
   "cell_type": "markdown",
   "metadata": {},
   "source": [
    "### **Train Test Split**"
   ]
  },
  {
   "cell_type": "markdown",
   "metadata": {},
   "source": [
    "All numerical features except for org type dummy variables are included."
   ]
  },
  {
   "cell_type": "code",
   "execution_count": 30,
   "metadata": {},
   "outputs": [],
   "source": [
    "feature_names = ['accountability_score', 'financial_score',\n",
    "                 'overall_score', 'administrative_expenses',\n",
    "                 'fundraising_expenses', 'net_assets',\n",
    "                 'other_revenue', 'payments_to_affiliates',\n",
    "                 'comp_leader_income', 'comp_leader_expense_pct',\n",
    "                 'excess_or_deficit_for_year']\n",
    "X = df[feature_names]\n",
    "y = df['org_type_id']\n",
    "\n",
    "X_train, X_test, y_train, y_test = train_test_split(X, y, test_size = 0.4, random_state = 101)"
   ]
  },
  {
   "cell_type": "markdown",
   "metadata": {},
   "source": [
    "### **Standard Scaler**"
   ]
  },
  {
   "cell_type": "markdown",
   "metadata": {},
   "source": [
    "First use a standard scaler to level all features in the model."
   ]
  },
  {
   "cell_type": "code",
   "execution_count": 31,
   "metadata": {},
   "outputs": [],
   "source": [
    "scaler = StandardScaler()\n",
    "X_train_scaled = scaler.fit_transform(X_train)\n",
    "X_test_scaled = scaler.transform(X_test)"
   ]
  },
  {
   "cell_type": "markdown",
   "metadata": {},
   "source": [
    "Create a dataframe to see scaled features."
   ]
  },
  {
   "cell_type": "code",
   "execution_count": 32,
   "metadata": {},
   "outputs": [
    {
     "data": {
      "text/html": [
       "<div>\n",
       "<style scoped>\n",
       "    .dataframe tbody tr th:only-of-type {\n",
       "        vertical-align: middle;\n",
       "    }\n",
       "\n",
       "    .dataframe tbody tr th {\n",
       "        vertical-align: top;\n",
       "    }\n",
       "\n",
       "    .dataframe thead th {\n",
       "        text-align: right;\n",
       "    }\n",
       "</style>\n",
       "<table border=\"1\" class=\"dataframe\">\n",
       "  <thead>\n",
       "    <tr style=\"text-align: right;\">\n",
       "      <th></th>\n",
       "      <th>accountability_score</th>\n",
       "      <th>financial_score</th>\n",
       "      <th>overall_score</th>\n",
       "      <th>administrative_expenses</th>\n",
       "      <th>fundraising_expenses</th>\n",
       "      <th>net_assets</th>\n",
       "      <th>other_revenue</th>\n",
       "      <th>payments_to_affiliates</th>\n",
       "      <th>comp_leader_income</th>\n",
       "      <th>comp_leader_expense_pct</th>\n",
       "      <th>excess_or_deficit_for_year</th>\n",
       "    </tr>\n",
       "  </thead>\n",
       "  <tbody>\n",
       "    <tr>\n",
       "      <th>0</th>\n",
       "      <td>0.523977</td>\n",
       "      <td>0.794084</td>\n",
       "      <td>0.977527</td>\n",
       "      <td>1.416871</td>\n",
       "      <td>0.885268</td>\n",
       "      <td>0.290553</td>\n",
       "      <td>-0.089992</td>\n",
       "      <td>-0.075257</td>\n",
       "      <td>0.007558</td>\n",
       "      <td>-1.394520</td>\n",
       "      <td>0.934873</td>\n",
       "    </tr>\n",
       "    <tr>\n",
       "      <th>1</th>\n",
       "      <td>0.971347</td>\n",
       "      <td>0.136413</td>\n",
       "      <td>0.490523</td>\n",
       "      <td>-0.150319</td>\n",
       "      <td>0.024736</td>\n",
       "      <td>-0.116007</td>\n",
       "      <td>-0.299356</td>\n",
       "      <td>-0.075257</td>\n",
       "      <td>0.614274</td>\n",
       "      <td>0.028344</td>\n",
       "      <td>-0.210251</td>\n",
       "    </tr>\n",
       "    <tr>\n",
       "      <th>2</th>\n",
       "      <td>0.971347</td>\n",
       "      <td>-0.355110</td>\n",
       "      <td>0.046528</td>\n",
       "      <td>-0.101158</td>\n",
       "      <td>-0.106470</td>\n",
       "      <td>-0.118849</td>\n",
       "      <td>-0.136323</td>\n",
       "      <td>-0.075257</td>\n",
       "      <td>-0.021811</td>\n",
       "      <td>0.197229</td>\n",
       "      <td>-0.043167</td>\n",
       "    </tr>\n",
       "    <tr>\n",
       "      <th>3</th>\n",
       "      <td>-3.166823</td>\n",
       "      <td>-2.782065</td>\n",
       "      <td>-3.394119</td>\n",
       "      <td>-0.120767</td>\n",
       "      <td>-0.074416</td>\n",
       "      <td>-0.147770</td>\n",
       "      <td>-0.153193</td>\n",
       "      <td>-0.075257</td>\n",
       "      <td>-0.230468</td>\n",
       "      <td>1.856533</td>\n",
       "      <td>-0.111231</td>\n",
       "    </tr>\n",
       "    <tr>\n",
       "      <th>4</th>\n",
       "      <td>0.188450</td>\n",
       "      <td>0.008835</td>\n",
       "      <td>0.227415</td>\n",
       "      <td>0.377612</td>\n",
       "      <td>0.032822</td>\n",
       "      <td>0.547113</td>\n",
       "      <td>0.209070</td>\n",
       "      <td>-0.075257</td>\n",
       "      <td>2.738364</td>\n",
       "      <td>-0.410760</td>\n",
       "      <td>-0.450363</td>\n",
       "    </tr>\n",
       "  </tbody>\n",
       "</table>\n",
       "</div>"
      ],
      "text/plain": [
       "   accountability_score  financial_score  overall_score  \\\n",
       "0              0.523977         0.794084       0.977527   \n",
       "1              0.971347         0.136413       0.490523   \n",
       "2              0.971347        -0.355110       0.046528   \n",
       "3             -3.166823        -2.782065      -3.394119   \n",
       "4              0.188450         0.008835       0.227415   \n",
       "\n",
       "   administrative_expenses  fundraising_expenses  net_assets  other_revenue  \\\n",
       "0                 1.416871              0.885268    0.290553      -0.089992   \n",
       "1                -0.150319              0.024736   -0.116007      -0.299356   \n",
       "2                -0.101158             -0.106470   -0.118849      -0.136323   \n",
       "3                -0.120767             -0.074416   -0.147770      -0.153193   \n",
       "4                 0.377612              0.032822    0.547113       0.209070   \n",
       "\n",
       "   payments_to_affiliates  comp_leader_income  comp_leader_expense_pct  \\\n",
       "0               -0.075257            0.007558                -1.394520   \n",
       "1               -0.075257            0.614274                 0.028344   \n",
       "2               -0.075257           -0.021811                 0.197229   \n",
       "3               -0.075257           -0.230468                 1.856533   \n",
       "4               -0.075257            2.738364                -0.410760   \n",
       "\n",
       "   excess_or_deficit_for_year  \n",
       "0                    0.934873  \n",
       "1                   -0.210251  \n",
       "2                   -0.043167  \n",
       "3                   -0.111231  \n",
       "4                   -0.450363  "
      ]
     },
     "execution_count": 32,
     "metadata": {},
     "output_type": "execute_result"
    }
   ],
   "source": [
    "df_scaled = pd.DataFrame(X_train_scaled, columns = X.columns)\n",
    "df_scaled.head()"
   ]
  },
  {
   "cell_type": "markdown",
   "metadata": {},
   "source": [
    "### **Support Vector Machines**\n",
    "\n",
    "#### *Will a support vector classifier allow for an accurate model to predict a charity's organization type?*"
   ]
  },
  {
   "cell_type": "markdown",
   "metadata": {},
   "source": [
    "Instantiate SVC() and fit our data to a new model."
   ]
  },
  {
   "cell_type": "code",
   "execution_count": 33,
   "metadata": {},
   "outputs": [],
   "source": [
    "svc_model = SVC()\n",
    "svc_model.fit(X_train_scaled, y_train)\n",
    "y_pred = svc_model.predict(X_test_scaled)\n",
    "# print('svc_model.coef_\\n', svc_model.coef_)\n",
    "# print('svc_model.intercept_\\n', svc_model.intercept_)"
   ]
  },
  {
   "cell_type": "code",
   "execution_count": 34,
   "metadata": {},
   "outputs": [
    {
     "name": "stdout",
     "output_type": "stream",
     "text": [
      "Train R^2: 0.3589\n",
      "Test  R^2: 0.3313\n",
      "MAE:       2.3663\n",
      "MSE:       11.823\n",
      "RMSE:      3.4385\n"
     ]
    }
   ],
   "source": [
    "print('Train R^2:', svc_model.score(X_train_scaled, y_train).round(4))\n",
    "print('Test  R^2:', svc_model.score(X_test_scaled, y_test).round(4))\n",
    "print('MAE:      ', metrics.mean_absolute_error(y_test, y_pred).round(4))\n",
    "print('MSE:      ', metrics.mean_squared_error(y_test, y_pred).round(4))\n",
    "print('RMSE:     ', np.sqrt(metrics.mean_squared_error(y_test, y_pred)).round(4))"
   ]
  },
  {
   "cell_type": "code",
   "execution_count": 35,
   "metadata": {},
   "outputs": [
    {
     "name": "stdout",
     "output_type": "stream",
     "text": [
      "             precision    recall  f1-score   support\n",
      "\n",
      "        0.0       0.00      0.00      0.00       112\n",
      "        1.0       0.00      0.00      0.00       225\n",
      "        2.0       0.50      0.00      0.01       203\n",
      "        3.0       0.38      0.22      0.28       133\n",
      "        4.0       0.61      0.11      0.19       288\n",
      "        5.0       0.00      0.00      0.00       137\n",
      "        6.0       0.19      0.03      0.06       289\n",
      "        7.0       0.37      0.33      0.35       443\n",
      "        8.0       0.32      0.90      0.47       826\n",
      "        9.0       0.00      0.00      0.00       175\n",
      "       10.0       0.00      0.00      0.00        85\n",
      "\n",
      "avg / total       0.28      0.33      0.23      2916\n",
      "\n"
     ]
    },
    {
     "data": {
      "image/png": "[encoded data removed]",
      "text/plain": [
       "<Figure size 576x432 with 1 Axes>"
      ]
     },
     "metadata": {},
     "output_type": "display_data"
    }
   ],
   "source": [
    "print(metrics.classification_report(y_test, y_pred))\n",
    "\n",
    "df_cm = pd.DataFrame(metrics.confusion_matrix(y_test, y_pred),\n",
    "                     index = [i for i in range(1, 12)],\n",
    "                     columns = [i for i in range(1, 12)])\n",
    "\n",
    "plt.figure(figsize = (8, 6))\n",
    "sns.heatmap(df_cm, annot = True, fmt = 'g', cbar = False, cmap = 'coolwarm')\n",
    "plt.title('Support Vector Machine\\nAccuracy: {0:.4f}'.format(metrics.accuracy_score(y_test, y_pred)))\n",
    "plt.ylabel('True Label')\n",
    "plt.xlabel('Predicted Label');\n",
    "plt.tight_layout()"
   ]
  },
  {
   "cell_type": "code",
   "execution_count": 36,
   "metadata": {},
   "outputs": [
    {
     "data": {
      "image/png": "[encoded data removed]",
      "text/plain": [
       "<Figure size 504x360 with 1 Axes>"
      ]
     },
     "metadata": {},
     "output_type": "display_data"
    },
    {
     "data": {
      "image/png": "[encoded data removed]",
      "text/plain": [
       "<Figure size 504x360 with 1 Axes>"
      ]
     },
     "metadata": {},
     "output_type": "display_data"
    }
   ],
   "source": [
    "sns.set_style('whitegrid')\n",
    "\n",
    "title = 'Validation Curve with SVC, C Parameter'\n",
    "plot_validation_curve(SVC(), 'C', title, X_train_scaled, y_train, cv = 3)\n",
    "title = 'Validation Curve with SVC, gamma Parameter'\n",
    "plot_validation_curve(SVC(), 'gamma', title, X_train_scaled, y_train, cv = 3)"
   ]
  },
  {
   "cell_type": "markdown",
   "metadata": {},
   "source": [
    "### **GridSearchCV**\n",
    "\n",
    "#### *Will GridSearchCV allow for an accurate model to predict a charity's organization type?*"
   ]
  },
  {
   "cell_type": "markdown",
   "metadata": {},
   "source": [
    "Now istantiate GridSearchCV() and fit our data to a model with parameters defined by param_grid."
   ]
  },
  {
   "cell_type": "code",
   "execution_count": 37,
   "metadata": {},
   "outputs": [],
   "source": [
    "param_grid = {'C': [0.1, 1, 10, 100, 1000], 'gamma': [1, 0.1, 0.01, 0.001]}\n",
    "grid = GridSearchCV(SVC(), param_grid = param_grid, refit = True)\n",
    "grid.fit(X_train_scaled, y_train)\n",
    "grid_pred = grid.predict(X_test_scaled)"
   ]
  },
  {
   "cell_type": "markdown",
   "metadata": {},
   "source": [
    "*What are the best parameters as defined by GridSearchCV?*"
   ]
  },
  {
   "cell_type": "code",
   "execution_count": 38,
   "metadata": {},
   "outputs": [
    {
     "name": "stdout",
     "output_type": "stream",
     "text": [
      "SVC(C=100, cache_size=200, class_weight=None, coef0=0.0,\n",
      "  decision_function_shape='ovr', degree=3, gamma=0.1, kernel='rbf',\n",
      "  max_iter=-1, probability=False, random_state=None, shrinking=True,\n",
      "  tol=0.001, verbose=False)\n",
      "{'C': 100, 'gamma': 0.1}\n"
     ]
    }
   ],
   "source": [
    "print(grid.best_estimator_)\n",
    "print(grid.best_params_)"
   ]
  },
  {
   "cell_type": "markdown",
   "metadata": {},
   "source": [
    "*What are our new metrics scores with these optimized parameters?*"
   ]
  },
  {
   "cell_type": "code",
   "execution_count": 39,
   "metadata": {},
   "outputs": [
    {
     "name": "stdout",
     "output_type": "stream",
     "text": [
      "Train R^2: 0.4787\n",
      "Test  R^2: 0.3601\n",
      "MAE:       2.3035\n",
      "MSE:       11.7411\n",
      "RMSE:      3.4265\n"
     ]
    }
   ],
   "source": [
    "print('Train R^2:', grid.score(X_train_scaled, y_train).round(4))\n",
    "print('Test  R^2:', grid.score(X_test_scaled, y_test).round(4))\n",
    "print('MAE:      ', metrics.mean_absolute_error(y_test, grid_pred).round(4))\n",
    "print('MSE:      ', metrics.mean_squared_error(y_test, grid_pred).round(4))\n",
    "print('RMSE:     ', np.sqrt(metrics.mean_squared_error(y_test, grid_pred)).round(4))"
   ]
  },
  {
   "cell_type": "code",
   "execution_count": 41,
   "metadata": {},
   "outputs": [
    {
     "name": "stdout",
     "output_type": "stream",
     "text": [
      "             precision    recall  f1-score   support\n",
      "\n",
      "        0.0       0.00      0.00      0.00       112\n",
      "        1.0       0.11      0.04      0.05       225\n",
      "        2.0       0.19      0.08      0.11       203\n",
      "        3.0       0.29      0.14      0.18       133\n",
      "        4.0       0.62      0.31      0.42       288\n",
      "        5.0       0.04      0.01      0.01       137\n",
      "        6.0       0.36      0.17      0.23       289\n",
      "        7.0       0.42      0.40      0.41       443\n",
      "        8.0       0.36      0.83      0.50       826\n",
      "        9.0       0.14      0.01      0.02       175\n",
      "       10.0       0.05      0.01      0.02        85\n",
      "\n",
      "avg / total       0.31      0.36      0.29      2916\n",
      "\n"
     ]
    },
    {
     "data": {
      "image/png": "[encoded data removed]",
      "text/plain": [
       "<Figure size 576x432 with 1 Axes>"
      ]
     },
     "metadata": {},
     "output_type": "display_data"
    }
   ],
   "source": [
    "print(metrics.classification_report(y_test, grid_pred))\n",
    "\n",
    "df_cm = pd.DataFrame(metrics.confusion_matrix(y_test, grid_pred),\n",
    "                     index = [i for i in range(1, 12)],\n",
    "                     columns = [i for i in range(1, 12)])\n",
    "\n",
    "plt.figure(figsize = (8, 6))\n",
    "sns.heatmap(df_cm, annot = True, fmt = 'g', cbar = False, cmap = 'coolwarm')\n",
    "plt.title('Support Vector Machine with Grid Search CV\\nAccuracy: {0:.4f}'.format(metrics.accuracy_score(y_test, grid_pred)))\n",
    "plt.ylabel('True Label')\n",
    "plt.xlabel('Predicted Label');\n",
    "plt.tight_layout()"
   ]
  }
 ],
 "metadata": {
  "kernelspec": {
   "display_name": "Python 3",
   "language": "python",
   "name": "python3"
  },
  "language_info": {
   "codemirror_mode": {
    "name": "ipython",
    "version": 3
   },
   "file_extension": ".py",
   "mimetype": "text/x-python",
   "name": "python",
   "nbconvert_exporter": "python",
   "pygments_lexer": "ipython3",
   "version": "3.6.4"
  }
 },
 "nbformat": 4,
 "nbformat_minor": 2
}
