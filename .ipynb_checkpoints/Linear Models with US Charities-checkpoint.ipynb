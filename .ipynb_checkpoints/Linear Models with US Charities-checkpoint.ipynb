{
 "cells": [
  {
   "cell_type": "markdown",
   "metadata": {},
   "source": [
    "# **Linear Models with US Charities**\n",
    "### **Data obtained from charitynavigator.org**"
   ]
  },
  {
   "cell_type": "code",
   "execution_count": 1,
   "metadata": {},
   "outputs": [],
   "source": [
    "import warnings\n",
    "warnings.filterwarnings('ignore')"
   ]
  },
  {
   "cell_type": "code",
   "execution_count": 2,
   "metadata": {},
   "outputs": [],
   "source": [
    "import pandas as pd\n",
    "import numpy as np\n",
    "import matplotlib.pyplot as plt\n",
    "import seaborn as sns\n",
    "%matplotlib inline"
   ]
  },
  {
   "cell_type": "code",
   "execution_count": 3,
   "metadata": {},
   "outputs": [],
   "source": [
    "df = pd.read_csv('charity_navigator_clean.csv', index_col = 0)"
   ]
  },
  {
   "cell_type": "markdown",
   "metadata": {},
   "source": [
    "Create a dataframe with no null values."
   ]
  },
  {
   "cell_type": "code",
   "execution_count": 4,
   "metadata": {},
   "outputs": [],
   "source": [
    "df = df[df['comp_leader_income'].isnull() == False].reset_index(drop = True)"
   ]
  },
  {
   "cell_type": "code",
   "execution_count": 5,
   "metadata": {},
   "outputs": [
    {
     "data": {
      "text/html": [
       "<div>\n",
       "<style scoped>\n",
       "    .dataframe tbody tr th:only-of-type {\n",
       "        vertical-align: middle;\n",
       "    }\n",
       "\n",
       "    .dataframe tbody tr th {\n",
       "        vertical-align: top;\n",
       "    }\n",
       "\n",
       "    .dataframe thead th {\n",
       "        text-align: right;\n",
       "    }\n",
       "</style>\n",
       "<table border=\"1\" class=\"dataframe\">\n",
       "  <thead>\n",
       "    <tr style=\"text-align: right;\">\n",
       "      <th></th>\n",
       "      <th>accountability_score</th>\n",
       "      <th>administrative_expenses</th>\n",
       "      <th>charity_name</th>\n",
       "      <th>charity_url</th>\n",
       "      <th>city</th>\n",
       "      <th>cn_advisory</th>\n",
       "      <th>comp_leader_income</th>\n",
       "      <th>comp_leader_expense_pct</th>\n",
       "      <th>comp_leader_title</th>\n",
       "      <th>excess_or_deficit_for_year</th>\n",
       "      <th>...</th>\n",
       "      <th>net_assets</th>\n",
       "      <th>other_revenue</th>\n",
       "      <th>overall_score</th>\n",
       "      <th>payments_to_affiliates</th>\n",
       "      <th>program_expenses</th>\n",
       "      <th>state</th>\n",
       "      <th>total_contributions</th>\n",
       "      <th>org_type</th>\n",
       "      <th>org_category</th>\n",
       "      <th>org_type_id</th>\n",
       "    </tr>\n",
       "  </thead>\n",
       "  <tbody>\n",
       "    <tr>\n",
       "      <th>0</th>\n",
       "      <td>89.0</td>\n",
       "      <td>164590.0</td>\n",
       "      <td>9to5 National Association of Working Women</td>\n",
       "      <td>https://www.charitynavigator.org/index.cfm?bay...</td>\n",
       "      <td>Milwaukee</td>\n",
       "      <td>NaN</td>\n",
       "      <td>53463.0</td>\n",
       "      <td>3.11</td>\n",
       "      <td>Executive Director</td>\n",
       "      <td>349718.0</td>\n",
       "      <td>...</td>\n",
       "      <td>1350382</td>\n",
       "      <td>49634.0</td>\n",
       "      <td>89.75</td>\n",
       "      <td>0</td>\n",
       "      <td>1440463</td>\n",
       "      <td>WI</td>\n",
       "      <td>1999023</td>\n",
       "      <td>Human and Civil Rights</td>\n",
       "      <td>Advocacy and Education</td>\n",
       "      <td>0.0</td>\n",
       "    </tr>\n",
       "    <tr>\n",
       "      <th>1</th>\n",
       "      <td>86.0</td>\n",
       "      <td>1001560.0</td>\n",
       "      <td>'Aha Pūnana Leo</td>\n",
       "      <td>https://www.charitynavigator.org/index.cfm?bay...</td>\n",
       "      <td>Hilo</td>\n",
       "      <td>NaN</td>\n",
       "      <td>73500.0</td>\n",
       "      <td>1.47</td>\n",
       "      <td>Executive Director</td>\n",
       "      <td>1175965.0</td>\n",
       "      <td>...</td>\n",
       "      <td>14773920</td>\n",
       "      <td>382540.0</td>\n",
       "      <td>85.95</td>\n",
       "      <td>0</td>\n",
       "      <td>3912270</td>\n",
       "      <td>HI</td>\n",
       "      <td>3339358</td>\n",
       "      <td>Education</td>\n",
       "      <td>Early Childhood Programs and Services</td>\n",
       "      <td>1.0</td>\n",
       "    </tr>\n",
       "    <tr>\n",
       "      <th>2</th>\n",
       "      <td>85.0</td>\n",
       "      <td>93957.0</td>\n",
       "      <td>AID FOR AIDS International</td>\n",
       "      <td>https://www.charitynavigator.org/index.cfm?bay...</td>\n",
       "      <td>New York</td>\n",
       "      <td>NaN</td>\n",
       "      <td>85000.0</td>\n",
       "      <td>0.99</td>\n",
       "      <td>Executive Director</td>\n",
       "      <td>-461502.0</td>\n",
       "      <td>...</td>\n",
       "      <td>-770370</td>\n",
       "      <td>0.0</td>\n",
       "      <td>80.96</td>\n",
       "      <td>0</td>\n",
       "      <td>8157850</td>\n",
       "      <td>NY</td>\n",
       "      <td>8039138</td>\n",
       "      <td>International</td>\n",
       "      <td>Development and Relief Services</td>\n",
       "      <td>2.0</td>\n",
       "    </tr>\n",
       "    <tr>\n",
       "      <th>3</th>\n",
       "      <td>86.0</td>\n",
       "      <td>346867.0</td>\n",
       "      <td>Futures in Education</td>\n",
       "      <td>https://www.charitynavigator.org/index.cfm?bay...</td>\n",
       "      <td>Brooklyn</td>\n",
       "      <td>NaN</td>\n",
       "      <td>61220.0</td>\n",
       "      <td>0.78</td>\n",
       "      <td>Acting Executive Director</td>\n",
       "      <td>1872733.0</td>\n",
       "      <td>...</td>\n",
       "      <td>11460087</td>\n",
       "      <td>-81726.0</td>\n",
       "      <td>89.94</td>\n",
       "      <td>0</td>\n",
       "      <td>7018262</td>\n",
       "      <td>NY</td>\n",
       "      <td>9704138</td>\n",
       "      <td>Education</td>\n",
       "      <td>Scholarship and Financial Support</td>\n",
       "      <td>1.0</td>\n",
       "    </tr>\n",
       "    <tr>\n",
       "      <th>4</th>\n",
       "      <td>97.0</td>\n",
       "      <td>135195.0</td>\n",
       "      <td>Every Generation Ministries</td>\n",
       "      <td>https://www.charitynavigator.org/index.cfm?bay...</td>\n",
       "      <td>Temecula</td>\n",
       "      <td>NaN</td>\n",
       "      <td>74244.0</td>\n",
       "      <td>5.41</td>\n",
       "      <td>President</td>\n",
       "      <td>-103940.0</td>\n",
       "      <td>...</td>\n",
       "      <td>723772</td>\n",
       "      <td>32436.0</td>\n",
       "      <td>90.62</td>\n",
       "      <td>0</td>\n",
       "      <td>1148407</td>\n",
       "      <td>CA</td>\n",
       "      <td>1234662</td>\n",
       "      <td>Religion</td>\n",
       "      <td>Religious Activities</td>\n",
       "      <td>3.0</td>\n",
       "    </tr>\n",
       "  </tbody>\n",
       "</table>\n",
       "<p>5 rows × 22 columns</p>\n",
       "</div>"
      ],
      "text/plain": [
       "   accountability_score  administrative_expenses  \\\n",
       "0                  89.0                 164590.0   \n",
       "1                  86.0                1001560.0   \n",
       "2                  85.0                  93957.0   \n",
       "3                  86.0                 346867.0   \n",
       "4                  97.0                 135195.0   \n",
       "\n",
       "                                 charity_name  \\\n",
       "0  9to5 National Association of Working Women   \n",
       "1                             'Aha Pūnana Leo   \n",
       "2                  AID FOR AIDS International   \n",
       "3                        Futures in Education   \n",
       "4                 Every Generation Ministries   \n",
       "\n",
       "                                         charity_url       city cn_advisory  \\\n",
       "0  https://www.charitynavigator.org/index.cfm?bay...  Milwaukee         NaN   \n",
       "1  https://www.charitynavigator.org/index.cfm?bay...       Hilo         NaN   \n",
       "2  https://www.charitynavigator.org/index.cfm?bay...   New York         NaN   \n",
       "3  https://www.charitynavigator.org/index.cfm?bay...   Brooklyn         NaN   \n",
       "4  https://www.charitynavigator.org/index.cfm?bay...   Temecula         NaN   \n",
       "\n",
       "   comp_leader_income  comp_leader_expense_pct          comp_leader_title  \\\n",
       "0             53463.0                     3.11         Executive Director   \n",
       "1             73500.0                     1.47         Executive Director   \n",
       "2             85000.0                     0.99         Executive Director   \n",
       "3             61220.0                     0.78  Acting Executive Director   \n",
       "4             74244.0                     5.41                  President   \n",
       "\n",
       "   excess_or_deficit_for_year     ...      net_assets  other_revenue  \\\n",
       "0                    349718.0     ...         1350382        49634.0   \n",
       "1                   1175965.0     ...        14773920       382540.0   \n",
       "2                   -461502.0     ...         -770370            0.0   \n",
       "3                   1872733.0     ...        11460087       -81726.0   \n",
       "4                   -103940.0     ...          723772        32436.0   \n",
       "\n",
       "   overall_score  payments_to_affiliates  program_expenses  state  \\\n",
       "0          89.75                       0           1440463     WI   \n",
       "1          85.95                       0           3912270     HI   \n",
       "2          80.96                       0           8157850     NY   \n",
       "3          89.94                       0           7018262     NY   \n",
       "4          90.62                       0           1148407     CA   \n",
       "\n",
       "   total_contributions                org_type  \\\n",
       "0              1999023  Human and Civil Rights   \n",
       "1              3339358               Education   \n",
       "2              8039138           International   \n",
       "3              9704138               Education   \n",
       "4              1234662                Religion   \n",
       "\n",
       "                            org_category org_type_id  \n",
       "0                 Advocacy and Education         0.0  \n",
       "1  Early Childhood Programs and Services         1.0  \n",
       "2        Development and Relief Services         2.0  \n",
       "3      Scholarship and Financial Support         1.0  \n",
       "4                   Religious Activities         3.0  \n",
       "\n",
       "[5 rows x 22 columns]"
      ]
     },
     "execution_count": 5,
     "metadata": {},
     "output_type": "execute_result"
    }
   ],
   "source": [
    "df.head()"
   ]
  },
  {
   "cell_type": "code",
   "execution_count": 6,
   "metadata": {},
   "outputs": [
    {
     "name": "stdout",
     "output_type": "stream",
     "text": [
      "<class 'pandas.core.frame.DataFrame'>\n",
      "RangeIndex: 7290 entries, 0 to 7289\n",
      "Data columns (total 22 columns):\n",
      "accountability_score          7290 non-null float64\n",
      "administrative_expenses       7290 non-null float64\n",
      "charity_name                  7288 non-null object\n",
      "charity_url                   7290 non-null object\n",
      "city                          7289 non-null object\n",
      "cn_advisory                   4 non-null object\n",
      "comp_leader_income            7290 non-null float64\n",
      "comp_leader_expense_pct       7290 non-null float64\n",
      "comp_leader_title             7290 non-null object\n",
      "excess_or_deficit_for_year    7290 non-null float64\n",
      "financial_score               7290 non-null float64\n",
      "fundraising_expenses          7290 non-null int64\n",
      "net_assets                    7290 non-null int64\n",
      "other_revenue                 7290 non-null float64\n",
      "overall_score                 7290 non-null float64\n",
      "payments_to_affiliates        7290 non-null int64\n",
      "program_expenses              7290 non-null int64\n",
      "state                         7290 non-null object\n",
      "total_contributions           7290 non-null int64\n",
      "org_type                      7290 non-null object\n",
      "org_category                  7290 non-null object\n",
      "org_type_id                   7290 non-null float64\n",
      "dtypes: float64(9), int64(5), object(8)\n",
      "memory usage: 1.2+ MB\n"
     ]
    }
   ],
   "source": [
    "df.info()"
   ]
  },
  {
   "cell_type": "code",
   "execution_count": 7,
   "metadata": {},
   "outputs": [
    {
     "data": {
      "text/html": [
       "<div>\n",
       "<style scoped>\n",
       "    .dataframe tbody tr th:only-of-type {\n",
       "        vertical-align: middle;\n",
       "    }\n",
       "\n",
       "    .dataframe tbody tr th {\n",
       "        vertical-align: top;\n",
       "    }\n",
       "\n",
       "    .dataframe thead th {\n",
       "        text-align: right;\n",
       "    }\n",
       "</style>\n",
       "<table border=\"1\" class=\"dataframe\">\n",
       "  <thead>\n",
       "    <tr style=\"text-align: right;\">\n",
       "      <th></th>\n",
       "      <th>accountability_score</th>\n",
       "      <th>administrative_expenses</th>\n",
       "      <th>comp_leader_income</th>\n",
       "      <th>comp_leader_expense_pct</th>\n",
       "      <th>excess_or_deficit_for_year</th>\n",
       "      <th>financial_score</th>\n",
       "      <th>fundraising_expenses</th>\n",
       "      <th>net_assets</th>\n",
       "      <th>other_revenue</th>\n",
       "      <th>overall_score</th>\n",
       "      <th>payments_to_affiliates</th>\n",
       "      <th>program_expenses</th>\n",
       "      <th>total_contributions</th>\n",
       "      <th>org_type_id</th>\n",
       "    </tr>\n",
       "  </thead>\n",
       "  <tbody>\n",
       "    <tr>\n",
       "      <th>count</th>\n",
       "      <td>7290.000000</td>\n",
       "      <td>7.290000e+03</td>\n",
       "      <td>7.290000e+03</td>\n",
       "      <td>7290.000000</td>\n",
       "      <td>7.290000e+03</td>\n",
       "      <td>7290.000000</td>\n",
       "      <td>7.290000e+03</td>\n",
       "      <td>7.290000e+03</td>\n",
       "      <td>7.290000e+03</td>\n",
       "      <td>7290.000000</td>\n",
       "      <td>7.290000e+03</td>\n",
       "      <td>7.290000e+03</td>\n",
       "      <td>7.290000e+03</td>\n",
       "      <td>7290.000000</td>\n",
       "    </tr>\n",
       "    <tr>\n",
       "      <th>mean</th>\n",
       "      <td>91.338683</td>\n",
       "      <td>1.294414e+06</td>\n",
       "      <td>1.659498e+05</td>\n",
       "      <td>3.543462</td>\n",
       "      <td>9.060532e+05</td>\n",
       "      <td>85.966429</td>\n",
       "      <td>1.070673e+06</td>\n",
       "      <td>3.219307e+07</td>\n",
       "      <td>1.190769e+06</td>\n",
       "      <td>87.178483</td>\n",
       "      <td>1.977978e+04</td>\n",
       "      <td>1.345123e+07</td>\n",
       "      <td>1.286215e+07</td>\n",
       "      <td>5.705898</td>\n",
       "    </tr>\n",
       "    <tr>\n",
       "      <th>std</th>\n",
       "      <td>8.873393</td>\n",
       "      <td>6.049582e+06</td>\n",
       "      <td>1.298927e+05</td>\n",
       "      <td>2.384256</td>\n",
       "      <td>1.180910e+07</td>\n",
       "      <td>9.940291</td>\n",
       "      <td>6.142220e+06</td>\n",
       "      <td>1.752289e+08</td>\n",
       "      <td>7.803896e+06</td>\n",
       "      <td>7.777421</td>\n",
       "      <td>2.624573e+05</td>\n",
       "      <td>6.457635e+07</td>\n",
       "      <td>6.028956e+07</td>\n",
       "      <td>2.727216</td>\n",
       "    </tr>\n",
       "    <tr>\n",
       "      <th>min</th>\n",
       "      <td>24.000000</td>\n",
       "      <td>9.440000e+02</td>\n",
       "      <td>1.000000e+00</td>\n",
       "      <td>0.000000</td>\n",
       "      <td>-2.691435e+08</td>\n",
       "      <td>0.000000</td>\n",
       "      <td>1.301000e+03</td>\n",
       "      <td>-1.290334e+07</td>\n",
       "      <td>-1.391081e+07</td>\n",
       "      <td>18.950000</td>\n",
       "      <td>-4.101700e+04</td>\n",
       "      <td>7.718300e+04</td>\n",
       "      <td>9.063000e+04</td>\n",
       "      <td>0.000000</td>\n",
       "    </tr>\n",
       "    <tr>\n",
       "      <th>25%</th>\n",
       "      <td>89.000000</td>\n",
       "      <td>1.945552e+05</td>\n",
       "      <td>9.155775e+04</td>\n",
       "      <td>1.610000</td>\n",
       "      <td>-2.368478e+05</td>\n",
       "      <td>81.180000</td>\n",
       "      <td>1.605952e+05</td>\n",
       "      <td>2.088086e+06</td>\n",
       "      <td>1.116200e+04</td>\n",
       "      <td>83.730000</td>\n",
       "      <td>0.000000e+00</td>\n",
       "      <td>1.683411e+06</td>\n",
       "      <td>1.701188e+06</td>\n",
       "      <td>4.000000</td>\n",
       "    </tr>\n",
       "    <tr>\n",
       "      <th>50%</th>\n",
       "      <td>93.000000</td>\n",
       "      <td>3.732055e+05</td>\n",
       "      <td>1.311865e+05</td>\n",
       "      <td>3.150000</td>\n",
       "      <td>6.882200e+04</td>\n",
       "      <td>87.500000</td>\n",
       "      <td>3.264685e+05</td>\n",
       "      <td>5.658102e+06</td>\n",
       "      <td>1.145770e+05</td>\n",
       "      <td>88.530000</td>\n",
       "      <td>0.000000e+00</td>\n",
       "      <td>3.211320e+06</td>\n",
       "      <td>3.273303e+06</td>\n",
       "      <td>7.000000</td>\n",
       "    </tr>\n",
       "    <tr>\n",
       "      <th>75%</th>\n",
       "      <td>97.000000</td>\n",
       "      <td>8.588372e+05</td>\n",
       "      <td>1.977418e+05</td>\n",
       "      <td>5.120000</td>\n",
       "      <td>6.325405e+05</td>\n",
       "      <td>92.500000</td>\n",
       "      <td>7.113882e+05</td>\n",
       "      <td>1.631770e+07</td>\n",
       "      <td>4.977250e+05</td>\n",
       "      <td>92.020000</td>\n",
       "      <td>0.000000e+00</td>\n",
       "      <td>7.953149e+06</td>\n",
       "      <td>7.657308e+06</td>\n",
       "      <td>8.000000</td>\n",
       "    </tr>\n",
       "    <tr>\n",
       "      <th>max</th>\n",
       "      <td>100.000000</td>\n",
       "      <td>2.569202e+08</td>\n",
       "      <td>2.013535e+06</td>\n",
       "      <td>9.990000</td>\n",
       "      <td>4.531299e+08</td>\n",
       "      <td>100.000000</td>\n",
       "      <td>3.377669e+08</td>\n",
       "      <td>7.551342e+09</td>\n",
       "      <td>3.903250e+08</td>\n",
       "      <td>100.000000</td>\n",
       "      <td>1.679144e+07</td>\n",
       "      <td>2.499301e+09</td>\n",
       "      <td>2.379130e+09</td>\n",
       "      <td>10.000000</td>\n",
       "    </tr>\n",
       "  </tbody>\n",
       "</table>\n",
       "</div>"
      ],
      "text/plain": [
       "       accountability_score  administrative_expenses  comp_leader_income  \\\n",
       "count           7290.000000             7.290000e+03        7.290000e+03   \n",
       "mean              91.338683             1.294414e+06        1.659498e+05   \n",
       "std                8.873393             6.049582e+06        1.298927e+05   \n",
       "min               24.000000             9.440000e+02        1.000000e+00   \n",
       "25%               89.000000             1.945552e+05        9.155775e+04   \n",
       "50%               93.000000             3.732055e+05        1.311865e+05   \n",
       "75%               97.000000             8.588372e+05        1.977418e+05   \n",
       "max              100.000000             2.569202e+08        2.013535e+06   \n",
       "\n",
       "       comp_leader_expense_pct  excess_or_deficit_for_year  financial_score  \\\n",
       "count              7290.000000                7.290000e+03      7290.000000   \n",
       "mean                  3.543462                9.060532e+05        85.966429   \n",
       "std                   2.384256                1.180910e+07         9.940291   \n",
       "min                   0.000000               -2.691435e+08         0.000000   \n",
       "25%                   1.610000               -2.368478e+05        81.180000   \n",
       "50%                   3.150000                6.882200e+04        87.500000   \n",
       "75%                   5.120000                6.325405e+05        92.500000   \n",
       "max                   9.990000                4.531299e+08       100.000000   \n",
       "\n",
       "       fundraising_expenses    net_assets  other_revenue  overall_score  \\\n",
       "count          7.290000e+03  7.290000e+03   7.290000e+03    7290.000000   \n",
       "mean           1.070673e+06  3.219307e+07   1.190769e+06      87.178483   \n",
       "std            6.142220e+06  1.752289e+08   7.803896e+06       7.777421   \n",
       "min            1.301000e+03 -1.290334e+07  -1.391081e+07      18.950000   \n",
       "25%            1.605952e+05  2.088086e+06   1.116200e+04      83.730000   \n",
       "50%            3.264685e+05  5.658102e+06   1.145770e+05      88.530000   \n",
       "75%            7.113882e+05  1.631770e+07   4.977250e+05      92.020000   \n",
       "max            3.377669e+08  7.551342e+09   3.903250e+08     100.000000   \n",
       "\n",
       "       payments_to_affiliates  program_expenses  total_contributions  \\\n",
       "count            7.290000e+03      7.290000e+03         7.290000e+03   \n",
       "mean             1.977978e+04      1.345123e+07         1.286215e+07   \n",
       "std              2.624573e+05      6.457635e+07         6.028956e+07   \n",
       "min             -4.101700e+04      7.718300e+04         9.063000e+04   \n",
       "25%              0.000000e+00      1.683411e+06         1.701188e+06   \n",
       "50%              0.000000e+00      3.211320e+06         3.273303e+06   \n",
       "75%              0.000000e+00      7.953149e+06         7.657308e+06   \n",
       "max              1.679144e+07      2.499301e+09         2.379130e+09   \n",
       "\n",
       "       org_type_id  \n",
       "count  7290.000000  \n",
       "mean      5.705898  \n",
       "std       2.727216  \n",
       "min       0.000000  \n",
       "25%       4.000000  \n",
       "50%       7.000000  \n",
       "75%       8.000000  \n",
       "max      10.000000  "
      ]
     },
     "execution_count": 7,
     "metadata": {},
     "output_type": "execute_result"
    }
   ],
   "source": [
    "df.describe()"
   ]
  },
  {
   "cell_type": "markdown",
   "metadata": {},
   "source": [
    "Add dummy variables for organization type."
   ]
  },
  {
   "cell_type": "code",
   "execution_count": 8,
   "metadata": {},
   "outputs": [],
   "source": [
    "org_type_dummies = pd.get_dummies(df.org_type)\n",
    "df = pd.concat([df, org_type_dummies], axis = 1, join = 'outer')"
   ]
  },
  {
   "cell_type": "markdown",
   "metadata": {},
   "source": [
    "Drop non-numerical variables from the dataframe."
   ]
  },
  {
   "cell_type": "code",
   "execution_count": 9,
   "metadata": {},
   "outputs": [
    {
     "data": {
      "text/html": [
       "<div>\n",
       "<style scoped>\n",
       "    .dataframe tbody tr th:only-of-type {\n",
       "        vertical-align: middle;\n",
       "    }\n",
       "\n",
       "    .dataframe tbody tr th {\n",
       "        vertical-align: top;\n",
       "    }\n",
       "\n",
       "    .dataframe thead th {\n",
       "        text-align: right;\n",
       "    }\n",
       "</style>\n",
       "<table border=\"1\" class=\"dataframe\">\n",
       "  <thead>\n",
       "    <tr style=\"text-align: right;\">\n",
       "      <th></th>\n",
       "      <th>accountability_score</th>\n",
       "      <th>administrative_expenses</th>\n",
       "      <th>comp_leader_income</th>\n",
       "      <th>comp_leader_expense_pct</th>\n",
       "      <th>excess_or_deficit_for_year</th>\n",
       "      <th>financial_score</th>\n",
       "      <th>fundraising_expenses</th>\n",
       "      <th>net_assets</th>\n",
       "      <th>other_revenue</th>\n",
       "      <th>overall_score</th>\n",
       "      <th>...</th>\n",
       "      <th>Arts, Culture, Humanities</th>\n",
       "      <th>Community Development</th>\n",
       "      <th>Education</th>\n",
       "      <th>Environment</th>\n",
       "      <th>Health</th>\n",
       "      <th>Human Services</th>\n",
       "      <th>Human and Civil Rights</th>\n",
       "      <th>International</th>\n",
       "      <th>Religion</th>\n",
       "      <th>Research and Public Policy</th>\n",
       "    </tr>\n",
       "  </thead>\n",
       "  <tbody>\n",
       "    <tr>\n",
       "      <th>0</th>\n",
       "      <td>89.0</td>\n",
       "      <td>164590.0</td>\n",
       "      <td>53463.0</td>\n",
       "      <td>3.11</td>\n",
       "      <td>349718.0</td>\n",
       "      <td>90.56</td>\n",
       "      <td>111522</td>\n",
       "      <td>1350382</td>\n",
       "      <td>49634.0</td>\n",
       "      <td>89.75</td>\n",
       "      <td>...</td>\n",
       "      <td>0</td>\n",
       "      <td>0</td>\n",
       "      <td>0</td>\n",
       "      <td>0</td>\n",
       "      <td>0</td>\n",
       "      <td>0</td>\n",
       "      <td>1</td>\n",
       "      <td>0</td>\n",
       "      <td>0</td>\n",
       "      <td>0</td>\n",
       "    </tr>\n",
       "    <tr>\n",
       "      <th>1</th>\n",
       "      <td>86.0</td>\n",
       "      <td>1001560.0</td>\n",
       "      <td>73500.0</td>\n",
       "      <td>1.47</td>\n",
       "      <td>1175965.0</td>\n",
       "      <td>85.92</td>\n",
       "      <td>54613</td>\n",
       "      <td>14773920</td>\n",
       "      <td>382540.0</td>\n",
       "      <td>85.95</td>\n",
       "      <td>...</td>\n",
       "      <td>0</td>\n",
       "      <td>0</td>\n",
       "      <td>1</td>\n",
       "      <td>0</td>\n",
       "      <td>0</td>\n",
       "      <td>0</td>\n",
       "      <td>0</td>\n",
       "      <td>0</td>\n",
       "      <td>0</td>\n",
       "      <td>0</td>\n",
       "    </tr>\n",
       "    <tr>\n",
       "      <th>2</th>\n",
       "      <td>85.0</td>\n",
       "      <td>93957.0</td>\n",
       "      <td>85000.0</td>\n",
       "      <td>0.99</td>\n",
       "      <td>-461502.0</td>\n",
       "      <td>77.65</td>\n",
       "      <td>248833</td>\n",
       "      <td>-770370</td>\n",
       "      <td>0.0</td>\n",
       "      <td>80.96</td>\n",
       "      <td>...</td>\n",
       "      <td>0</td>\n",
       "      <td>0</td>\n",
       "      <td>0</td>\n",
       "      <td>0</td>\n",
       "      <td>0</td>\n",
       "      <td>0</td>\n",
       "      <td>0</td>\n",
       "      <td>1</td>\n",
       "      <td>0</td>\n",
       "      <td>0</td>\n",
       "    </tr>\n",
       "    <tr>\n",
       "      <th>3</th>\n",
       "      <td>86.0</td>\n",
       "      <td>346867.0</td>\n",
       "      <td>61220.0</td>\n",
       "      <td>0.78</td>\n",
       "      <td>1872733.0</td>\n",
       "      <td>97.50</td>\n",
       "      <td>384550</td>\n",
       "      <td>11460087</td>\n",
       "      <td>-81726.0</td>\n",
       "      <td>89.94</td>\n",
       "      <td>...</td>\n",
       "      <td>0</td>\n",
       "      <td>0</td>\n",
       "      <td>1</td>\n",
       "      <td>0</td>\n",
       "      <td>0</td>\n",
       "      <td>0</td>\n",
       "      <td>0</td>\n",
       "      <td>0</td>\n",
       "      <td>0</td>\n",
       "      <td>0</td>\n",
       "    </tr>\n",
       "    <tr>\n",
       "      <th>4</th>\n",
       "      <td>97.0</td>\n",
       "      <td>135195.0</td>\n",
       "      <td>74244.0</td>\n",
       "      <td>5.41</td>\n",
       "      <td>-103940.0</td>\n",
       "      <td>87.08</td>\n",
       "      <td>87436</td>\n",
       "      <td>723772</td>\n",
       "      <td>32436.0</td>\n",
       "      <td>90.62</td>\n",
       "      <td>...</td>\n",
       "      <td>0</td>\n",
       "      <td>0</td>\n",
       "      <td>0</td>\n",
       "      <td>0</td>\n",
       "      <td>0</td>\n",
       "      <td>0</td>\n",
       "      <td>0</td>\n",
       "      <td>0</td>\n",
       "      <td>1</td>\n",
       "      <td>0</td>\n",
       "    </tr>\n",
       "  </tbody>\n",
       "</table>\n",
       "<p>5 rows × 25 columns</p>\n",
       "</div>"
      ],
      "text/plain": [
       "   accountability_score  administrative_expenses  comp_leader_income  \\\n",
       "0                  89.0                 164590.0             53463.0   \n",
       "1                  86.0                1001560.0             73500.0   \n",
       "2                  85.0                  93957.0             85000.0   \n",
       "3                  86.0                 346867.0             61220.0   \n",
       "4                  97.0                 135195.0             74244.0   \n",
       "\n",
       "   comp_leader_expense_pct  excess_or_deficit_for_year  financial_score  \\\n",
       "0                     3.11                    349718.0            90.56   \n",
       "1                     1.47                   1175965.0            85.92   \n",
       "2                     0.99                   -461502.0            77.65   \n",
       "3                     0.78                   1872733.0            97.50   \n",
       "4                     5.41                   -103940.0            87.08   \n",
       "\n",
       "   fundraising_expenses  net_assets  other_revenue  overall_score  \\\n",
       "0                111522     1350382        49634.0          89.75   \n",
       "1                 54613    14773920       382540.0          85.95   \n",
       "2                248833     -770370            0.0          80.96   \n",
       "3                384550    11460087       -81726.0          89.94   \n",
       "4                 87436      723772        32436.0          90.62   \n",
       "\n",
       "              ...              Arts, Culture, Humanities  \\\n",
       "0             ...                                      0   \n",
       "1             ...                                      0   \n",
       "2             ...                                      0   \n",
       "3             ...                                      0   \n",
       "4             ...                                      0   \n",
       "\n",
       "   Community Development  Education  Environment  Health  Human Services  \\\n",
       "0                      0          0            0       0               0   \n",
       "1                      0          1            0       0               0   \n",
       "2                      0          0            0       0               0   \n",
       "3                      0          1            0       0               0   \n",
       "4                      0          0            0       0               0   \n",
       "\n",
       "   Human and Civil Rights  International  Religion  Research and Public Policy  \n",
       "0                       1              0         0                           0  \n",
       "1                       0              0         0                           0  \n",
       "2                       0              1         0                           0  \n",
       "3                       0              0         0                           0  \n",
       "4                       0              0         1                           0  \n",
       "\n",
       "[5 rows x 25 columns]"
      ]
     },
     "execution_count": 9,
     "metadata": {},
     "output_type": "execute_result"
    }
   ],
   "source": [
    "df.drop(['charity_name', 'charity_url', \n",
    "          'city', 'cn_advisory', \n",
    "          'state', 'org_type',\n",
    "          'org_category', 'comp_leader_title'], \n",
    "         axis = 1, inplace = True)\n",
    "df.head()"
   ]
  },
  {
   "cell_type": "markdown",
   "metadata": {},
   "source": [
    "## **Predicting compensation leader income for US charities**"
   ]
  },
  {
   "cell_type": "markdown",
   "metadata": {},
   "source": [
    "### **Train Test Split**"
   ]
  },
  {
   "cell_type": "code",
   "execution_count": 10,
   "metadata": {},
   "outputs": [],
   "source": [
    "from sklearn.model_selection import train_test_split"
   ]
  },
  {
   "cell_type": "markdown",
   "metadata": {},
   "source": [
    "All numerical features including org type dummy variables are included (with the exception of compensation leader expense percent)."
   ]
  },
  {
   "cell_type": "code",
   "execution_count": 11,
   "metadata": {},
   "outputs": [],
   "source": [
    "feature_names = ['accountability_score', 'financial_score',\n",
    "                 'overall_score', 'administrative_expenses',\n",
    "                 'excess_or_deficit_for_year', 'fundraising_expenses',\n",
    "                 'net_assets', 'other_revenue',\n",
    "                 'payments_to_affiliates', 'Animals',\n",
    "                 'Arts, Culture, Humanities', 'Community Development',\n",
    "                 'Education', 'Environment',\n",
    "                 'Health', 'Human Services',\n",
    "                 'Human and Civil Rights', 'International',\n",
    "                 'Religion', 'Research and Public Policy']\n",
    "X = df[feature_names]\n",
    "y = df['comp_leader_income']\n",
    "\n",
    "X_train, X_test, y_train, y_test = train_test_split(X, y, test_size = 0.4, random_state = 101)"
   ]
  },
  {
   "cell_type": "markdown",
   "metadata": {},
   "source": [
    "### **Standard Scaler**"
   ]
  },
  {
   "cell_type": "markdown",
   "metadata": {},
   "source": [
    "First use a standard scaler to level all features in the model."
   ]
  },
  {
   "cell_type": "code",
   "execution_count": 12,
   "metadata": {},
   "outputs": [],
   "source": [
    "from sklearn.preprocessing import StandardScaler"
   ]
  },
  {
   "cell_type": "code",
   "execution_count": 13,
   "metadata": {},
   "outputs": [],
   "source": [
    "scaler = StandardScaler()\n",
    "X_train_scaled = scaler.fit_transform(X_train)\n",
    "X_test_scaled = scaler.transform(X_test)"
   ]
  },
  {
   "cell_type": "markdown",
   "metadata": {},
   "source": [
    "Create a dataframe to see scaled features."
   ]
  },
  {
   "cell_type": "code",
   "execution_count": 14,
   "metadata": {},
   "outputs": [
    {
     "data": {
      "text/html": [
       "<div>\n",
       "<style scoped>\n",
       "    .dataframe tbody tr th:only-of-type {\n",
       "        vertical-align: middle;\n",
       "    }\n",
       "\n",
       "    .dataframe tbody tr th {\n",
       "        vertical-align: top;\n",
       "    }\n",
       "\n",
       "    .dataframe thead th {\n",
       "        text-align: right;\n",
       "    }\n",
       "</style>\n",
       "<table border=\"1\" class=\"dataframe\">\n",
       "  <thead>\n",
       "    <tr style=\"text-align: right;\">\n",
       "      <th></th>\n",
       "      <th>accountability_score</th>\n",
       "      <th>financial_score</th>\n",
       "      <th>overall_score</th>\n",
       "      <th>administrative_expenses</th>\n",
       "      <th>excess_or_deficit_for_year</th>\n",
       "      <th>fundraising_expenses</th>\n",
       "      <th>net_assets</th>\n",
       "      <th>other_revenue</th>\n",
       "      <th>payments_to_affiliates</th>\n",
       "      <th>Animals</th>\n",
       "      <th>Arts, Culture, Humanities</th>\n",
       "      <th>Community Development</th>\n",
       "      <th>Education</th>\n",
       "      <th>Environment</th>\n",
       "      <th>Health</th>\n",
       "      <th>Human Services</th>\n",
       "      <th>Human and Civil Rights</th>\n",
       "      <th>International</th>\n",
       "      <th>Religion</th>\n",
       "      <th>Research and Public Policy</th>\n",
       "    </tr>\n",
       "  </thead>\n",
       "  <tbody>\n",
       "    <tr>\n",
       "      <th>0</th>\n",
       "      <td>0.523977</td>\n",
       "      <td>0.794084</td>\n",
       "      <td>0.977527</td>\n",
       "      <td>1.416871</td>\n",
       "      <td>0.934873</td>\n",
       "      <td>0.885268</td>\n",
       "      <td>0.290553</td>\n",
       "      <td>-0.089992</td>\n",
       "      <td>-0.075257</td>\n",
       "      <td>-0.243064</td>\n",
       "      <td>2.419876</td>\n",
       "      <td>-0.325487</td>\n",
       "      <td>-0.283784</td>\n",
       "      <td>-0.235588</td>\n",
       "      <td>-0.336121</td>\n",
       "      <td>-0.640713</td>\n",
       "      <td>-0.207767</td>\n",
       "      <td>-0.268927</td>\n",
       "      <td>-0.237206</td>\n",
       "      <td>-0.145763</td>\n",
       "    </tr>\n",
       "    <tr>\n",
       "      <th>1</th>\n",
       "      <td>0.971347</td>\n",
       "      <td>0.136413</td>\n",
       "      <td>0.490523</td>\n",
       "      <td>-0.150319</td>\n",
       "      <td>-0.210251</td>\n",
       "      <td>0.024736</td>\n",
       "      <td>-0.116007</td>\n",
       "      <td>-0.299356</td>\n",
       "      <td>-0.075257</td>\n",
       "      <td>-0.243064</td>\n",
       "      <td>-0.413244</td>\n",
       "      <td>-0.325487</td>\n",
       "      <td>-0.283784</td>\n",
       "      <td>-0.235588</td>\n",
       "      <td>-0.336121</td>\n",
       "      <td>1.560762</td>\n",
       "      <td>-0.207767</td>\n",
       "      <td>-0.268927</td>\n",
       "      <td>-0.237206</td>\n",
       "      <td>-0.145763</td>\n",
       "    </tr>\n",
       "    <tr>\n",
       "      <th>2</th>\n",
       "      <td>0.971347</td>\n",
       "      <td>-0.355110</td>\n",
       "      <td>0.046528</td>\n",
       "      <td>-0.101158</td>\n",
       "      <td>-0.043167</td>\n",
       "      <td>-0.106470</td>\n",
       "      <td>-0.118849</td>\n",
       "      <td>-0.136323</td>\n",
       "      <td>-0.075257</td>\n",
       "      <td>4.114150</td>\n",
       "      <td>-0.413244</td>\n",
       "      <td>-0.325487</td>\n",
       "      <td>-0.283784</td>\n",
       "      <td>-0.235588</td>\n",
       "      <td>-0.336121</td>\n",
       "      <td>-0.640713</td>\n",
       "      <td>-0.207767</td>\n",
       "      <td>-0.268927</td>\n",
       "      <td>-0.237206</td>\n",
       "      <td>-0.145763</td>\n",
       "    </tr>\n",
       "    <tr>\n",
       "      <th>3</th>\n",
       "      <td>-3.166823</td>\n",
       "      <td>-2.782065</td>\n",
       "      <td>-3.394119</td>\n",
       "      <td>-0.120767</td>\n",
       "      <td>-0.111231</td>\n",
       "      <td>-0.074416</td>\n",
       "      <td>-0.147770</td>\n",
       "      <td>-0.153193</td>\n",
       "      <td>-0.075257</td>\n",
       "      <td>-0.243064</td>\n",
       "      <td>-0.413244</td>\n",
       "      <td>-0.325487</td>\n",
       "      <td>-0.283784</td>\n",
       "      <td>-0.235588</td>\n",
       "      <td>-0.336121</td>\n",
       "      <td>1.560762</td>\n",
       "      <td>-0.207767</td>\n",
       "      <td>-0.268927</td>\n",
       "      <td>-0.237206</td>\n",
       "      <td>-0.145763</td>\n",
       "    </tr>\n",
       "    <tr>\n",
       "      <th>4</th>\n",
       "      <td>0.188450</td>\n",
       "      <td>0.008835</td>\n",
       "      <td>0.227415</td>\n",
       "      <td>0.377612</td>\n",
       "      <td>-0.450363</td>\n",
       "      <td>0.032822</td>\n",
       "      <td>0.547113</td>\n",
       "      <td>0.209070</td>\n",
       "      <td>-0.075257</td>\n",
       "      <td>-0.243064</td>\n",
       "      <td>2.419876</td>\n",
       "      <td>-0.325487</td>\n",
       "      <td>-0.283784</td>\n",
       "      <td>-0.235588</td>\n",
       "      <td>-0.336121</td>\n",
       "      <td>-0.640713</td>\n",
       "      <td>-0.207767</td>\n",
       "      <td>-0.268927</td>\n",
       "      <td>-0.237206</td>\n",
       "      <td>-0.145763</td>\n",
       "    </tr>\n",
       "  </tbody>\n",
       "</table>\n",
       "</div>"
      ],
      "text/plain": [
       "   accountability_score  financial_score  overall_score  \\\n",
       "0              0.523977         0.794084       0.977527   \n",
       "1              0.971347         0.136413       0.490523   \n",
       "2              0.971347        -0.355110       0.046528   \n",
       "3             -3.166823        -2.782065      -3.394119   \n",
       "4              0.188450         0.008835       0.227415   \n",
       "\n",
       "   administrative_expenses  excess_or_deficit_for_year  fundraising_expenses  \\\n",
       "0                 1.416871                    0.934873              0.885268   \n",
       "1                -0.150319                   -0.210251              0.024736   \n",
       "2                -0.101158                   -0.043167             -0.106470   \n",
       "3                -0.120767                   -0.111231             -0.074416   \n",
       "4                 0.377612                   -0.450363              0.032822   \n",
       "\n",
       "   net_assets  other_revenue  payments_to_affiliates   Animals  \\\n",
       "0    0.290553      -0.089992               -0.075257 -0.243064   \n",
       "1   -0.116007      -0.299356               -0.075257 -0.243064   \n",
       "2   -0.118849      -0.136323               -0.075257  4.114150   \n",
       "3   -0.147770      -0.153193               -0.075257 -0.243064   \n",
       "4    0.547113       0.209070               -0.075257 -0.243064   \n",
       "\n",
       "   Arts, Culture, Humanities  Community Development  Education  Environment  \\\n",
       "0                   2.419876              -0.325487  -0.283784    -0.235588   \n",
       "1                  -0.413244              -0.325487  -0.283784    -0.235588   \n",
       "2                  -0.413244              -0.325487  -0.283784    -0.235588   \n",
       "3                  -0.413244              -0.325487  -0.283784    -0.235588   \n",
       "4                   2.419876              -0.325487  -0.283784    -0.235588   \n",
       "\n",
       "     Health  Human Services  Human and Civil Rights  International  Religion  \\\n",
       "0 -0.336121       -0.640713               -0.207767      -0.268927 -0.237206   \n",
       "1 -0.336121        1.560762               -0.207767      -0.268927 -0.237206   \n",
       "2 -0.336121       -0.640713               -0.207767      -0.268927 -0.237206   \n",
       "3 -0.336121        1.560762               -0.207767      -0.268927 -0.237206   \n",
       "4 -0.336121       -0.640713               -0.207767      -0.268927 -0.237206   \n",
       "\n",
       "   Research and Public Policy  \n",
       "0                   -0.145763  \n",
       "1                   -0.145763  \n",
       "2                   -0.145763  \n",
       "3                   -0.145763  \n",
       "4                   -0.145763  "
      ]
     },
     "execution_count": 14,
     "metadata": {},
     "output_type": "execute_result"
    }
   ],
   "source": [
    "df_scaled = pd.DataFrame(X_train_scaled, columns = X.columns)\n",
    "df_scaled.head()"
   ]
  },
  {
   "cell_type": "markdown",
   "metadata": {},
   "source": [
    "### **Linear Regression**\n",
    "\n",
    "#### *Will simple linear regression allow for an accurate model to predict compensation leader income?*"
   ]
  },
  {
   "cell_type": "code",
   "execution_count": 15,
   "metadata": {},
   "outputs": [],
   "source": [
    "from sklearn.linear_model import LinearRegression\n",
    "from sklearn import metrics"
   ]
  },
  {
   "cell_type": "markdown",
   "metadata": {},
   "source": [
    "Instantiate LinearRegression() and fit our data to a new model."
   ]
  },
  {
   "cell_type": "code",
   "execution_count": 16,
   "metadata": {},
   "outputs": [],
   "source": [
    "linreg = LinearRegression()\n",
    "linreg.fit(X_train_scaled, y_train)\n",
    "y_pred = linreg.predict(X_test_scaled).round().astype(int)"
   ]
  },
  {
   "cell_type": "markdown",
   "metadata": {},
   "source": [
    "*Is there a linear relationship between our test values and our predicted values?*"
   ]
  },
  {
   "cell_type": "code",
   "execution_count": 17,
   "metadata": {},
   "outputs": [
    {
     "data": {
      "image/png": "[encoded data removed]",
      "text/plain": [
       "<Figure size 432x432 with 3 Axes>"
      ]
     },
     "metadata": {},
     "output_type": "display_data"
    }
   ],
   "source": [
    "ax = sns.jointplot(x = y_test, y = y_pred, \n",
    "                   kind = 'reg', size = 6, ratio = 6, \n",
    "                   joint_kws={'color': 'skyblue'});\n",
    "ax.set_axis_labels('Y Test', 'Predicted Y')\n",
    "regline = ax.ax_joint.get_lines()[0]\n",
    "regline.set_color('red')"
   ]
  },
  {
   "cell_type": "markdown",
   "metadata": {},
   "source": [
    "*What is the distribution of our prediction errors?*"
   ]
  },
  {
   "cell_type": "code",
   "execution_count": 18,
   "metadata": {},
   "outputs": [
    {
     "data": {
      "image/png": "[encoded data removed]",
      "text/plain": [
       "<Figure size 648x360 with 1 Axes>"
      ]
     },
     "metadata": {},
     "output_type": "display_data"
    }
   ],
   "source": [
    "plt.figure(figsize = (9, 5))\n",
    "ax = sns.distplot((y_test - y_pred), bins = 25)\n",
    "ax.xaxis.set_tick_params(which = 'both', rotation = 45)"
   ]
  },
  {
   "cell_type": "code",
   "execution_count": 19,
   "metadata": {},
   "outputs": [
    {
     "name": "stdout",
     "output_type": "stream",
     "text": [
      "Simple Linear Regression Coefficients\n",
      "Polynomial Degree 1\n",
      "Alpha = 0\n",
      "Intercept: 165355.8902\n",
      "Total Non-Zero Coefficients: 20\n",
      "\n",
      "                             Coefficient\n",
      "accountability_score        1.623731e+04\n",
      "financial_score             6.258948e+03\n",
      "overall_score              -8.354225e+02\n",
      "administrative_expenses     3.385637e+04\n",
      "excess_or_deficit_for_year  7.084418e+03\n",
      "fundraising_expenses        4.260454e+03\n",
      "net_assets                  1.065589e+03\n",
      "other_revenue               1.695243e+04\n",
      "payments_to_affiliates      1.301773e+04\n",
      "Animals                     1.069318e+17\n",
      "Arts, Culture, Humanities   1.644563e+17\n",
      "Community Development       1.371251e+17\n",
      "Education                   1.223674e+17\n",
      "Environment                 1.039945e+17\n",
      "Health                      1.407099e+17\n",
      "Human Services              2.116420e+17\n",
      "Human and Civil Rights      9.279797e+16\n",
      "International               1.168489e+17\n",
      "Religion                    1.046327e+17\n",
      "Research and Public Policy  6.650151e+16\n"
     ]
    }
   ],
   "source": [
    "print('Simple Linear Regression Coefficients\\nPolynomial Degree 1\\nAlpha = 0')\n",
    "print('Intercept:', linreg.intercept_.round(4))\n",
    "print('Total Non-Zero Coefficients: {}\\n'.format(len(linreg.coef_.round(4))))\n",
    "cdf = pd.DataFrame(linreg.coef_.round(4), X.columns, columns = ['Coefficient'])\n",
    "print(cdf)"
   ]
  },
  {
   "cell_type": "markdown",
   "metadata": {},
   "source": [
    "*What is the average magnitude of the coefficients in this model?*"
   ]
  },
  {
   "cell_type": "code",
   "execution_count": 20,
   "metadata": {},
   "outputs": [
    {
     "data": {
      "text/plain": [
       "6.8400404476219816e+16"
      ]
     },
     "execution_count": 20,
     "metadata": {},
     "output_type": "execute_result"
    }
   ],
   "source": [
    "abs(cdf['Coefficient']).mean().round(4)"
   ]
  },
  {
   "cell_type": "markdown",
   "metadata": {},
   "source": [
    "*Which coefficient in this model has the strongest magnitude?*"
   ]
  },
  {
   "cell_type": "code",
   "execution_count": 21,
   "metadata": {},
   "outputs": [
    {
     "data": {
      "text/html": [
       "<div>\n",
       "<style scoped>\n",
       "    .dataframe tbody tr th:only-of-type {\n",
       "        vertical-align: middle;\n",
       "    }\n",
       "\n",
       "    .dataframe tbody tr th {\n",
       "        vertical-align: top;\n",
       "    }\n",
       "\n",
       "    .dataframe thead th {\n",
       "        text-align: right;\n",
       "    }\n",
       "</style>\n",
       "<table border=\"1\" class=\"dataframe\">\n",
       "  <thead>\n",
       "    <tr style=\"text-align: right;\">\n",
       "      <th></th>\n",
       "      <th>Coefficient</th>\n",
       "    </tr>\n",
       "  </thead>\n",
       "  <tbody>\n",
       "    <tr>\n",
       "      <th>Human Services</th>\n",
       "      <td>2.116420e+17</td>\n",
       "    </tr>\n",
       "  </tbody>\n",
       "</table>\n",
       "</div>"
      ],
      "text/plain": [
       "                 Coefficient\n",
       "Human Services  2.116420e+17"
      ]
     },
     "execution_count": 21,
     "metadata": {},
     "output_type": "execute_result"
    }
   ],
   "source": [
    "cdf[cdf['Coefficient'] == abs(cdf['Coefficient']).max()]"
   ]
  },
  {
   "cell_type": "code",
   "execution_count": 22,
   "metadata": {},
   "outputs": [
    {
     "name": "stdout",
     "output_type": "stream",
     "text": [
      "Train R^2: 0.2478\n",
      "Test  R^2: 0.175\n",
      "MAE:       71917.2075\n",
      "MSE:       13494225760.5737\n",
      "RMSE:      116164.6494\n"
     ]
    }
   ],
   "source": [
    "print('Train R^2:', linreg.score(X_train_scaled, y_train).round(4))\n",
    "print('Test  R^2:', linreg.score(X_test_scaled, y_test).round(4))\n",
    "print('MAE:      ', metrics.mean_absolute_error(y_test, y_pred).round(4))\n",
    "print('MSE:      ', metrics.mean_squared_error(y_test, y_pred).round(4))\n",
    "print('RMSE:     ', np.sqrt(metrics.mean_squared_error(y_test, y_pred)).round(4))"
   ]
  },
  {
   "cell_type": "markdown",
   "metadata": {},
   "source": [
    "At 0.175, our Test $R^2$ score is very low.\n",
    "\n",
    "*Will changing the polynomial degree allow for an increase in our model score?*"
   ]
  },
  {
   "cell_type": "code",
   "execution_count": 23,
   "metadata": {},
   "outputs": [],
   "source": [
    "from sklearn.preprocessing import PolynomialFeatures"
   ]
  },
  {
   "cell_type": "code",
   "execution_count": 24,
   "metadata": {},
   "outputs": [
    {
     "name": "stdout",
     "output_type": "stream",
     "text": [
      "Simple Linear Regression, Polynomial Degree 1 | $R^2$ Train: 0.2478\n",
      "Simple Linear Regression, Polynomial Degree 1 | $R^2$  Test: 0.1754\n",
      "Simple Linear Regression, Polynomial Degree 2 | $R^2$ Train: 0.5936\n",
      "Simple Linear Regression, Polynomial Degree 2 | $R^2$  Test: -21.3741\n",
      "Simple Linear Regression, Polynomial Degree 3 | $R^2$ Train: 0.7927\n",
      "Simple Linear Regression, Polynomial Degree 3 | $R^2$  Test: -1927.0639\n"
     ]
    }
   ],
   "source": [
    "n = [1, 2, 3]\n",
    "i = 0\n",
    "for n in n:\n",
    "    poly = PolynomialFeatures(degree = n)\n",
    "    X_poly_train = poly.fit_transform(X_train_scaled)\n",
    "    linreg = LinearRegression()\n",
    "    linreg = linreg.fit(X_poly_train, y_train)\n",
    "    y_pred = linreg.predict(poly.fit_transform(X_test_scaled))\n",
    "#     print('Simple Linear Regression, Polynomial Degree {} | coeff (w):\\n{}'.format(n, linreg.coef_.round(4)))\n",
    "#     print('Simple Linear Regression, Polynomial Degree {} |  intercept (b): {:.4f}'.format(n, linreg.intercept_.round(4)))\n",
    "    print('Simple Linear Regression, Polynomial Degree {} | $R^2$ Train: {:.4f}'.format(n, linreg.score(X_poly_train, y_train).round(4)))\n",
    "    print('Simple Linear Regression, Polynomial Degree {} | $R^2$  Test: {:.4f}'.format(n, linreg.score(poly.fit_transform(X_test_scaled), y_test).round(4)))\n",
    "    i+=1"
   ]
  },
  {
   "cell_type": "markdown",
   "metadata": {},
   "source": [
    "Using a simple linear regression, polynomial degree 1 produces our best Test $R^2$ score at 0.1754.\n",
    "\n",
    "As this value is quite low, let's see if another type of linear model will allow for an increase."
   ]
  },
  {
   "cell_type": "markdown",
   "metadata": {},
   "source": [
    "### **Ridge Regression**\n",
    "\n",
    "#### *Will a ridge regression allow for an accurate model to predict compensation leader income?*"
   ]
  },
  {
   "cell_type": "code",
   "execution_count": 25,
   "metadata": {},
   "outputs": [],
   "source": [
    "from sklearn.linear_model import Ridge"
   ]
  },
  {
   "cell_type": "markdown",
   "metadata": {},
   "source": [
    "Let's see how our choice of alpha effects our training and testing $R^2$ scores.\n",
    "\n",
    "Instantiate Ridge() and fit our data to a list of choices for alpha, printing our $R^2$ scores for each model fit."
   ]
  },
  {
   "cell_type": "code",
   "execution_count": 26,
   "metadata": {},
   "outputs": [
    {
     "name": "stdout",
     "output_type": "stream",
     "text": [
      "Ridge regression: effect of alpha regularization parameter with polynomial degree 1\n",
      "\n",
      "Alpha = 0\n",
      "num abs(coeff) > 1.0: 20,     Train R^2: 0.2478, Test R^2: 0.1754\n",
      "\n",
      "Alpha = 1\n",
      "num abs(coeff) > 1.0: 20,     Train R^2: 0.2478, Test R^2: 0.1755\n",
      "\n",
      "Alpha = 10\n",
      "num abs(coeff) > 1.0: 20,     Train R^2: 0.2478, Test R^2: 0.1761\n",
      "\n",
      "Alpha = 20\n",
      "num abs(coeff) > 1.0: 20,     Train R^2: 0.2478, Test R^2: 0.1766\n",
      "\n",
      "Alpha = 50\n",
      "num abs(coeff) > 1.0: 20,     Train R^2: 0.2478, Test R^2: 0.1783\n",
      "\n",
      "Alpha = 100\n",
      "num abs(coeff) > 1.0: 20,     Train R^2: 0.2477, Test R^2: 0.1807\n",
      "\n",
      "Alpha = 200\n",
      "num abs(coeff) > 1.0: 20,     Train R^2: 0.2474, Test R^2: 0.1844\n",
      "\n",
      "Alpha = 250\n",
      "num abs(coeff) > 1.0: 20,     Train R^2: 0.2472, Test R^2: 0.1858\n",
      "\n",
      "Alpha = 500\n",
      "num abs(coeff) > 1.0: 20,     Train R^2: 0.2461, Test R^2: 0.1906\n",
      "\n",
      "Alpha = 750\n",
      "num abs(coeff) > 1.0: 20,     Train R^2: 0.2448, Test R^2: 0.1928\n",
      "\n",
      "Alpha = 1000\n",
      "num abs(coeff) > 1.0: 20,     Train R^2: 0.2434, Test R^2: 0.1937\n",
      "\n",
      "Alpha = 1050\n",
      "num abs(coeff) > 1.0: 20,     Train R^2: 0.2431, Test R^2: 0.1938\n",
      "\n",
      "Alpha = 1100\n",
      "num abs(coeff) > 1.0: 20,     Train R^2: 0.2428, Test R^2: 0.1939\n",
      "\n",
      "Alpha = 1200\n",
      "num abs(coeff) > 1.0: 20,     Train R^2: 0.2422, Test R^2: 0.1939\n",
      "\n",
      "Alpha = 1300\n",
      "num abs(coeff) > 1.0: 20,     Train R^2: 0.2415, Test R^2: 0.1939\n",
      "\n",
      "Alpha = 1400\n",
      "num abs(coeff) > 1.0: 20,     Train R^2: 0.2409, Test R^2: 0.1937\n",
      "\n",
      "Alpha = 2000\n",
      "num abs(coeff) > 1.0: 20,     Train R^2: 0.2369, Test R^2: 0.1920\n",
      "\n"
     ]
    }
   ],
   "source": [
    "print('Ridge regression: effect of alpha regularization parameter \\\n",
    "with polynomial degree 1\\n')\n",
    "r2_train_dic = {}\n",
    "r2_test_dic = {}\n",
    "for this_alpha in [0, 1, 10, 20, 50, 100, 200, \n",
    "                   250, 500, 750, 1000, 1050, \n",
    "                   1100, 1200, 1300, 1400, 2000]:\n",
    "    linridge = Ridge(alpha = this_alpha)\n",
    "    linridge.fit(X_train_scaled, y_train)\n",
    "    r2_train = linridge.score(X_train_scaled, y_train)\n",
    "    r2_train_dic[this_alpha] = linridge.score(X_train_scaled, y_train)\n",
    "    r2_test = linridge.score(X_test_scaled, y_test)\n",
    "    r2_test_dic[this_alpha] = linridge.score(X_test_scaled, y_test)\n",
    "    num_coeff = 0\n",
    "    n = 0\n",
    "    for coefficient in linridge.coef_:\n",
    "        if abs(linridge.coef_[n]) > 1.0:\n",
    "            num_coeff+=1\n",
    "            n+=1\n",
    "        else:\n",
    "            n+=1\n",
    "    print('Alpha = {}\\nnum abs(coeff) > 1.0: {}, \\\n",
    "    Train R^2: {:.4f}, Test R^2: {:.4f}\\n'\n",
    "         .format(this_alpha, num_coeff, r2_train, r2_test))"
   ]
  },
  {
   "cell_type": "markdown",
   "metadata": {},
   "source": [
    "Almost every choice for alpha above produced an $R^2$ score over 0.174 (highest score for simple linear regression).\n",
    "\n",
    "These results suggest that a model other than simple linear regression will be more accurate."
   ]
  },
  {
   "cell_type": "markdown",
   "metadata": {},
   "source": [
    "*With a ridge regression of polynomial degree 1, how does our choice of alpha effect training and testing $R^2$ scores?*"
   ]
  },
  {
   "cell_type": "code",
   "execution_count": 27,
   "metadata": {},
   "outputs": [
    {
     "data": {
      "image/png": "[encoded data removed]",
      "text/plain": [
       "<Figure size 648x360 with 1 Axes>"
      ]
     },
     "metadata": {},
     "output_type": "display_data"
    }
   ],
   "source": [
    "plt.figure(figsize = (9, 5))\n",
    "\n",
    "plt.plot(r2_train_dic.keys(), r2_train_dic.values(),\n",
    "         r2_test_dic.keys(), r2_test_dic.values())\n",
    "plt.xlabel('Alpha')\n",
    "plt.ylabel('$R^2$ Score')\n",
    "plt.title('Ridge Regression, Polynomial Degree 1\\n \\\n",
    "$R^2$ Score by Alpha Regularization Parameter')\n",
    "plt.legend(['Training', 'Testing'], loc = 'best')\n",
    "\n",
    "plt.tight_layout()"
   ]
  },
  {
   "cell_type": "markdown",
   "metadata": {},
   "source": [
    "The line graph above suggests that an increase alpha will lead to an increase in Test R^2, though this return will diminish within an increase of just 0.02."
   ]
  },
  {
   "cell_type": "markdown",
   "metadata": {},
   "source": [
    "Let's instantiate Ridge(), choosing the alpha value that produced the highest test $R^2$ score."
   ]
  },
  {
   "cell_type": "code",
   "execution_count": 28,
   "metadata": {},
   "outputs": [],
   "source": [
    "linridge = Ridge(alpha = 1100)\n",
    "linridge.fit(X_train_scaled, y_train)\n",
    "y_pred = linridge.predict(X_test_scaled)"
   ]
  },
  {
   "cell_type": "markdown",
   "metadata": {},
   "source": [
    "*Is there a linear relationship between our test values and our predicted values?*"
   ]
  },
  {
   "cell_type": "code",
   "execution_count": 29,
   "metadata": {
    "scrolled": false
   },
   "outputs": [
    {
     "data": {
      "image/png": "[encoded data removed]",
      "text/plain": [
       "<Figure size 432x432 with 3 Axes>"
      ]
     },
     "metadata": {},
     "output_type": "display_data"
    }
   ],
   "source": [
    "ax = sns.jointplot(x = y_test, y = y_pred, \n",
    "                   kind = 'reg', size = 6, ratio = 6, \n",
    "                   joint_kws={'color': 'skyblue'});\n",
    "ax.set_axis_labels('Y Test', 'Predicted Y')\n",
    "regline = ax.ax_joint.get_lines()[0]\n",
    "regline.set_color('red')"
   ]
  },
  {
   "cell_type": "markdown",
   "metadata": {},
   "source": [
    "*What is the distribution of our prediction errors?*"
   ]
  },
  {
   "cell_type": "code",
   "execution_count": 30,
   "metadata": {},
   "outputs": [
    {
     "data": {
      "image/png": "[encoded data removed]",
      "text/plain": [
       "<Figure size 648x360 with 1 Axes>"
      ]
     },
     "metadata": {},
     "output_type": "display_data"
    }
   ],
   "source": [
    "plt.figure(figsize = (9, 5))\n",
    "ax = sns.distplot((y_test - y_pred), bins = 25)\n",
    "ax.xaxis.set_tick_params(which = 'both', rotation = 45)"
   ]
  },
  {
   "cell_type": "code",
   "execution_count": 31,
   "metadata": {
    "scrolled": false
   },
   "outputs": [
    {
     "name": "stdout",
     "output_type": "stream",
     "text": [
      "Ridge Regression Coefficients\n",
      "Polynomial Degree 1\n",
      "Alpha = 1100\n",
      "Intercept: 165361.4236\n",
      "Total Non-Zero Coefficients: 20\n",
      "\n",
      "                            Coefficient\n",
      "accountability_score         10121.4808\n",
      "financial_score                987.7402\n",
      "overall_score                 5784.7226\n",
      "administrative_expenses      23173.9055\n",
      "excess_or_deficit_for_year    6529.3449\n",
      "fundraising_expenses          7135.2141\n",
      "net_assets                    8741.7675\n",
      "other_revenue                14017.9927\n",
      "payments_to_affiliates       10772.6394\n",
      "Animals                      -1472.4958\n",
      "Arts, Culture, Humanities    11538.6587\n",
      "Community Development        -3560.6335\n",
      "Education                     3896.5063\n",
      "Environment                  -1722.1607\n",
      "Health                        4373.3001\n",
      "Human Services              -10044.0676\n",
      "Human and Civil Rights        1407.8409\n",
      "International                  480.2411\n",
      "Religion                     -7123.0913\n",
      "Research and Public Policy    7809.1653\n"
     ]
    }
   ],
   "source": [
    "print('Ridge Regression Coefficients\\nPolynomial Degree 1\\nAlpha = 1100')\n",
    "print('Intercept:', linridge.intercept_.round(4))\n",
    "print('Total Non-Zero Coefficients: {}\\n'.format(len(linridge.coef_.round(4))))\n",
    "cdf = pd.DataFrame(linridge.coef_.round(4), X.columns, columns = ['Coefficient'])\n",
    "print(cdf)"
   ]
  },
  {
   "cell_type": "markdown",
   "metadata": {},
   "source": [
    "*What is the average magnitude of the coefficients in this model?*"
   ]
  },
  {
   "cell_type": "code",
   "execution_count": 32,
   "metadata": {},
   "outputs": [
    {
     "data": {
      "text/plain": [
       "7034.6484"
      ]
     },
     "execution_count": 32,
     "metadata": {},
     "output_type": "execute_result"
    }
   ],
   "source": [
    "abs(cdf['Coefficient']).mean().round(4)"
   ]
  },
  {
   "cell_type": "markdown",
   "metadata": {},
   "source": [
    "*Which coefficient in this model has the strongest magnitude?*"
   ]
  },
  {
   "cell_type": "code",
   "execution_count": 33,
   "metadata": {},
   "outputs": [
    {
     "data": {
      "text/html": [
       "<div>\n",
       "<style scoped>\n",
       "    .dataframe tbody tr th:only-of-type {\n",
       "        vertical-align: middle;\n",
       "    }\n",
       "\n",
       "    .dataframe tbody tr th {\n",
       "        vertical-align: top;\n",
       "    }\n",
       "\n",
       "    .dataframe thead th {\n",
       "        text-align: right;\n",
       "    }\n",
       "</style>\n",
       "<table border=\"1\" class=\"dataframe\">\n",
       "  <thead>\n",
       "    <tr style=\"text-align: right;\">\n",
       "      <th></th>\n",
       "      <th>Coefficient</th>\n",
       "    </tr>\n",
       "  </thead>\n",
       "  <tbody>\n",
       "    <tr>\n",
       "      <th>administrative_expenses</th>\n",
       "      <td>23173.9055</td>\n",
       "    </tr>\n",
       "  </tbody>\n",
       "</table>\n",
       "</div>"
      ],
      "text/plain": [
       "                         Coefficient\n",
       "administrative_expenses   23173.9055"
      ]
     },
     "execution_count": 33,
     "metadata": {},
     "output_type": "execute_result"
    }
   ],
   "source": [
    "cdf[cdf['Coefficient'] == abs(cdf['Coefficient']).max()]"
   ]
  },
  {
   "cell_type": "code",
   "execution_count": 34,
   "metadata": {},
   "outputs": [
    {
     "name": "stdout",
     "output_type": "stream",
     "text": [
      "Train R^2: 0.2428\n",
      "Test  R^2: 0.1939\n",
      "MAE:       72376.2684\n",
      "MSE:       13185212438.7425\n",
      "RMSE:      114826.8803\n"
     ]
    }
   ],
   "source": [
    "print('Train R^2:', linridge.score(X_train_scaled, y_train).round(4))\n",
    "print('Test  R^2:', linridge.score(X_test_scaled, y_test).round(4))\n",
    "print('MAE:      ', metrics.mean_absolute_error(y_test, y_pred).round(4))\n",
    "print('MSE:      ', metrics.mean_squared_error(y_test, y_pred).round(4))\n",
    "print('RMSE:     ', np.sqrt(metrics.mean_squared_error(y_test, y_pred)).round(4))"
   ]
  },
  {
   "cell_type": "markdown",
   "metadata": {},
   "source": [
    "Using ridge regression with an optimized alpha, our test $R^2$ of 0.1939 outperforms our previous best of 0.175 (highest score for simple linear regression).\n",
    "\n",
    "So far, a ridge regression at polynomial degree 1 is the top performer."
   ]
  },
  {
   "cell_type": "markdown",
   "metadata": {},
   "source": [
    "Though a polynomial degree of 1 had the highest test $R^2$ score for simple linear regression, this may not be the case using a different linear model.\n",
    "\n",
    "Let's see if a ridge regression using another polynomial degree will allow for an even better test $R^2$ score.\n",
    "\n",
    "Instantiate Ridge() and fit our data to a list of choices for the polynomial degree, printing our $R^2$ scores for each model fit."
   ]
  },
  {
   "cell_type": "code",
   "execution_count": 35,
   "metadata": {},
   "outputs": [
    {
     "name": "stdout",
     "output_type": "stream",
     "text": [
      "Ridge Regression, Polynomial Degree 1 | R^2 Train: 0.2428\n",
      "Ridge Regression, Polynomial Degree 1 | R^2  Test: 0.1939\n",
      "Ridge Regression, Polynomial Degree 2 | R^2 Train: 0.4551\n",
      "Ridge Regression, Polynomial Degree 2 | R^2  Test: 0.2157\n",
      "Ridge Regression, Polynomial Degree 3 | R^2 Train: 0.6236\n",
      "Ridge Regression, Polynomial Degree 3 | R^2  Test: -814.9419\n"
     ]
    }
   ],
   "source": [
    "n = [1, 2, 3]\n",
    "i = 0\n",
    "for n in n:\n",
    "    poly = PolynomialFeatures(degree = n)\n",
    "    X_poly_train = poly.fit_transform(X_train_scaled)\n",
    "    linridge = Ridge(alpha = 1100)\n",
    "    linridge.fit(X_poly_train, y_train)\n",
    "    y_pred = linridge.predict(poly.fit_transform(X_test_scaled))\n",
    "#     print('Ridge Regression, Polynomial Degree {} | coeff (w):\\n{}'.format(n, linridge.coef_.round(4)))\n",
    "#     print('Ridge Regression, Polynomial Degree {} |  intercept (b): {:.4f}'.format(n, linridge.intercept_.round(4)))\n",
    "    print('Ridge Regression, Polynomial Degree {} | R^2 Train: {:.4f}'.format(n, linridge.score(X_poly_train, y_train).round(4)))\n",
    "    print('Ridge Regression, Polynomial Degree {} | R^2  Test: {:.4f}'.format(n, linridge.score(poly.fit_transform(X_test_scaled), y_test).round(4)))\n",
    "    i+=1"
   ]
  },
  {
   "cell_type": "markdown",
   "metadata": {},
   "source": [
    "The ridge regression with a polynomial degree of 2 produced the highest test $R^2$ score, and the exponential model performed the worst.\n",
    "\n",
    "Let's repeat our alpha optimization loop using a quadratic fit for our polynomial degree."
   ]
  },
  {
   "cell_type": "markdown",
   "metadata": {},
   "source": [
    "With a ridge regression of polynomial degree 2, how does our choice of alpha effect training and testing $R^2$ scores"
   ]
  },
  {
   "cell_type": "code",
   "execution_count": 36,
   "metadata": {},
   "outputs": [
    {
     "name": "stdout",
     "output_type": "stream",
     "text": [
      "Ridge regression: effect of alpha regularization parameter with polynomial degree 2\n",
      "\n",
      "Alpha = 0\n",
      "num abs(coeff) > 1.0: 231,     Train R^2: 0.5904, Test R^2: -22.4861\n",
      "\n",
      "Alpha = 1\n",
      "num abs(coeff) > 1.0: 230,     Train R^2: 0.5922, Test R^2: -29.7434\n",
      "\n",
      "Alpha = 10\n",
      "num abs(coeff) > 1.0: 230,     Train R^2: 0.5859, Test R^2: -25.4788\n",
      "\n",
      "Alpha = 20\n",
      "num abs(coeff) > 1.0: 230,     Train R^2: 0.5815, Test R^2: -17.9135\n",
      "\n",
      "Alpha = 50\n",
      "num abs(coeff) > 1.0: 230,     Train R^2: 0.5717, Test R^2: -7.9238\n",
      "\n",
      "Alpha = 100\n",
      "num abs(coeff) > 1.0: 230,     Train R^2: 0.5591, Test R^2: -3.3176\n",
      "\n",
      "Alpha = 200\n",
      "num abs(coeff) > 1.0: 230,     Train R^2: 0.5395, Test R^2: -1.1937\n",
      "\n",
      "Alpha = 250\n",
      "num abs(coeff) > 1.0: 230,     Train R^2: 0.5313, Test R^2: -0.8293\n",
      "\n",
      "Alpha = 500\n",
      "num abs(coeff) > 1.0: 230,     Train R^2: 0.5001, Test R^2: -0.1581\n",
      "\n",
      "Alpha = 750\n",
      "num abs(coeff) > 1.0: 230,     Train R^2: 0.4781, Test R^2: 0.0691\n",
      "\n",
      "Alpha = 1000\n",
      "num abs(coeff) > 1.0: 230,     Train R^2: 0.4610, Test R^2: 0.1853\n",
      "\n",
      "Alpha = 1050\n",
      "num abs(coeff) > 1.0: 230,     Train R^2: 0.4580, Test R^2: 0.2014\n",
      "\n",
      "Alpha = 1100\n",
      "num abs(coeff) > 1.0: 230,     Train R^2: 0.4551, Test R^2: 0.2157\n",
      "\n",
      "Alpha = 1200\n",
      "num abs(coeff) > 1.0: 229,     Train R^2: 0.4495, Test R^2: 0.2399\n",
      "\n",
      "Alpha = 1300\n",
      "num abs(coeff) > 1.0: 229,     Train R^2: 0.4444, Test R^2: 0.2589\n",
      "\n",
      "Alpha = 1400\n",
      "num abs(coeff) > 1.0: 230,     Train R^2: 0.4395, Test R^2: 0.2737\n",
      "\n",
      "Alpha = 1900\n",
      "num abs(coeff) > 1.0: 230,     Train R^2: 0.4186, Test R^2: 0.3053\n",
      "\n",
      "Alpha = 1950\n",
      "num abs(coeff) > 1.0: 229,     Train R^2: 0.4168, Test R^2: 0.3058\n",
      "\n",
      "Alpha = 1955\n",
      "num abs(coeff) > 1.0: 230,     Train R^2: 0.4166, Test R^2: 0.3058\n",
      "\n",
      "Alpha = 1956\n",
      "num abs(coeff) > 1.0: 230,     Train R^2: 0.4165, Test R^2: 0.3058\n",
      "\n",
      "Alpha = 1957\n",
      "num abs(coeff) > 1.0: 230,     Train R^2: 0.4165, Test R^2: 0.3058\n",
      "\n",
      "Alpha = 1958\n",
      "num abs(coeff) > 1.0: 230,     Train R^2: 0.4165, Test R^2: 0.3058\n",
      "\n",
      "Alpha = 1959\n",
      "num abs(coeff) > 1.0: 230,     Train R^2: 0.4164, Test R^2: 0.3058\n",
      "\n",
      "Alpha = 1960\n",
      "num abs(coeff) > 1.0: 230,     Train R^2: 0.4164, Test R^2: 0.3059\n",
      "\n",
      "Alpha = 1965\n",
      "num abs(coeff) > 1.0: 230,     Train R^2: 0.4162, Test R^2: 0.3059\n",
      "\n",
      "Alpha = 1975\n",
      "num abs(coeff) > 1.0: 230,     Train R^2: 0.4159, Test R^2: 0.3059\n",
      "\n",
      "Alpha = 2000\n",
      "num abs(coeff) > 1.0: 230,     Train R^2: 0.4150, Test R^2: 0.3059\n",
      "\n"
     ]
    }
   ],
   "source": [
    "print('Ridge regression: effect of alpha regularization parameter \\\n",
    "with polynomial degree 2\\n')\n",
    "r2_train_dic = {}\n",
    "r2_test_dic = {}\n",
    "for this_alpha in [0, 1, 10, 20, 50, 100, 200, 250, 500, \n",
    "                   750, 1000, 1050, 1100, 1200, 1300, 1400,\n",
    "                   1900, 1950, 1955, 1956, 1957, 1958, 1959, \n",
    "                   1960, 1965, 1975, 2000]:\n",
    "    poly = PolynomialFeatures(degree = 2)\n",
    "    X_poly_train = poly.fit_transform(X_train_scaled)\n",
    "    linridge = Ridge(alpha = this_alpha)\n",
    "    linridge.fit(X_poly_train, y_train)\n",
    "    r2_train = linridge.score(X_poly_train, y_train).round(4)\n",
    "    r2_train_dic[this_alpha] = linridge.score(X_poly_train, y_train).round(4)\n",
    "    r2_test = linridge.score(poly.fit_transform(X_test_scaled), y_test).round(4)\n",
    "    r2_test_dic[this_alpha] = linridge.score(poly.fit_transform(X_test_scaled), y_test).round(4)\n",
    "    num_coeff = 0\n",
    "    n = 0\n",
    "    for coefficient in linridge.coef_:\n",
    "        if abs(linridge.coef_[n]) > 1.0:\n",
    "            num_coeff+=1\n",
    "            n+=1\n",
    "        else:\n",
    "            n+=1\n",
    "    print('Alpha = {}\\nnum abs(coeff) > 1.0: {}, \\\n",
    "    Train R^2: {:.4f}, Test R^2: {:.4f}\\n'\n",
    "         .format(this_alpha, num_coeff, r2_train, r2_test))"
   ]
  },
  {
   "cell_type": "markdown",
   "metadata": {},
   "source": [
    "Optimizing alpha with a quadratic fit, produces the highest test $R^2$ scores we've seen yet.\n",
    "\n",
    "The highest test $R^2$ score of 0.3059, is much higher than our previous best score of 0.1939."
   ]
  },
  {
   "cell_type": "markdown",
   "metadata": {},
   "source": [
    "*With a ridge regression of polynomial degree 2, how does our choice of alpha effect training and testing $R^2$ scores?*"
   ]
  },
  {
   "cell_type": "code",
   "execution_count": 37,
   "metadata": {},
   "outputs": [
    {
     "data": {
      "image/png": "[encoded data removed]",
      "text/plain": [
       "<Figure size 648x360 with 1 Axes>"
      ]
     },
     "metadata": {},
     "output_type": "display_data"
    }
   ],
   "source": [
    "plt.figure(figsize = (9, 5))\n",
    "\n",
    "plt.plot(r2_train_dic.keys(), r2_train_dic.values(),\n",
    "         r2_test_dic.keys(), r2_test_dic.values())\n",
    "plt.xlabel('Alpha')\n",
    "plt.ylabel('$R^2$ Score')\n",
    "plt.title('Ridge Regression, Polynomial Degree 2\\n \\\n",
    "$R^2$ Score by Alpha Regularization Parameter')\n",
    "plt.legend(['Training', 'Testing'], loc = 'best')\n",
    "\n",
    "plt.tight_layout()"
   ]
  },
  {
   "cell_type": "markdown",
   "metadata": {},
   "source": [
    "The line graph above suggests that an increase alpha will bring the test $R^2$ score above 0, though this return will diminish soon after the values become positive."
   ]
  },
  {
   "cell_type": "markdown",
   "metadata": {},
   "source": [
    "Let's instantiate Ridge() with a quadratic fit, choosing the alpha value that produced the highest test $R^2$ score."
   ]
  },
  {
   "cell_type": "code",
   "execution_count": 38,
   "metadata": {},
   "outputs": [],
   "source": [
    "poly = PolynomialFeatures(degree = 2)\n",
    "X_poly_train = poly.fit_transform(X_train_scaled)\n",
    "linridge = Ridge(alpha = 1960)\n",
    "linridge.fit(X_poly_train, y_train)\n",
    "y_pred = linridge.predict(poly.fit_transform(X_test_scaled))"
   ]
  },
  {
   "cell_type": "markdown",
   "metadata": {},
   "source": [
    "*Is there a linear relationship between our test values and our predicted values?*"
   ]
  },
  {
   "cell_type": "code",
   "execution_count": 39,
   "metadata": {
    "scrolled": false
   },
   "outputs": [
    {
     "data": {
      "image/png": "[encoded data removed]",
      "text/plain": [
       "<Figure size 432x432 with 3 Axes>"
      ]
     },
     "metadata": {},
     "output_type": "display_data"
    }
   ],
   "source": [
    "ax = sns.jointplot(x = y_test, y = y_pred, \n",
    "                   kind = 'reg', size = 6, ratio = 6, \n",
    "                   joint_kws={'color': 'skyblue'});\n",
    "ax.set_axis_labels('Y Test', 'Predicted Y')\n",
    "regline = ax.ax_joint.get_lines()[0]\n",
    "regline.set_color('red')"
   ]
  },
  {
   "cell_type": "markdown",
   "metadata": {},
   "source": [
    "*What is the distribution of our prediction errors?*"
   ]
  },
  {
   "cell_type": "code",
   "execution_count": 40,
   "metadata": {},
   "outputs": [
    {
     "data": {
      "image/png": "[encoded data removed]",
      "text/plain": [
       "<Figure size 648x360 with 1 Axes>"
      ]
     },
     "metadata": {},
     "output_type": "display_data"
    }
   ],
   "source": [
    "plt.figure(figsize = (9, 5))\n",
    "ax = sns.distplot((y_test - y_pred), bins = 25)\n",
    "ax.xaxis.set_tick_params(which = 'both', rotation = 45)"
   ]
  },
  {
   "cell_type": "markdown",
   "metadata": {},
   "source": [
    "Let's create a new dictionary to see all non-zero coefficients in our current model."
   ]
  },
  {
   "cell_type": "code",
   "execution_count": 41,
   "metadata": {},
   "outputs": [],
   "source": [
    "coeff_dic = {}\n",
    "n = 0\n",
    "for coef_ in linridge.coef_:\n",
    "    if abs(linridge.coef_[n].round(4)) != 0:\n",
    "        coeff_dic[poly.get_feature_names(feature_names)[n]] = linridge.coef_[n].round(4)\n",
    "        n+=1\n",
    "    else:\n",
    "        n+=1"
   ]
  },
  {
   "cell_type": "code",
   "execution_count": 42,
   "metadata": {},
   "outputs": [],
   "source": [
    "import json"
   ]
  },
  {
   "cell_type": "code",
   "execution_count": 43,
   "metadata": {
    "scrolled": false
   },
   "outputs": [
    {
     "name": "stdout",
     "output_type": "stream",
     "text": [
      "Ridge Regression Coefficients\n",
      "Polynomial Degree 2\n",
      "Alpha = 1960\n",
      "Intercept: 157744.825\n",
      "Total Non-Zero Coefficients: 230\n",
      "\n",
      "{\n",
      " \"accountability_score\": 7825.3143,\n",
      " \"financial_score\": 1315.1673,\n",
      " \"overall_score\": 4768.8589,\n",
      " \"administrative_expenses\": 30019.6426,\n",
      " \"excess_or_deficit_for_year\": 4377.9743,\n",
      " \"fundraising_expenses\": 17957.739,\n",
      " \"net_assets\": 20314.4347,\n",
      " \"other_revenue\": 15547.4023,\n",
      " \"payments_to_affiliates\": 4291.3063,\n",
      " \"Animals\": 60.9388,\n",
      " \"Arts, Culture, Humanities\": 2663.2378,\n",
      " \"Community Development\": -202.1484,\n",
      " \"Education\": 555.883,\n",
      " \"Environment\": 29.8543,\n",
      " \"Health\": 968.7245,\n",
      " \"Human Services\": -2949.1145,\n",
      " \"Human and Civil Rights\": 148.3104,\n",
      " \"International\": 191.4792,\n",
      " \"Religion\": -489.6523,\n",
      " \"Research and Public Policy\": 226.0762,\n",
      " \"accountability_score^2\": -1189.8319,\n",
      " \"accountability_score financial_score\": -921.8483,\n",
      " \"accountability_score overall_score\": -829.7131,\n",
      " \"accountability_score administrative_expenses\": 2860.6172,\n",
      " \"accountability_score excess_or_deficit_for_year\": -1221.4994,\n",
      " \"accountability_score fundraising_expenses\": 3371.2742,\n",
      " \"accountability_score net_assets\": -2291.0737,\n",
      " \"accountability_score other_revenue\": -2539.5997,\n",
      " \"accountability_score payments_to_affiliates\": 465.7696,\n",
      " \"accountability_score Animals\": 656.9259,\n",
      " \"accountability_score Arts, Culture, Humanities\": 425.5009,\n",
      " \"accountability_score Community Development\": -693.6981,\n",
      " \"accountability_score Education\": -714.2417,\n",
      " \"accountability_score Environment\": 367.7782,\n",
      " \"accountability_score Health\": 1878.5504,\n",
      " \"accountability_score Human Services\": -496.7985,\n",
      " \"accountability_score Human and Civil Rights\": 839.3092,\n",
      " \"accountability_score International\": 2.3519,\n",
      " \"accountability_score Religion\": -1415.8421,\n",
      " \"accountability_score Research and Public Policy\": -1280.4355,\n",
      " \"financial_score^2\": -1125.4937,\n",
      " \"financial_score overall_score\": 258.7387,\n",
      " \"financial_score administrative_expenses\": 2931.3537,\n",
      " \"financial_score excess_or_deficit_for_year\": 209.811,\n",
      " \"financial_score fundraising_expenses\": -641.0045,\n",
      " \"financial_score net_assets\": 5725.433,\n",
      " \"financial_score other_revenue\": 1753.1419,\n",
      " \"financial_score payments_to_affiliates\": -645.942,\n",
      " \"financial_score Animals\": -620.844,\n",
      " \"financial_score Arts, Culture, Humanities\": 1404.5999,\n",
      " \"financial_score Community Development\": 561.5085,\n",
      " \"financial_score Education\": 990.5519,\n",
      " \"financial_score Environment\": 609.3887,\n",
      " \"financial_score Health\": -469.5131,\n",
      " \"financial_score Human Services\": -1403.6321,\n",
      " \"financial_score Human and Civil Rights\": 483.4059,\n",
      " \"financial_score International\": -1631.7509,\n",
      " \"financial_score Religion\": -249.2933,\n",
      " \"financial_score Research and Public Policy\": 1636.6148,\n",
      " \"overall_score^2\": 1125.8192,\n",
      " \"overall_score administrative_expenses\": 4645.8418,\n",
      " \"overall_score excess_or_deficit_for_year\": -110.9019,\n",
      " \"overall_score fundraising_expenses\": 1234.8792,\n",
      " \"overall_score net_assets\": 4050.3122,\n",
      " \"overall_score other_revenue\": 769.8198,\n",
      " \"overall_score payments_to_affiliates\": -18.4553,\n",
      " \"overall_score Animals\": -312.1447,\n",
      " \"overall_score Arts, Culture, Humanities\": 1619.2566,\n",
      " \"overall_score Community Development\": -729.7668,\n",
      " \"overall_score Education\": 988.0609,\n",
      " \"overall_score Environment\": 987.9787,\n",
      " \"overall_score Health\": -1106.8947,\n",
      " \"overall_score Human Services\": -921.7247,\n",
      " \"overall_score Human and Civil Rights\": 939.0847,\n",
      " \"overall_score International\": -499.5005,\n",
      " \"overall_score Religion\": -673.803,\n",
      " \"overall_score Research and Public Policy\": 542.0796,\n",
      " \"administrative_expenses^2\": -111.0996,\n",
      " \"administrative_expenses excess_or_deficit_for_year\": -2061.9994,\n",
      " \"administrative_expenses fundraising_expenses\": 1271.2322,\n",
      " \"administrative_expenses net_assets\": -1087.0242,\n",
      " \"administrative_expenses other_revenue\": -2425.6145,\n",
      " \"administrative_expenses payments_to_affiliates\": 1842.7139,\n",
      " \"administrative_expenses Animals\": 3605.5093,\n",
      " \"administrative_expenses Arts, Culture, Humanities\": 4768.3839,\n",
      " \"administrative_expenses Community Development\": -1472.7195,\n",
      " \"administrative_expenses Education\": -2773.6693,\n",
      " \"administrative_expenses Environment\": -2054.6257,\n",
      " \"administrative_expenses Health\": 6326.193,\n",
      " \"administrative_expenses Human Services\": -6143.3447,\n",
      " \"administrative_expenses Human and Civil Rights\": -4098.677,\n",
      " \"administrative_expenses International\": 5363.1672,\n",
      " \"administrative_expenses Religion\": -4707.5516,\n",
      " \"administrative_expenses Research and Public Policy\": 3632.3038,\n",
      " \"excess_or_deficit_for_year^2\": -218.295,\n",
      " \"excess_or_deficit_for_year fundraising_expenses\": 380.5444,\n",
      " \"excess_or_deficit_for_year net_assets\": 1308.4992,\n",
      " \"excess_or_deficit_for_year other_revenue\": -58.6118,\n",
      " \"excess_or_deficit_for_year payments_to_affiliates\": -234.2281,\n",
      " \"excess_or_deficit_for_year Animals\": 1422.5432,\n",
      " \"excess_or_deficit_for_year Arts, Culture, Humanities\": 665.9427,\n",
      " \"excess_or_deficit_for_year Community Development\": -968.1196,\n",
      " \"excess_or_deficit_for_year Education\": 308.1379,\n",
      " \"excess_or_deficit_for_year Environment\": 1157.4844,\n",
      " \"excess_or_deficit_for_year Health\": -649.2076,\n",
      " \"excess_or_deficit_for_year Human Services\": -3377.4666,\n",
      " \"excess_or_deficit_for_year Human and Civil Rights\": 1621.357,\n",
      " \"excess_or_deficit_for_year International\": 1031.4719,\n",
      " \"excess_or_deficit_for_year Religion\": 413.6241,\n",
      " \"excess_or_deficit_for_year Research and Public Policy\": 3081.7644,\n",
      " \"fundraising_expenses^2\": -873.0007,\n",
      " \"fundraising_expenses net_assets\": -2915.795,\n",
      " \"fundraising_expenses other_revenue\": 2067.5526,\n",
      " \"fundraising_expenses payments_to_affiliates\": 588.0709,\n",
      " \"fundraising_expenses Animals\": 1146.3885,\n",
      " \"fundraising_expenses Arts, Culture, Humanities\": 4711.5922,\n",
      " \"fundraising_expenses Community Development\": 1827.7876,\n",
      " \"fundraising_expenses Education\": -1501.4699,\n",
      " \"fundraising_expenses Environment\": 723.6866,\n",
      " \"fundraising_expenses Health\": 5987.9367,\n",
      " \"fundraising_expenses Human Services\": -6077.5063,\n",
      " \"fundraising_expenses Human and Civil Rights\": -1102.4995,\n",
      " \"fundraising_expenses International\": -2021.2283,\n",
      " \"fundraising_expenses Religion\": -2498.5562,\n",
      " \"fundraising_expenses Research and Public Policy\": 60.33,\n",
      " \"net_assets^2\": 2871.4918,\n",
      " \"net_assets other_revenue\": -5874.6071,\n",
      " \"net_assets payments_to_affiliates\": 7.0596,\n",
      " \"net_assets Animals\": 1664.7725,\n",
      " \"net_assets Arts, Culture, Humanities\": 11968.6532,\n",
      " \"net_assets Community Development\": 2439.5659,\n",
      " \"net_assets Education\": -3088.3599,\n",
      " \"net_assets Environment\": 724.1358,\n",
      " \"net_assets Health\": -144.3552,\n",
      " \"net_assets Human Services\": -8054.4497,\n",
      " \"net_assets Human and Civil Rights\": -2204.4651,\n",
      " \"net_assets International\": -971.4076,\n",
      " \"net_assets Religion\": -3693.6136,\n",
      " \"net_assets Research and Public Policy\": 3778.3749,\n",
      " \"other_revenue^2\": 1789.4671,\n",
      " \"other_revenue payments_to_affiliates\": 191.4431,\n",
      " \"other_revenue Animals\": 2936.8902,\n",
      " \"other_revenue Arts, Culture, Humanities\": 4102.0052,\n",
      " \"other_revenue Community Development\": 1083.3668,\n",
      " \"other_revenue Education\": -1880.2412,\n",
      " \"other_revenue Environment\": 452.1497,\n",
      " \"other_revenue Health\": 1614.3341,\n",
      " \"other_revenue Human Services\": -3436.0267,\n",
      " \"other_revenue Human and Civil Rights\": -1794.9461,\n",
      " \"other_revenue International\": 487.273,\n",
      " \"other_revenue Religion\": -2849.0497,\n",
      " \"other_revenue Research and Public Policy\": -697.0747,\n",
      " \"payments_to_affiliates^2\": 11.3623,\n",
      " \"payments_to_affiliates Animals\": -887.2881,\n",
      " \"payments_to_affiliates Arts, Culture, Humanities\": -1805.0724,\n",
      " \"payments_to_affiliates Community Development\": 3616.2022,\n",
      " \"payments_to_affiliates Education\": 1017.0235,\n",
      " \"payments_to_affiliates Environment\": -1027.0958,\n",
      " \"payments_to_affiliates Health\": 170.5604,\n",
      " \"payments_to_affiliates Human Services\": 333.0751,\n",
      " \"payments_to_affiliates Human and Civil Rights\": -937.3302,\n",
      " \"payments_to_affiliates International\": 239.8805,\n",
      " \"payments_to_affiliates Religion\": -1061.2018,\n",
      " \"payments_to_affiliates Research and Public Policy\": -695.9059,\n",
      " \"Animals^2\": 235.8994,\n",
      " \"Animals Arts, Culture, Humanities\": -672.5187,\n",
      " \"Animals Community Development\": 29.3001,\n",
      " \"Animals Education\": -152.4084,\n",
      " \"Animals Environment\": -21.613,\n",
      " \"Animals Health\": -255.9444,\n",
      " \"Animals Human Services\": 677.7781,\n",
      " \"Animals Human and Civil Rights\": -48.7099,\n",
      " \"Animals International\": -62.9297,\n",
      " \"Animals Religion\": 104.5616,\n",
      " \"Animals Research and Public Policy\": -63.8335,\n",
      " \"Arts, Culture, Humanities^2\": 5344.1371,\n",
      " \"Arts, Culture, Humanities Community Development\": -783.3129,\n",
      " \"Arts, Culture, Humanities Education\": -985.5009,\n",
      " \"Arts, Culture, Humanities Environment\": -639.7652,\n",
      " \"Arts, Culture, Humanities Health\": -1295.4892,\n",
      " \"Arts, Culture, Humanities Human Services\": -487.6654,\n",
      " \"Arts, Culture, Humanities Human and Civil Rights\": -614.6217,\n",
      " \"Arts, Culture, Humanities International\": -795.3439,\n",
      " \"Arts, Culture, Humanities Religion\": -429.3895,\n",
      " \"Arts, Culture, Humanities Research and Public Policy\": -481.6257,\n",
      " \"Community Development^2\": -555.2675,\n",
      " \"Community Development Education\": -123.5662,\n",
      " \"Community Development Environment\": 37.9067,\n",
      " \"Community Development Health\": -247.3611,\n",
      " \"Community Development Human Services\": 1089.4177,\n",
      " \"Community Development Human and Civil Rights\": -6.2733,\n",
      " \"Community Development International\": -7.9609,\n",
      " \"Community Development Religion\": 207.3263,\n",
      " \"Community Development Research and Public Policy\": -44.1192,\n",
      " \"Education^2\": 1801.0704,\n",
      " \"Education Environment\": -139.4318,\n",
      " \"Education Health\": -461.7527,\n",
      " \"Education Human Services\": 480.7515,\n",
      " \"Education Human and Civil Rights\": -157.5824,\n",
      " \"Education International\": -203.8307,\n",
      " \"Education Religion\": 7.097,\n",
      " \"Education Research and Public Policy\": -145.1839,\n",
      " \"Environment^2\": 119.6887,\n",
      " \"Environment Health\": -238.255,\n",
      " \"Environment Human Services\": 675.6494,\n",
      " \"Environment Human and Civil Rights\": -41.1429,\n",
      " \"Environment International\": -53.1389,\n",
      " \"Environment Religion\": 108.2748,\n",
      " \"Environment Research and Public Policy\": -57.6126,\n",
      " \"Health^2\": 2556.4653,\n",
      " \"Health Human Services\": 370.5843,\n",
      " \"Health Human and Civil Rights\": -251.1193,\n",
      " \"Health International\": -324.8761,\n",
      " \"Health Religion\": -65.2048,\n",
      " \"Health Research and Public Policy\": -217.1928,\n",
      " \"Human Services^2\": -2713.3308,\n",
      " \"Human Services Human and Civil Rights\": 517.7048,\n",
      " \"Human Services International\": 670.4129,\n",
      " \"Human Services Religion\": 1013.2736,\n",
      " \"Human Services Research and Public Policy\": 285.0213,\n",
      " \"Human and Civil Rights^2\": 683.0157,\n",
      " \"Human and Civil Rights International\": -79.6677,\n",
      " \"Human and Civil Rights Religion\": 66.5536,\n",
      " \"Human and Civil Rights Research and Public Policy\": -68.5893,\n",
      " \"International^2\": 660.5185,\n",
      " \"International Religion\": 86.2607,\n",
      " \"International Research and Public Policy\": -88.7085,\n",
      " \"Religion^2\": -1948.1026,\n",
      " \"Religion Research and Public Policy\": 17.7465,\n",
      " \"Research and Public Policy^2\": 1518.0334\n",
      "}\n"
     ]
    }
   ],
   "source": [
    "print('Ridge Regression Coefficients\\nPolynomial Degree 2\\nAlpha = 1960')\n",
    "print('Intercept:', linridge.intercept_.round(4))\n",
    "print('Total Non-Zero Coefficients: {}\\n'.format(len(coeff_dic)))\n",
    "print(json.dumps(coeff_dic, indent = 1))"
   ]
  },
  {
   "cell_type": "markdown",
   "metadata": {},
   "source": [
    "*What is the average magnitude of the coefficients in this model?*"
   ]
  },
  {
   "cell_type": "code",
   "execution_count": 44,
   "metadata": {},
   "outputs": [
    {
     "data": {
      "text/plain": [
       "1760.7652"
      ]
     },
     "execution_count": 44,
     "metadata": {},
     "output_type": "execute_result"
    }
   ],
   "source": [
    "abs(linridge.coef_).mean().round(4)"
   ]
  },
  {
   "cell_type": "markdown",
   "metadata": {},
   "source": [
    "*Which coefficient in this model has the strongest magnitude?*"
   ]
  },
  {
   "cell_type": "code",
   "execution_count": 45,
   "metadata": {},
   "outputs": [
    {
     "name": "stdout",
     "output_type": "stream",
     "text": [
      "administrative_expenses: 30019.6426\n"
     ]
    }
   ],
   "source": [
    "for coefficient, correlation in coeff_dic.items():\n",
    "    if correlation == abs(linridge.coef_).max().round(4):\n",
    "        print('{}: {}'.format(coefficient, correlation))"
   ]
  },
  {
   "cell_type": "code",
   "execution_count": 46,
   "metadata": {},
   "outputs": [
    {
     "name": "stdout",
     "output_type": "stream",
     "text": [
      "Train R^2: 0.4164\n",
      "Test  R^2: 0.3059\n",
      "MAE:       68241.5026\n",
      "MSE:       11353707799.7163\n",
      "RMSE:      106553.7789\n"
     ]
    }
   ],
   "source": [
    "print('Train R^2:', linridge.score(X_poly_train, y_train).round(4))\n",
    "print('Test  R^2:', linridge.score(poly.fit_transform(X_test_scaled), y_test).round(4))\n",
    "print('MAE:      ', metrics.mean_absolute_error(y_test, y_pred).round(4))\n",
    "print('MSE:      ', metrics.mean_squared_error(y_test, y_pred).round(4))\n",
    "print('RMSE:     ', np.sqrt(metrics.mean_squared_error(y_test, y_pred)).round(4))"
   ]
  },
  {
   "cell_type": "markdown",
   "metadata": {},
   "source": [
    "In fitting our data to a quadratic model with a new optimized alpha, our test $R^2$ of 0.3059 outperforms our previous best test $R^2$ score of 0.1939 by a large margin.\n",
    "\n",
    "A ridge regression at polynomial degree 2 is now our top performer.\n",
    "\n",
    "Let's see if a lasso regression will allow for an even better test $R^2$ score than a ridge regression.\n"
   ]
  },
  {
   "cell_type": "markdown",
   "metadata": {},
   "source": [
    "### **Lasso Regression**\n",
    "\n",
    "##### *Will a lasso regression allow for an accurate model to predict compensation leader income?*"
   ]
  },
  {
   "cell_type": "code",
   "execution_count": 47,
   "metadata": {},
   "outputs": [],
   "source": [
    "from sklearn.linear_model import Lasso"
   ]
  },
  {
   "cell_type": "markdown",
   "metadata": {},
   "source": [
    "Let's see how our choice of alpha effects our training and testing $R^2$ scores.\n",
    "\n",
    "Instantiate Lasso() and fit our data to a list of choices for alpha, printing our $R^2$ scores for each model fit."
   ]
  },
  {
   "cell_type": "code",
   "execution_count": 48,
   "metadata": {},
   "outputs": [
    {
     "name": "stdout",
     "output_type": "stream",
     "text": [
      "Lasso regression: effect of alpha regularization parameter with polynomial degree 1\n",
      "\n",
      "Alpha = 0\n",
      "num abs(coeff) > 1.0: 20,     Train R^2: 0.2478, Test R^2: 0.1754\n",
      "\n",
      "Alpha = 1\n",
      "num abs(coeff) > 1.0: 20,     Train R^2: 0.2478, Test R^2: 0.1754\n",
      "\n",
      "Alpha = 10\n",
      "num abs(coeff) > 1.0: 20,     Train R^2: 0.2478, Test R^2: 0.1754\n",
      "\n",
      "Alpha = 20\n",
      "num abs(coeff) > 1.0: 19,     Train R^2: 0.2478, Test R^2: 0.1754\n",
      "\n",
      "Alpha = 50\n",
      "num abs(coeff) > 1.0: 18,     Train R^2: 0.2478, Test R^2: 0.1754\n",
      "\n",
      "Alpha = 75\n",
      "num abs(coeff) > 1.0: 18,     Train R^2: 0.2478, Test R^2: 0.1754\n",
      "\n",
      "Alpha = 100\n",
      "num abs(coeff) > 1.0: 18,     Train R^2: 0.2478, Test R^2: 0.1754\n",
      "\n",
      "Alpha = 200\n",
      "num abs(coeff) > 1.0: 19,     Train R^2: 0.2478, Test R^2: 0.1752\n",
      "\n",
      "Alpha = 250\n",
      "num abs(coeff) > 1.0: 19,     Train R^2: 0.2477, Test R^2: 0.1752\n",
      "\n",
      "Alpha = 500\n",
      "num abs(coeff) > 1.0: 19,     Train R^2: 0.2475, Test R^2: 0.1748\n",
      "\n",
      "Alpha = 750\n",
      "num abs(coeff) > 1.0: 18,     Train R^2: 0.2472, Test R^2: 0.1743\n",
      "\n",
      "Alpha = 1000\n",
      "num abs(coeff) > 1.0: 18,     Train R^2: 0.2469, Test R^2: 0.1737\n",
      "\n",
      "Alpha = 2000\n",
      "num abs(coeff) > 1.0: 16,     Train R^2: 0.2447, Test R^2: 0.1708\n",
      "\n",
      "Alpha = 3000\n",
      "num abs(coeff) > 1.0: 14,     Train R^2: 0.2416, Test R^2: 0.1677\n",
      "\n",
      "Alpha = 4000\n",
      "num abs(coeff) > 1.0: 14,     Train R^2: 0.2374, Test R^2: 0.1647\n",
      "\n",
      "Alpha = 5000\n",
      "num abs(coeff) > 1.0: 13,     Train R^2: 0.2323, Test R^2: 0.1606\n",
      "\n"
     ]
    }
   ],
   "source": [
    "print('Lasso regression: effect of alpha regularization parameter \\\n",
    "with polynomial degree 1\\n')\n",
    "r2_train_dic = {}\n",
    "r2_test_dic = {}\n",
    "for this_alpha in [0, 1, 10, 20, 50, 75, 100, 200, 250, \n",
    "                   500, 750, 1000, 2000, 3000, 4000, 5000]:\n",
    "    linlasso = Lasso(alpha = this_alpha)\n",
    "    linlasso.fit(X_train_scaled, y_train)\n",
    "    r2_train = linlasso.score(X_train_scaled, y_train)\n",
    "    r2_train_dic[this_alpha] = linlasso.score(X_train_scaled, y_train)\n",
    "    r2_test = linlasso.score(X_test_scaled, y_test)\n",
    "    r2_test_dic[this_alpha] = linlasso.score(X_test_scaled, y_test)\n",
    "    num_coeff = 0\n",
    "    n = 0   \n",
    "    for coefficient in linlasso.coef_:\n",
    "        if abs(linlasso.coef_[n]) > 1.0:\n",
    "            num_coeff+=1\n",
    "            n+=1\n",
    "        else:\n",
    "            n+=1\n",
    "    print('Alpha = {}\\nnum abs(coeff) > 1.0: {}, \\\n",
    "    Train R^2: {:.4f}, Test R^2: {:.4f}\\n'\n",
    "         .format(this_alpha, num_coeff, r2_train, r2_test))"
   ]
  },
  {
   "cell_type": "markdown",
   "metadata": {},
   "source": [
    "Starting with a polynomial degree of 1 while varying our choice for alpha, test $R^2$ scores are hovering at our previous high for simple linear regression of 0.174.\n",
    "\n",
    "We'll need to adjust the polynomial degree to see if a lasso regression can compete with a ridge regression to predict compensation leader income."
   ]
  },
  {
   "cell_type": "markdown",
   "metadata": {},
   "source": [
    "*With a lasso regression of polynomial degree 1, how does our choice of alpha effect training and testing $R^2$ scores?*"
   ]
  },
  {
   "cell_type": "code",
   "execution_count": 49,
   "metadata": {},
   "outputs": [
    {
     "data": {
      "image/png": "[encoded data removed]",
      "text/plain": [
       "<Figure size 648x360 with 1 Axes>"
      ]
     },
     "metadata": {},
     "output_type": "display_data"
    }
   ],
   "source": [
    "plt.figure(figsize = (9, 5))\n",
    "\n",
    "plt.plot(r2_train_dic.keys(), r2_train_dic.values(),\n",
    "         r2_test_dic.keys(), r2_test_dic.values())\n",
    "plt.xlabel('Alpha')\n",
    "plt.ylabel('$R^2$ Score')\n",
    "plt.title('Lasso Regression, Polynomial Degree 1\\n \\\n",
    "$R^2$ Score by Alpha Regularization Parameter')\n",
    "plt.legend(['Training', 'Testing'], loc = 'best')\n",
    "\n",
    "plt.tight_layout()"
   ]
  },
  {
   "cell_type": "markdown",
   "metadata": {},
   "source": [
    "The line graph above suggests that an increase alpha will not increase the test $R^2$ score at all.\n",
    "\n",
    "Since an alpha choice of 0.174 is far below scores we've gotten from other models, a lasso regression with a polynomial degree of 1 should not be used."
   ]
  },
  {
   "cell_type": "code",
   "execution_count": 50,
   "metadata": {},
   "outputs": [
    {
     "name": "stdout",
     "output_type": "stream",
     "text": [
      "Lasso Regression, Polynomial Degree 1 | R^2 Train: 0.2448\n",
      "Lasso Regression, Polynomial Degree 1 | R^2  Test: 0.1710\n",
      "Lasso Regression, Polynomial Degree 2 | R^2 Train: 0.5067\n",
      "Lasso Regression, Polynomial Degree 2 | R^2  Test: 0.2775\n",
      "Lasso Regression, Polynomial Degree 3 | R^2 Train: 0.5813\n",
      "Lasso Regression, Polynomial Degree 3 | R^2  Test: 0.3015\n",
      "Lasso Regression, Polynomial Degree 4 | R^2 Train: 0.6467\n",
      "Lasso Regression, Polynomial Degree 4 | R^2  Test: -228.6690\n"
     ]
    }
   ],
   "source": [
    "n = [1, 2, 3, 4]\n",
    "i = 0\n",
    "for n in n:\n",
    "    poly = PolynomialFeatures(degree = n)\n",
    "    X_poly_train = poly.fit_transform(X_train_scaled)\n",
    "    linlasso = Lasso(alpha = 1960)\n",
    "    linlasso.fit(X_poly_train, y_train)\n",
    "    y_pred = linlasso.predict(poly.fit_transform(X_test_scaled))\n",
    "#     print('Lasso Regression, Polynomial Degree {} | coeff (w):\\n{}'.format(n, linlasso.coef_.round(4)))\n",
    "#     print('Lasso Regression, Polynomial Degree {} |  intercept (b): {:.4f}'.format(n, linlasso.intercept_.round(4)))\n",
    "    print('Lasso Regression, Polynomial Degree {} | R^2 Train: {:.4f}'.format(n, linlasso.score(X_poly_train, y_train).round(4)))\n",
    "    print('Lasso Regression, Polynomial Degree {} | R^2  Test: {:.4f}'.format(n, linlasso.score(poly.fit_transform(X_test_scaled), y_test).round(4)))\n",
    "    i+=1"
   ]
  },
  {
   "cell_type": "markdown",
   "metadata": {},
   "source": [
    "The lasso regression with a polynomial degree of 3 produced the highest test $R^2$ score at 0.5813, and the quadratic model performed second best at 0.2775.\n",
    "\n",
    "This $R^2$ score beats our previous best of 0.3059 by a large margin.\n",
    "\n",
    "Let's repeat our alpha optimization loop first using a quadratic fit for our polynomial degree, and then the exponntial fit to compare."
   ]
  },
  {
   "cell_type": "markdown",
   "metadata": {},
   "source": [
    "*With a lasso regression of polynomial degree 2, how does our choice of alpha effect training and testing $R^2$ scores?*"
   ]
  },
  {
   "cell_type": "code",
   "execution_count": 51,
   "metadata": {
    "scrolled": true
   },
   "outputs": [
    {
     "name": "stdout",
     "output_type": "stream",
     "text": [
      "Lasso regression: effect of alpha regularization parameter with polynomial degree 2\n",
      "\n",
      "Alpha = 0\n",
      "num abs(coeff) > 1.0: 230,     Train R^2: 0.5855, Test R^2: -0.4039\n",
      "\n",
      "Alpha = 1\n",
      "num abs(coeff) > 1.0: 194,     Train R^2: 0.5855, Test R^2: -0.4017\n",
      "\n",
      "Alpha = 10\n",
      "num abs(coeff) > 1.0: 164,     Train R^2: 0.5851, Test R^2: -0.3785\n",
      "\n",
      "Alpha = 20\n",
      "num abs(coeff) > 1.0: 151,     Train R^2: 0.5845, Test R^2: -0.3712\n",
      "\n",
      "Alpha = 50\n",
      "num abs(coeff) > 1.0: 139,     Train R^2: 0.5827, Test R^2: -0.3165\n",
      "\n",
      "Alpha = 100\n",
      "num abs(coeff) > 1.0: 126,     Train R^2: 0.5793, Test R^2: -0.2879\n",
      "\n",
      "Alpha = 200\n",
      "num abs(coeff) > 1.0: 121,     Train R^2: 0.5716, Test R^2: -0.2283\n",
      "\n",
      "Alpha = 250\n",
      "num abs(coeff) > 1.0: 112,     Train R^2: 0.5682, Test R^2: -0.2757\n",
      "\n",
      "Alpha = 500\n",
      "num abs(coeff) > 1.0: 90,     Train R^2: 0.5552, Test R^2: -0.1559\n",
      "\n",
      "Alpha = 750\n",
      "num abs(coeff) > 1.0: 80,     Train R^2: 0.5462, Test R^2: 0.0079\n",
      "\n",
      "Alpha = 1000\n",
      "num abs(coeff) > 1.0: 71,     Train R^2: 0.5377, Test R^2: 0.1213\n",
      "\n",
      "Alpha = 1050\n",
      "num abs(coeff) > 1.0: 65,     Train R^2: 0.5360, Test R^2: 0.1422\n",
      "\n",
      "Alpha = 1100\n",
      "num abs(coeff) > 1.0: 64,     Train R^2: 0.5342, Test R^2: 0.1581\n",
      "\n",
      "Alpha = 1200\n",
      "num abs(coeff) > 1.0: 62,     Train R^2: 0.5309, Test R^2: 0.1567\n",
      "\n",
      "Alpha = 1300\n",
      "num abs(coeff) > 1.0: 56,     Train R^2: 0.5275, Test R^2: 0.1607\n",
      "\n",
      "Alpha = 1400\n",
      "num abs(coeff) > 1.0: 54,     Train R^2: 0.5243, Test R^2: 0.1714\n",
      "\n",
      "Alpha = 1900\n",
      "num abs(coeff) > 1.0: 46,     Train R^2: 0.5086, Test R^2: 0.2542\n",
      "\n",
      "Alpha = 1950\n",
      "num abs(coeff) > 1.0: 46,     Train R^2: 0.5070, Test R^2: 0.2738\n",
      "\n",
      "Alpha = 2000\n",
      "num abs(coeff) > 1.0: 43,     Train R^2: 0.5055, Test R^2: 0.2929\n",
      "\n",
      "Alpha = 2100\n",
      "num abs(coeff) > 1.0: 45,     Train R^2: 0.5026, Test R^2: 0.3231\n",
      "\n",
      "Alpha = 2200\n",
      "num abs(coeff) > 1.0: 44,     Train R^2: 0.4997, Test R^2: 0.3361\n",
      "\n",
      "Alpha = 2300\n",
      "num abs(coeff) > 1.0: 45,     Train R^2: 0.4967, Test R^2: 0.3502\n",
      "\n",
      "Alpha = 2400\n",
      "num abs(coeff) > 1.0: 44,     Train R^2: 0.4939, Test R^2: 0.3572\n",
      "\n",
      "Alpha = 2500\n",
      "num abs(coeff) > 1.0: 43,     Train R^2: 0.4909, Test R^2: 0.3827\n",
      "\n",
      "Alpha = 2600\n",
      "num abs(coeff) > 1.0: 41,     Train R^2: 0.4881, Test R^2: 0.4015\n",
      "\n",
      "Alpha = 2700\n",
      "num abs(coeff) > 1.0: 41,     Train R^2: 0.4865, Test R^2: 0.4138\n",
      "\n",
      "Alpha = 2800\n",
      "num abs(coeff) > 1.0: 37,     Train R^2: 0.4853, Test R^2: 0.4246\n",
      "\n",
      "Alpha = 2900\n",
      "num abs(coeff) > 1.0: 37,     Train R^2: 0.4840, Test R^2: 0.4328\n",
      "\n",
      "Alpha = 3000\n",
      "num abs(coeff) > 1.0: 37,     Train R^2: 0.4827, Test R^2: 0.4381\n",
      "\n",
      "Alpha = 3100\n",
      "num abs(coeff) > 1.0: 37,     Train R^2: 0.4813, Test R^2: 0.4409\n",
      "\n",
      "Alpha = 3200\n",
      "num abs(coeff) > 1.0: 35,     Train R^2: 0.4798, Test R^2: 0.4429\n",
      "\n",
      "Alpha = 3210\n",
      "num abs(coeff) > 1.0: 35,     Train R^2: 0.4797, Test R^2: 0.4430\n",
      "\n",
      "Alpha = 3120\n",
      "num abs(coeff) > 1.0: 37,     Train R^2: 0.4810, Test R^2: 0.4414\n",
      "\n",
      "Alpha = 3230\n",
      "num abs(coeff) > 1.0: 35,     Train R^2: 0.4794, Test R^2: 0.4432\n",
      "\n",
      "Alpha = 3240\n",
      "num abs(coeff) > 1.0: 34,     Train R^2: 0.4792, Test R^2: 0.4433\n",
      "\n",
      "Alpha = 3250\n",
      "num abs(coeff) > 1.0: 34,     Train R^2: 0.4791, Test R^2: 0.4433\n",
      "\n",
      "Alpha = 3260\n",
      "num abs(coeff) > 1.0: 34,     Train R^2: 0.4790, Test R^2: 0.4433\n",
      "\n",
      "Alpha = 3270\n",
      "num abs(coeff) > 1.0: 34,     Train R^2: 0.4788, Test R^2: 0.4432\n",
      "\n",
      "Alpha = 3280\n",
      "num abs(coeff) > 1.0: 34,     Train R^2: 0.4787, Test R^2: 0.4431\n",
      "\n",
      "Alpha = 3290\n",
      "num abs(coeff) > 1.0: 33,     Train R^2: 0.4785, Test R^2: 0.4430\n",
      "\n",
      "Alpha = 3300\n",
      "num abs(coeff) > 1.0: 33,     Train R^2: 0.4784, Test R^2: 0.4430\n",
      "\n",
      "Alpha = 3350\n",
      "num abs(coeff) > 1.0: 32,     Train R^2: 0.4777, Test R^2: 0.4427\n",
      "\n",
      "Alpha = 3400\n",
      "num abs(coeff) > 1.0: 32,     Train R^2: 0.4771, Test R^2: 0.4423\n",
      "\n",
      "Alpha = 3500\n",
      "num abs(coeff) > 1.0: 33,     Train R^2: 0.4757, Test R^2: 0.4415\n",
      "\n",
      "Alpha = 3600\n",
      "num abs(coeff) > 1.0: 33,     Train R^2: 0.4742, Test R^2: 0.4405\n",
      "\n",
      "Alpha = 3700\n",
      "num abs(coeff) > 1.0: 33,     Train R^2: 0.4728, Test R^2: 0.4393\n",
      "\n",
      "Alpha = 3800\n",
      "num abs(coeff) > 1.0: 32,     Train R^2: 0.4713, Test R^2: 0.4379\n",
      "\n",
      "Alpha = 3900\n",
      "num abs(coeff) > 1.0: 32,     Train R^2: 0.4697, Test R^2: 0.4364\n",
      "\n",
      "Alpha = 4000\n",
      "num abs(coeff) > 1.0: 30,     Train R^2: 0.4684, Test R^2: 0.4350\n",
      "\n"
     ]
    }
   ],
   "source": [
    "print('Lasso regression: effect of alpha regularization parameter \\\n",
    "with polynomial degree 2\\n')\n",
    "r2_train_dic = {}\n",
    "r2_test_dic = {}\n",
    "for this_alpha in [0, 1, 10, 20, 50, 100, 200, 250, 500, 750, 1000, \n",
    "                   1050, 1100, 1200, 1300, 1400, 1900, 1950, 2000, \n",
    "                   2100, 2200, 2300, 2400, 2500, 2600, 2700, 2800, \n",
    "                   2900, 3000, 3100, 3200, 3210, 3120, 3230, 3240, \n",
    "                   3250, 3260, 3270, 3280, 3290, 3300, 3350, 3400, \n",
    "                   3500, 3600, 3700, 3800, 3900, 4000]:\n",
    "    poly = PolynomialFeatures(degree = 2)\n",
    "    X_poly_train = poly.fit_transform(X_train_scaled)\n",
    "    linlasso = Lasso(alpha = this_alpha)\n",
    "    linlasso.fit(X_poly_train, y_train)\n",
    "    r2_train = linlasso.score(X_poly_train, y_train).round(4)\n",
    "    r2_train_dic[this_alpha] = linlasso.score(X_poly_train, y_train).round(4)\n",
    "    r2_test = linlasso.score(poly.fit_transform(X_test_scaled), y_test).round(4)\n",
    "    r2_test_dic[this_alpha] = linlasso.score(poly.fit_transform(X_test_scaled), y_test).round(4)\n",
    "    num_coeff = 0\n",
    "    n = 0\n",
    "    for coefficient in linlasso.coef_:\n",
    "        if abs(linlasso.coef_[n]) > 1.0:\n",
    "            num_coeff+=1\n",
    "            n+=1\n",
    "        else:\n",
    "            n+=1\n",
    "    print('Alpha = {}\\nnum abs(coeff) > 1.0: {}, \\\n",
    "    Train R^2: {:.4f}, Test R^2: {:.4f}\\n'\n",
    "         .format(this_alpha, num_coeff, r2_train, r2_test))"
   ]
  },
  {
   "cell_type": "markdown",
   "metadata": {},
   "source": [
    "*With a lasso regression of polynomial degree 2, how does our choice of alpha effect training and testing $R^2$ scores?*"
   ]
  },
  {
   "cell_type": "code",
   "execution_count": 52,
   "metadata": {},
   "outputs": [
    {
     "data": {
      "image/png": "[encoded data removed]",
      "text/plain": [
       "<Figure size 648x360 with 1 Axes>"
      ]
     },
     "metadata": {},
     "output_type": "display_data"
    }
   ],
   "source": [
    "plt.figure(figsize = (9, 5))\n",
    "\n",
    "plt.plot(r2_train_dic.keys(), r2_train_dic.values(),\n",
    "         r2_test_dic.keys(), r2_test_dic.values())\n",
    "plt.xlabel('Alpha')\n",
    "plt.ylabel('$R^2$ Score')\n",
    "plt.title('Lasso Regression, Polynomial Degree 2\\n \\\n",
    "$R^2$ Score by Alpha Regularization Parameter')\n",
    "plt.legend(['Training', 'Testing'], loc = 'best')\n",
    "\n",
    "plt.tight_layout()"
   ]
  },
  {
   "cell_type": "markdown",
   "metadata": {},
   "source": [
    "The line graph above suggests that an increase alpha will bring the test $R^2$ score above 0 with a steady slope.\n",
    "\n",
    "The test $R^2$ score will continue to steadily increasing until an alpha value of 3,240 is reached."
   ]
  },
  {
   "cell_type": "markdown",
   "metadata": {},
   "source": [
    "Let's instantiate Lasso() with a quadratic fit, choosing the alpha value that produced the highest test $R^2$ score."
   ]
  },
  {
   "cell_type": "code",
   "execution_count": 53,
   "metadata": {},
   "outputs": [],
   "source": [
    "poly = PolynomialFeatures(degree = 2)\n",
    "X_poly_train = poly.fit_transform(X_train_scaled)\n",
    "linlasso = Lasso(alpha = 3240)\n",
    "linlasso.fit(X_poly_train, y_train)\n",
    "y_pred = linlasso.predict(poly.fit_transform(X_test_scaled))"
   ]
  },
  {
   "cell_type": "markdown",
   "metadata": {},
   "source": [
    "*Is there a linear relationship between our test values and our predicted values?*"
   ]
  },
  {
   "cell_type": "code",
   "execution_count": 54,
   "metadata": {
    "scrolled": false
   },
   "outputs": [
    {
     "data": {
      "image/png": "[encoded data removed]",
      "text/plain": [
       "<Figure size 432x432 with 3 Axes>"
      ]
     },
     "metadata": {},
     "output_type": "display_data"
    }
   ],
   "source": [
    "ax = sns.jointplot(x = y_test, y = y_pred, \n",
    "                   kind = 'reg', size = 6, ratio = 6, \n",
    "                   joint_kws={'color': 'skyblue'});\n",
    "ax.set_axis_labels('Y Test', 'Predicted Y')\n",
    "regline = ax.ax_joint.get_lines()[0]\n",
    "regline.set_color('red')"
   ]
  },
  {
   "cell_type": "markdown",
   "metadata": {},
   "source": [
    "*What is the distribution of our prediction errors?*"
   ]
  },
  {
   "cell_type": "code",
   "execution_count": 55,
   "metadata": {},
   "outputs": [
    {
     "data": {
      "image/png": "[encoded data removed]",
      "text/plain": [
       "<Figure size 648x360 with 1 Axes>"
      ]
     },
     "metadata": {},
     "output_type": "display_data"
    }
   ],
   "source": [
    "plt.figure(figsize = (9, 5))\n",
    "ax = sns.distplot((y_test - y_pred), bins = 25)\n",
    "ax.xaxis.set_tick_params(which = 'both', rotation = 45)"
   ]
  },
  {
   "cell_type": "markdown",
   "metadata": {},
   "source": [
    "Let's create a new dictionary to see all non-zero coefficients in our current model."
   ]
  },
  {
   "cell_type": "code",
   "execution_count": 56,
   "metadata": {},
   "outputs": [],
   "source": [
    "coeff_dic = {}\n",
    "n = 0\n",
    "for coef_ in linlasso.coef_:\n",
    "    if abs(linlasso.coef_[n].round(4)) != 0:\n",
    "        coeff_dic[poly.get_feature_names(feature_names)[n]] = linlasso.coef_[n].round(4)\n",
    "        n+=1\n",
    "    else:\n",
    "        n+=1"
   ]
  },
  {
   "cell_type": "code",
   "execution_count": 57,
   "metadata": {},
   "outputs": [
    {
     "name": "stdout",
     "output_type": "stream",
     "text": [
      "Lasso Regression Coefficients\n",
      "Polynomial Degree 2\n",
      "Alpha = 3240\n",
      "Intercept: 159384.202\n",
      "Total Non-Zero Coefficients: 34\n",
      "\n",
      "{\n",
      " \"accountability_score\": 5734.7489,\n",
      " \"overall_score\": 4043.1914,\n",
      " \"administrative_expenses\": 106495.0843,\n",
      " \"fundraising_expenses\": 37331.5353,\n",
      " \"net_assets\": 52384.0536,\n",
      " \"Human Services\": -1402.6108,\n",
      " \"accountability_score Religion\": -46.2892,\n",
      " \"financial_score^2\": -262.8574,\n",
      " \"financial_score Arts, Culture, Humanities\": 400.6122,\n",
      " \"administrative_expenses^2\": -2613.4857,\n",
      " \"administrative_expenses excess_or_deficit_for_year\": 2713.6101,\n",
      " \"administrative_expenses fundraising_expenses\": -1916.7147,\n",
      " \"administrative_expenses net_assets\": -1324.7394,\n",
      " \"excess_or_deficit_for_year^2\": 61.3399,\n",
      " \"excess_or_deficit_for_year net_assets\": -398.166,\n",
      " \"excess_or_deficit_for_year other_revenue\": -1405.507,\n",
      " \"fundraising_expenses^2\": -749.9348,\n",
      " \"fundraising_expenses net_assets\": -1111.222,\n",
      " \"fundraising_expenses other_revenue\": 765.653,\n",
      " \"fundraising_expenses Health\": 731.2099,\n",
      " \"fundraising_expenses International\": -3701.3807,\n",
      " \"net_assets other_revenue\": -2637.0621,\n",
      " \"net_assets Arts, Culture, Humanities\": 12474.191,\n",
      " \"other_revenue Community Development\": 85.5852,\n",
      " \"other_revenue Health\": 4318.5705,\n",
      " \"payments_to_affiliates^2\": 169.6304,\n",
      " \"payments_to_affiliates Community Development\": 1923.1166,\n",
      " \"Arts, Culture, Humanities^2\": 6099.0567,\n",
      " \"Education^2\": 2278.4925,\n",
      " \"Environment^2\": 256.1618,\n",
      " \"Health^2\": 3017.1693,\n",
      " \"Human and Civil Rights^2\": 943.4052,\n",
      " \"Religion^2\": -1394.9673,\n",
      " \"Research and Public Policy^2\": 1445.6136\n",
      "}\n"
     ]
    }
   ],
   "source": [
    "print('Lasso Regression Coefficients\\nPolynomial Degree 2\\nAlpha = 3240')\n",
    "print('Intercept:', linlasso.intercept_.round(4))\n",
    "print('Total Non-Zero Coefficients: {}\\n'.format(len(coeff_dic)))\n",
    "print(json.dumps(coeff_dic, indent = 1))"
   ]
  },
  {
   "cell_type": "markdown",
   "metadata": {},
   "source": [
    "*What is the average magnitude of the coefficients in this model?*"
   ]
  },
  {
   "cell_type": "code",
   "execution_count": 58,
   "metadata": {},
   "outputs": [
    {
     "data": {
      "text/plain": [
       "1136.9566"
      ]
     },
     "execution_count": 58,
     "metadata": {},
     "output_type": "execute_result"
    }
   ],
   "source": [
    "abs(linlasso.coef_).mean().round(4)"
   ]
  },
  {
   "cell_type": "markdown",
   "metadata": {},
   "source": [
    "*Which coefficient in this model has the strongest magnitude?*"
   ]
  },
  {
   "cell_type": "code",
   "execution_count": 59,
   "metadata": {},
   "outputs": [
    {
     "name": "stdout",
     "output_type": "stream",
     "text": [
      "administrative_expenses: 106495.0843\n"
     ]
    }
   ],
   "source": [
    "for coefficient, correlation in coeff_dic.items():\n",
    "    if correlation == abs(linlasso.coef_).max().round(4):\n",
    "        print('{}: {}'.format(coefficient, correlation))"
   ]
  },
  {
   "cell_type": "code",
   "execution_count": 60,
   "metadata": {},
   "outputs": [
    {
     "name": "stdout",
     "output_type": "stream",
     "text": [
      "Train R^2: 0.4792\n",
      "Test  R^2: 0.4433\n",
      "MAE:       61695.078\n",
      "MSE:       9104749687.7809\n",
      "RMSE:      95418.812\n"
     ]
    }
   ],
   "source": [
    "print('Train R^2:', linlasso.score(X_poly_train, y_train).round(4))\n",
    "print('Test  R^2:', linlasso.score(poly.fit_transform(X_test_scaled), y_test).round(4))\n",
    "print('MAE:      ', metrics.mean_absolute_error(y_test, y_pred).round(4))\n",
    "print('MSE:      ', metrics.mean_squared_error(y_test, y_pred).round(4))\n",
    "print('RMSE:     ', np.sqrt(metrics.mean_squared_error(y_test, y_pred)).round(4))"
   ]
  },
  {
   "cell_type": "markdown",
   "metadata": {},
   "source": [
    "Now let's see how an exponential model compares to a quadratic model.\n",
    "\n",
    "If our test $R^2$ scores are consistent with our previous model projections, then the exponential model should perform the best."
   ]
  },
  {
   "cell_type": "markdown",
   "metadata": {},
   "source": [
    "*With a lasso regression of polynomial degree 3, how does our choice of alpha effect training and testing $R^2$ scores?*"
   ]
  },
  {
   "cell_type": "code",
   "execution_count": 61,
   "metadata": {
    "scrolled": false
   },
   "outputs": [
    {
     "name": "stdout",
     "output_type": "stream",
     "text": [
      "Lasso regression: effect of alpha regularization parameter with polynomial degree 3\n",
      "\n",
      "Alpha = 0\n",
      "num abs(coeff) > 1.0: 1729,     Train R^2: 0.7124, Test R^2: -237.7981\n",
      "\n",
      "Alpha = 1\n",
      "num abs(coeff) > 1.0: 1269,     Train R^2: 0.7122, Test R^2: -239.1172\n",
      "\n",
      "Alpha = 10\n",
      "num abs(coeff) > 1.0: 831,     Train R^2: 0.7094, Test R^2: -200.5326\n",
      "\n",
      "Alpha = 20\n",
      "num abs(coeff) > 1.0: 725,     Train R^2: 0.7057, Test R^2: -177.5447\n",
      "\n",
      "Alpha = 50\n",
      "num abs(coeff) > 1.0: 615,     Train R^2: 0.6979, Test R^2: -138.8481\n",
      "\n",
      "Alpha = 100\n",
      "num abs(coeff) > 1.0: 519,     Train R^2: 0.6888, Test R^2: -95.4825\n",
      "\n",
      "Alpha = 200\n",
      "num abs(coeff) > 1.0: 419,     Train R^2: 0.6741, Test R^2: -61.6009\n",
      "\n",
      "Alpha = 250\n",
      "num abs(coeff) > 1.0: 388,     Train R^2: 0.6686, Test R^2: -51.4857\n",
      "\n",
      "Alpha = 500\n",
      "num abs(coeff) > 1.0: 301,     Train R^2: 0.6450, Test R^2: -20.6359\n",
      "\n",
      "Alpha = 750\n",
      "num abs(coeff) > 1.0: 247,     Train R^2: 0.6264, Test R^2: -8.2272\n",
      "\n",
      "Alpha = 1000\n",
      "num abs(coeff) > 1.0: 215,     Train R^2: 0.6119, Test R^2: -1.0821\n",
      "\n",
      "Alpha = 1050\n",
      "num abs(coeff) > 1.0: 211,     Train R^2: 0.6096, Test R^2: -0.5568\n",
      "\n",
      "Alpha = 1100\n",
      "num abs(coeff) > 1.0: 202,     Train R^2: 0.6076, Test R^2: -0.1344\n",
      "\n",
      "Alpha = 1200\n",
      "num abs(coeff) > 1.0: 195,     Train R^2: 0.6039, Test R^2: 0.2886\n",
      "\n",
      "Alpha = 1300\n",
      "num abs(coeff) > 1.0: 189,     Train R^2: 0.6004, Test R^2: 0.2774\n",
      "\n",
      "Alpha = 1400\n",
      "num abs(coeff) > 1.0: 181,     Train R^2: 0.5972, Test R^2: 0.2805\n",
      "\n",
      "Alpha = 1900\n",
      "num abs(coeff) > 1.0: 155,     Train R^2: 0.5829, Test R^2: 0.3009\n",
      "\n",
      "Alpha = 1950\n",
      "num abs(coeff) > 1.0: 154,     Train R^2: 0.5815, Test R^2: 0.2991\n",
      "\n",
      "Alpha = 2000\n",
      "num abs(coeff) > 1.0: 150,     Train R^2: 0.5803, Test R^2: 0.3224\n",
      "\n",
      "Alpha = 2100\n",
      "num abs(coeff) > 1.0: 149,     Train R^2: 0.5778, Test R^2: 0.3817\n",
      "\n",
      "Alpha = 2200\n",
      "num abs(coeff) > 1.0: 148,     Train R^2: 0.5752, Test R^2: 0.4013\n",
      "\n",
      "Alpha = 2300\n",
      "num abs(coeff) > 1.0: 143,     Train R^2: 0.5726, Test R^2: 0.4069\n",
      "\n",
      "Alpha = 2400\n",
      "num abs(coeff) > 1.0: 141,     Train R^2: 0.5700, Test R^2: 0.3876\n",
      "\n",
      "Alpha = 2500\n",
      "num abs(coeff) > 1.0: 138,     Train R^2: 0.5675, Test R^2: 0.3611\n",
      "\n",
      "Alpha = 2600\n",
      "num abs(coeff) > 1.0: 136,     Train R^2: 0.5651, Test R^2: 0.3559\n",
      "\n",
      "Alpha = 2700\n",
      "num abs(coeff) > 1.0: 135,     Train R^2: 0.5628, Test R^2: 0.3671\n",
      "\n",
      "Alpha = 2800\n",
      "num abs(coeff) > 1.0: 133,     Train R^2: 0.5604, Test R^2: 0.3555\n",
      "\n",
      "Alpha = 2900\n",
      "num abs(coeff) > 1.0: 131,     Train R^2: 0.5581, Test R^2: 0.3476\n",
      "\n",
      "Alpha = 3000\n",
      "num abs(coeff) > 1.0: 129,     Train R^2: 0.5557, Test R^2: 0.3737\n",
      "\n",
      "Alpha = 3100\n",
      "num abs(coeff) > 1.0: 127,     Train R^2: 0.5533, Test R^2: 0.4006\n",
      "\n",
      "Alpha = 3200\n",
      "num abs(coeff) > 1.0: 123,     Train R^2: 0.5509, Test R^2: 0.4149\n",
      "\n",
      "Alpha = 3300\n",
      "num abs(coeff) > 1.0: 126,     Train R^2: 0.5485, Test R^2: 0.4372\n",
      "\n",
      "Alpha = 3400\n",
      "num abs(coeff) > 1.0: 123,     Train R^2: 0.5465, Test R^2: 0.4597\n",
      "\n",
      "Alpha = 3450\n",
      "num abs(coeff) > 1.0: 122,     Train R^2: 0.5454, Test R^2: 0.4623\n",
      "\n",
      "Alpha = 3460\n",
      "num abs(coeff) > 1.0: 122,     Train R^2: 0.5452, Test R^2: 0.4626\n",
      "\n",
      "Alpha = 3470\n",
      "num abs(coeff) > 1.0: 122,     Train R^2: 0.5450, Test R^2: 0.4629\n",
      "\n",
      "Alpha = 3480\n",
      "num abs(coeff) > 1.0: 121,     Train R^2: 0.5448, Test R^2: 0.4631\n",
      "\n",
      "Alpha = 3490\n",
      "num abs(coeff) > 1.0: 121,     Train R^2: 0.5446, Test R^2: 0.4632\n",
      "\n",
      "Alpha = 3500\n",
      "num abs(coeff) > 1.0: 121,     Train R^2: 0.5444, Test R^2: 0.4632\n",
      "\n",
      "Alpha = 3550\n",
      "num abs(coeff) > 1.0: 120,     Train R^2: 0.5433, Test R^2: 0.4607\n",
      "\n",
      "Alpha = 3600\n",
      "num abs(coeff) > 1.0: 119,     Train R^2: 0.5421, Test R^2: 0.4524\n",
      "\n",
      "Alpha = 3700\n",
      "num abs(coeff) > 1.0: 119,     Train R^2: 0.5397, Test R^2: 0.4185\n",
      "\n",
      "Alpha = 3800\n",
      "num abs(coeff) > 1.0: 113,     Train R^2: 0.5374, Test R^2: 0.3733\n",
      "\n",
      "Alpha = 3900\n",
      "num abs(coeff) > 1.0: 109,     Train R^2: 0.5352, Test R^2: 0.3075\n",
      "\n",
      "Alpha = 4000\n",
      "num abs(coeff) > 1.0: 108,     Train R^2: 0.5329, Test R^2: 0.2390\n",
      "\n"
     ]
    }
   ],
   "source": [
    "print('Lasso regression: effect of alpha regularization parameter \\\n",
    "with polynomial degree 3\\n')\n",
    "r2_train_dic = {}\n",
    "r2_test_dic = {}\n",
    "for this_alpha in [0, 1, 10, 20, 50, 100, 200, 250, 500, 750, 1000, \n",
    "                   1050, 1100, 1200, 1300, 1400, 1900, 1950, 2000, \n",
    "                   2100, 2200, 2300, 2400, 2500, 2600, 2700, 2800, \n",
    "                   2900, 3000, 3100, 3200, 3300, 3400, 3450, 3460, \n",
    "                   3470, 3480, 3490, 3500, 3550, 3600, 3700, 3800, \n",
    "                   3900, 4000]:\n",
    "    poly = PolynomialFeatures(degree = 3)\n",
    "    X_poly_train = poly.fit_transform(X_train_scaled)\n",
    "    linlasso = Lasso(alpha = this_alpha)\n",
    "    linlasso.fit(X_poly_train, y_train)\n",
    "    r2_train = linlasso.score(X_poly_train, y_train).round(4)\n",
    "    r2_train_dic[this_alpha] = linlasso.score(X_poly_train, y_train).round(4)\n",
    "    r2_test = linlasso.score(poly.fit_transform(X_test_scaled), y_test).round(4)\n",
    "    r2_test_dic[this_alpha] = linlasso.score(poly.fit_transform(X_test_scaled), y_test).round(4)\n",
    "    num_coeff = 0\n",
    "    n = 0\n",
    "    for coefficient in linlasso.coef_:\n",
    "        if abs(linlasso.coef_[n]) > 1.0:\n",
    "            num_coeff+=1\n",
    "            n+=1\n",
    "        else:\n",
    "            n+=1\n",
    "    print('Alpha = {}\\nnum abs(coeff) > 1.0: {}, \\\n",
    "    Train R^2: {:.4f}, Test R^2: {:.4f}\\n'\n",
    "         .format(this_alpha, num_coeff, r2_train, r2_test))"
   ]
  },
  {
   "cell_type": "markdown",
   "metadata": {},
   "source": [
    "*With a lasso regression of polynomial degree 3, how does our choice of alpha effect training and testing $R^2$ scores?*"
   ]
  },
  {
   "cell_type": "code",
   "execution_count": 62,
   "metadata": {},
   "outputs": [
    {
     "data": {
      "image/png": "[encoded data removed]",
      "text/plain": [
       "<Figure size 648x360 with 1 Axes>"
      ]
     },
     "metadata": {},
     "output_type": "display_data"
    }
   ],
   "source": [
    "plt.figure(figsize = (9, 5))\n",
    "\n",
    "plt.plot(r2_train_dic.keys(), r2_train_dic.values(),\n",
    "         r2_test_dic.keys(), r2_test_dic.values())\n",
    "plt.xlabel('Alpha')\n",
    "plt.ylabel('$R^2$ Score')\n",
    "plt.title('Lasso Regression, Polynomial Degree 3\\n \\\n",
    "$R^2$ Score by Alpha Regularization Parameter')\n",
    "plt.legend(['Training', 'Testing'], loc = 'best')\n",
    "\n",
    "plt.tight_layout()"
   ]
  },
  {
   "cell_type": "markdown",
   "metadata": {},
   "source": [
    "The line graph above suggests that an increase alpha will bring the test $R^2$ score above 0 with a sharp slope.\n",
    "\n",
    "The test $R^2$ score will continue to steadily increase until an alpha value of 3,490 is reached."
   ]
  },
  {
   "cell_type": "markdown",
   "metadata": {},
   "source": [
    "Let's instantiate Lasso() with an exponential fit, choosing the alpha value that produced the highest test $R^2$ score."
   ]
  },
  {
   "cell_type": "code",
   "execution_count": 63,
   "metadata": {},
   "outputs": [],
   "source": [
    "poly = PolynomialFeatures(degree = 3)\n",
    "X_poly_train = poly.fit_transform(X_train_scaled)\n",
    "linlasso = Lasso(alpha = 3490)\n",
    "linlasso.fit(X_poly_train, y_train)\n",
    "y_pred = linlasso.predict(poly.fit_transform(X_test_scaled))"
   ]
  },
  {
   "cell_type": "markdown",
   "metadata": {},
   "source": [
    "*Is there a linear relationship between our test values and our predicted values?*"
   ]
  },
  {
   "cell_type": "code",
   "execution_count": 64,
   "metadata": {
    "scrolled": false
   },
   "outputs": [
    {
     "data": {
      "image/png": "[encoded data removed]",
      "text/plain": [
       "<Figure size 432x432 with 3 Axes>"
      ]
     },
     "metadata": {},
     "output_type": "display_data"
    }
   ],
   "source": [
    "ax = sns.jointplot(x = y_test, y = y_pred, \n",
    "                   kind = 'reg', size = 6, ratio = 6, \n",
    "                   joint_kws={'color': 'skyblue'});\n",
    "ax.set_axis_labels('Y Test', 'Predicted Y')\n",
    "regline = ax.ax_joint.get_lines()[0]\n",
    "regline.set_color('red')"
   ]
  },
  {
   "cell_type": "markdown",
   "metadata": {},
   "source": [
    "*What is the distribution of our prediction errors?*"
   ]
  },
  {
   "cell_type": "code",
   "execution_count": 65,
   "metadata": {},
   "outputs": [
    {
     "data": {
      "image/png": "[encoded data removed]",
      "text/plain": [
       "<Figure size 648x360 with 1 Axes>"
      ]
     },
     "metadata": {},
     "output_type": "display_data"
    }
   ],
   "source": [
    "plt.figure(figsize = (9, 5))\n",
    "ax = sns.distplot((y_test - y_pred), bins = 25)\n",
    "ax.xaxis.set_tick_params(which = 'both', rotation = 45)"
   ]
  },
  {
   "cell_type": "markdown",
   "metadata": {},
   "source": [
    "Let's create a new dictionary to see all non-zero coefficients in our current model."
   ]
  },
  {
   "cell_type": "code",
   "execution_count": 66,
   "metadata": {},
   "outputs": [],
   "source": [
    "coeff_dic = {}\n",
    "n = 0\n",
    "for coef_ in linlasso.coef_:\n",
    "    if abs(linlasso.coef_[n].round(4)) != 0:\n",
    "        coeff_dic[poly.get_feature_names(feature_names)[n]] = linlasso.coef_[n].round(4)\n",
    "        n+=1\n",
    "    else:\n",
    "        n+=1"
   ]
  },
  {
   "cell_type": "code",
   "execution_count": 67,
   "metadata": {
    "scrolled": false
   },
   "outputs": [
    {
     "name": "stdout",
     "output_type": "stream",
     "text": [
      "Lasso Regression Coefficients\n",
      "Polynomial Degree 3\n",
      "Alpha = 3490\n",
      "Intercept: 154074.3852\n",
      "Total Non-Zero Coefficients: 122\n",
      "\n",
      "{\n",
      " \"administrative_expenses\": 2344.327,\n",
      " \"administrative_expenses^2\": -9467.3007,\n",
      " \"excess_or_deficit_for_year^2\": 84.9675,\n",
      " \"net_assets other_revenue\": -2699.6167,\n",
      " \"payments_to_affiliates^2\": 147.1534,\n",
      " \"accountability_score^3\": 59.3089,\n",
      " \"accountability_score^2 Health\": 2004.0533,\n",
      " \"accountability_score financial_score^2\": 188.3887,\n",
      " \"accountability_score net_assets^2\": -330.3584,\n",
      " \"accountability_score net_assets other_revenue\": -133.2912,\n",
      " \"accountability_score Animals^2\": 533.8217,\n",
      " \"accountability_score Environment^2\": 270.2074,\n",
      " \"accountability_score Health^2\": 2840.5475,\n",
      " \"accountability_score Human Services^2\": 1217.8196,\n",
      " \"accountability_score Human and Civil Rights^2\": 570.0217,\n",
      " \"accountability_score International^2\": 309.7583,\n",
      " \"accountability_score Religion^2\": 4.8765,\n",
      " \"accountability_score Research and Public Policy^2\": -19.8167,\n",
      " \"financial_score^3\": -22.1705,\n",
      " \"financial_score^2 fundraising_expenses\": 3.6776,\n",
      " \"financial_score^2 Arts, Culture, Humanities\": 137.9327,\n",
      " \"financial_score administrative_expenses^2\": 2206.2509,\n",
      " \"financial_score fundraising_expenses^2\": 190.8797,\n",
      " \"financial_score other_revenue^2\": 2125.4986,\n",
      " \"financial_score Community Development^2\": 49.4705,\n",
      " \"financial_score Research and Public Policy^2\": 43.9793,\n",
      " \"overall_score Arts, Culture, Humanities^2\": 2363.021,\n",
      " \"overall_score Education^2\": 1020.4511,\n",
      " \"overall_score Environment^2\": 387.3022,\n",
      " \"overall_score Human and Civil Rights^2\": 415.3124,\n",
      " \"administrative_expenses^3\": 178.7216,\n",
      " \"administrative_expenses^2 excess_or_deficit_for_year\": 345.9339,\n",
      " \"administrative_expenses^2 fundraising_expenses\": -36.3361,\n",
      " \"administrative_expenses^2 net_assets\": -80.1835,\n",
      " \"administrative_expenses^2 other_revenue\": -12.4305,\n",
      " \"administrative_expenses^2 payments_to_affiliates\": 76.1263,\n",
      " \"administrative_expenses^2 Arts, Culture, Humanities\": -635.1831,\n",
      " \"administrative_expenses^2 Environment\": 574.5483,\n",
      " \"administrative_expenses^2 International\": -757.6015,\n",
      " \"administrative_expenses excess_or_deficit_for_year^2\": 628.9842,\n",
      " \"administrative_expenses excess_or_deficit_for_year fundraising_expenses\": 0.1805,\n",
      " \"administrative_expenses excess_or_deficit_for_year net_assets\": 88.2378,\n",
      " \"administrative_expenses excess_or_deficit_for_year other_revenue\": -43.8596,\n",
      " \"administrative_expenses fundraising_expenses^2\": -21.5119,\n",
      " \"administrative_expenses fundraising_expenses net_assets\": -83.4704,\n",
      " \"administrative_expenses fundraising_expenses other_revenue\": 25.9602,\n",
      " \"administrative_expenses fundraising_expenses Health\": -231.1328,\n",
      " \"administrative_expenses net_assets^2\": -18.6579,\n",
      " \"administrative_expenses net_assets other_revenue\": -52.6252,\n",
      " \"administrative_expenses net_assets Arts, Culture, Humanities\": -1188.8348,\n",
      " \"administrative_expenses payments_to_affiliates^2\": 113.8222,\n",
      " \"administrative_expenses Animals^2\": 9002.0914,\n",
      " \"administrative_expenses Arts, Culture, Humanities^2\": 12049.3717,\n",
      " \"administrative_expenses Community Development^2\": 5266.1421,\n",
      " \"administrative_expenses Education^2\": 7950.1177,\n",
      " \"administrative_expenses Environment^2\": 4848.408,\n",
      " \"administrative_expenses Health^2\": 11947.9709,\n",
      " \"administrative_expenses Human Services^2\": 50164.4125,\n",
      " \"administrative_expenses Human and Civil Rights^2\": 1281.6291,\n",
      " \"administrative_expenses International^2\": 9049.6881,\n",
      " \"administrative_expenses Religion^2\": 1542.7889,\n",
      " \"administrative_expenses Research and Public Policy^2\": 1358.5074,\n",
      " \"excess_or_deficit_for_year^3\": -43.4546,\n",
      " \"excess_or_deficit_for_year^2 Arts, Culture, Humanities\": 316.1168,\n",
      " \"excess_or_deficit_for_year^2 Education\": 355.4958,\n",
      " \"excess_or_deficit_for_year fundraising_expenses^2\": -8.6814,\n",
      " \"excess_or_deficit_for_year fundraising_expenses other_revenue\": -33.612,\n",
      " \"excess_or_deficit_for_year net_assets^2\": 12.4499,\n",
      " \"excess_or_deficit_for_year net_assets other_revenue\": -50.9476,\n",
      " \"excess_or_deficit_for_year other_revenue^2\": -263.0577,\n",
      " \"excess_or_deficit_for_year other_revenue Health\": 262.3728,\n",
      " \"excess_or_deficit_for_year other_revenue International\": 6083.2204,\n",
      " \"excess_or_deficit_for_year Human and Civil Rights^2\": 2462.9876,\n",
      " \"excess_or_deficit_for_year International^2\": 3300.1899,\n",
      " \"excess_or_deficit_for_year Research and Public Policy^2\": 5608.2098,\n",
      " \"fundraising_expenses^3\": -9.6244,\n",
      " \"fundraising_expenses^2 net_assets\": 3.7322,\n",
      " \"fundraising_expenses^2 other_revenue\": 79.2835,\n",
      " \"fundraising_expenses^2 Health\": -148.0156,\n",
      " \"fundraising_expenses^2 International\": -755.0783,\n",
      " \"fundraising_expenses net_assets^2\": -216.3992,\n",
      " \"fundraising_expenses net_assets other_revenue\": -82.4848,\n",
      " \"fundraising_expenses other_revenue^2\": -3.2685,\n",
      " \"fundraising_expenses other_revenue Community Development\": -1653.1228,\n",
      " \"fundraising_expenses other_revenue Health\": 737.6349,\n",
      " \"fundraising_expenses Animals^2\": 902.3243,\n",
      " \"fundraising_expenses Arts, Culture, Humanities^2\": 21615.9069,\n",
      " \"fundraising_expenses Community Development^2\": 14425.2331,\n",
      " \"fundraising_expenses Education^2\": 1098.0822,\n",
      " \"fundraising_expenses Environment^2\": 1606.9482,\n",
      " \"fundraising_expenses Health^2\": 4048.4927,\n",
      " \"fundraising_expenses Human and Civil Rights^2\": 191.9211,\n",
      " \"fundraising_expenses Research and Public Policy^2\": 5228.4241,\n",
      " \"net_assets^3\": -47.3423,\n",
      " \"net_assets^2 other_revenue\": -3.2365,\n",
      " \"net_assets^2 Environment\": 689.4841,\n",
      " \"net_assets other_revenue^2\": -27.9731,\n",
      " \"net_assets Arts, Culture, Humanities^2\": 19745.4692,\n",
      " \"net_assets Community Development^2\": 4447.481,\n",
      " \"net_assets Environment^2\": 4716.4055,\n",
      " \"net_assets Health^2\": 1888.4644,\n",
      " \"net_assets Research and Public Policy^2\": 3150.4395,\n",
      " \"other_revenue^3\": 3.6063,\n",
      " \"other_revenue^2 Arts, Culture, Humanities\": -244.4218,\n",
      " \"other_revenue^2 Education\": -1177.2876,\n",
      " \"other_revenue Animals^2\": 144.195,\n",
      " \"other_revenue International^2\": 548.4005,\n",
      " \"payments_to_affiliates^3\": -2.0145,\n",
      " \"payments_to_affiliates^2 Community Development\": 179.5418,\n",
      " \"payments_to_affiliates^2 Health\": 158.0354,\n",
      " \"payments_to_affiliates^2 Human Services\": -145.2625,\n",
      " \"payments_to_affiliates^2 Human and Civil Rights\": -22.0688,\n",
      " \"Animals^3\": 185.9943,\n",
      " \"Arts, Culture, Humanities^3\": 3423.0876,\n",
      " \"Community Development^3\": 281.0893,\n",
      " \"Education^3\": 858.65,\n",
      " \"Environment^3\": 237.9751,\n",
      " \"Health^3\": 1022.6368,\n",
      " \"Human and Civil Rights^3\": 229.5703,\n",
      " \"International^3\": 267.9512,\n",
      " \"Religion^3\": -443.8226,\n",
      " \"Research and Public Policy^3\": 335.5516\n",
      "}\n"
     ]
    }
   ],
   "source": [
    "print('Lasso Regression Coefficients\\nPolynomial Degree 3\\nAlpha = 3490')\n",
    "print('Intercept:', linlasso.intercept_.round(4))\n",
    "print('Total Non-Zero Coefficients: {}\\n'.format(len(coeff_dic)))\n",
    "print(json.dumps(coeff_dic, indent = 1))"
   ]
  },
  {
   "cell_type": "markdown",
   "metadata": {},
   "source": [
    "*What is the average magnitude of the coefficients in this model?*"
   ]
  },
  {
   "cell_type": "code",
   "execution_count": 68,
   "metadata": {},
   "outputs": [
    {
     "data": {
      "text/plain": [
       "151.3728"
      ]
     },
     "execution_count": 68,
     "metadata": {},
     "output_type": "execute_result"
    }
   ],
   "source": [
    "abs(linlasso.coef_).mean().round(4)"
   ]
  },
  {
   "cell_type": "markdown",
   "metadata": {},
   "source": [
    "*Which coefficient in this model has the strongest magnitude?*"
   ]
  },
  {
   "cell_type": "code",
   "execution_count": 69,
   "metadata": {},
   "outputs": [
    {
     "name": "stdout",
     "output_type": "stream",
     "text": [
      "administrative_expenses Human Services^2: 50164.4125\n"
     ]
    }
   ],
   "source": [
    "for coefficient, correlation in coeff_dic.items():\n",
    "    if correlation == abs(linlasso.coef_).max().round(4):\n",
    "        print('{}: {}'.format(coefficient, correlation))"
   ]
  },
  {
   "cell_type": "code",
   "execution_count": 70,
   "metadata": {},
   "outputs": [
    {
     "name": "stdout",
     "output_type": "stream",
     "text": [
      "Train R^2: 0.5446\n",
      "Test  R^2: 0.4632\n",
      "MAE:       60620.6667\n",
      "MSE:       8780061413.8975\n",
      "RMSE:      93701.9819\n"
     ]
    }
   ],
   "source": [
    "print('Train R^2:', linlasso.score(X_poly_train, y_train).round(4))\n",
    "print('Test  R^2:', linlasso.score(poly.fit_transform(X_test_scaled), y_test).round(4))\n",
    "print('MAE:      ', metrics.mean_absolute_error(y_test, y_pred).round(4))\n",
    "print('MSE:      ', metrics.mean_squared_error(y_test, y_pred).round(4))\n",
    "print('RMSE:     ', np.sqrt(metrics.mean_squared_error(y_test, y_pred)).round(4))"
   ]
  },
  {
   "cell_type": "markdown",
   "metadata": {},
   "source": [
    "The exponential lasso regression with an optimized alpha has produced the highest test $R^2$ score yet!\n",
    "\n",
    "This test $R^2$ score is 0.4632, compared to the quadratic lasso regression score of 0.4433."
   ]
  }
 ],
 "metadata": {
  "kernelspec": {
   "display_name": "Python 3",
   "language": "python",
   "name": "python3"
  },
  "language_info": {
   "codemirror_mode": {
    "name": "ipython",
    "version": 3
   },
   "file_extension": ".py",
   "mimetype": "text/x-python",
   "name": "python",
   "nbconvert_exporter": "python",
   "pygments_lexer": "ipython3",
   "version": "3.6.4"
  }
 },
 "nbformat": 4,
 "nbformat_minor": 2
}
