{
 "cells": [
  {
   "cell_type": "code",
   "execution_count": 1,
   "metadata": {},
   "outputs": [],
   "source": [
    "import pandas as pd\n",
    "import numpy as np\n",
    "import matplotlib.pyplot as plt\n",
    "import seaborn as sns\n",
    "%matplotlib inline"
   ]
  },
  {
   "cell_type": "code",
   "execution_count": 2,
   "metadata": {},
   "outputs": [],
   "source": [
    "df = pd.read_csv('charity_navigator_clean.csv', index_col = 0)"
   ]
  },
  {
   "cell_type": "code",
   "execution_count": 3,
   "metadata": {},
   "outputs": [],
   "source": [
    "comp_leader_df = df[df['compensation_leader_compensation'].isnull() == False]"
   ]
  },
  {
   "cell_type": "code",
   "execution_count": 4,
   "metadata": {},
   "outputs": [
    {
     "name": "stdout",
     "output_type": "stream",
     "text": [
      "<class 'pandas.core.frame.DataFrame'>\n",
      "Int64Index: 7290 entries, 0 to 8189\n",
      "Data columns (total 21 columns):\n",
      "accountability_score                   7290 non-null float64\n",
      "administrative_expenses                7290 non-null float64\n",
      "charity_name                           7288 non-null object\n",
      "charity_url                            7290 non-null object\n",
      "city                                   7289 non-null object\n",
      "cn_advisory                            4 non-null object\n",
      "compensation_leader_compensation       7290 non-null float64\n",
      "compensation_leader_expense_percent    7290 non-null float64\n",
      "compensation_leader_title              7290 non-null object\n",
      "excess_or_deficit_for_year             7290 non-null float64\n",
      "financial_score                        7290 non-null float64\n",
      "fundraising_expenses                   7290 non-null int64\n",
      "net_assets                             7290 non-null int64\n",
      "other_revenue                          7290 non-null float64\n",
      "overall_score                          7290 non-null float64\n",
      "payments_to_affiliates                 7290 non-null int64\n",
      "program_expenses                       7290 non-null int64\n",
      "state                                  7290 non-null object\n",
      "total_contributions                    7290 non-null int64\n",
      "org_type                               7290 non-null object\n",
      "org_category                           7290 non-null object\n",
      "dtypes: float64(8), int64(5), object(8)\n",
      "memory usage: 1.2+ MB\n"
     ]
    }
   ],
   "source": [
    "comp_leader_df.info()"
   ]
  },
  {
   "cell_type": "code",
   "execution_count": 5,
   "metadata": {},
   "outputs": [
    {
     "data": {
      "text/plain": [
       "Index(['accountability_score', 'administrative_expenses', 'charity_name',\n",
       "       'charity_url', 'city', 'cn_advisory',\n",
       "       'compensation_leader_compensation',\n",
       "       'compensation_leader_expense_percent', 'compensation_leader_title',\n",
       "       'excess_or_deficit_for_year', 'financial_score', 'fundraising_expenses',\n",
       "       'net_assets', 'other_revenue', 'overall_score',\n",
       "       'payments_to_affiliates', 'program_expenses', 'state',\n",
       "       'total_contributions', 'org_type', 'org_category'],\n",
       "      dtype='object')"
      ]
     },
     "execution_count": 5,
     "metadata": {},
     "output_type": "execute_result"
    }
   ],
   "source": [
    "comp_leader_df.columns"
   ]
  },
  {
   "cell_type": "code",
   "execution_count": 6,
   "metadata": {},
   "outputs": [
    {
     "name": "stderr",
     "output_type": "stream",
     "text": [
      "/Users/charlieyaris/.venvs/lpthw/lib/python3.6/site-packages/ipykernel_launcher.py:5: SettingWithCopyWarning: \n",
      "A value is trying to be set on a copy of a slice from a DataFrame\n",
      "\n",
      "See the caveats in the documentation: http://pandas.pydata.org/pandas-docs/stable/indexing.html#indexing-view-versus-copy\n",
      "  \"\"\"\n"
     ]
    }
   ],
   "source": [
    "comp_leader_df.drop(['charity_name', 'charity_url', \n",
    "                     'city', 'cn_advisory', \n",
    "                     'state', 'org_type',\n",
    "                     'org_category', 'compensation_leader_title'], \n",
    "                    axis = 1, inplace = True)"
   ]
  },
  {
   "cell_type": "code",
   "execution_count": 7,
   "metadata": {},
   "outputs": [
    {
     "data": {
      "text/plain": [
       "(7290, 13)"
      ]
     },
     "execution_count": 7,
     "metadata": {},
     "output_type": "execute_result"
    }
   ],
   "source": [
    "comp_leader_df.shape"
   ]
  },
  {
   "cell_type": "code",
   "execution_count": 8,
   "metadata": {},
   "outputs": [],
   "source": [
    "from sklearn.model_selection import train_test_split\n",
    "from sklearn.linear_model import LinearRegression\n",
    "from sklearn.preprocessing import StandardScaler"
   ]
  },
  {
   "cell_type": "code",
   "execution_count": 9,
   "metadata": {},
   "outputs": [],
   "source": [
    "scaler = StandardScaler()"
   ]
  },
  {
   "cell_type": "code",
   "execution_count": 10,
   "metadata": {},
   "outputs": [
    {
     "data": {
      "text/plain": [
       "StandardScaler(copy=True, with_mean=True, with_std=True)"
      ]
     },
     "execution_count": 10,
     "metadata": {},
     "output_type": "execute_result"
    }
   ],
   "source": [
    "scaler.fit(comp_leader_df.drop('financial_score', axis = 1))"
   ]
  },
  {
   "cell_type": "code",
   "execution_count": 11,
   "metadata": {},
   "outputs": [],
   "source": [
    "scaled_features = scaler.transform(comp_leader_df.drop('financial_score', axis = 1))"
   ]
  },
  {
   "cell_type": "code",
   "execution_count": 12,
   "metadata": {},
   "outputs": [
    {
     "data": {
      "text/html": [
       "<div>\n",
       "<style scoped>\n",
       "    .dataframe tbody tr th:only-of-type {\n",
       "        vertical-align: middle;\n",
       "    }\n",
       "\n",
       "    .dataframe tbody tr th {\n",
       "        vertical-align: top;\n",
       "    }\n",
       "\n",
       "    .dataframe thead th {\n",
       "        text-align: right;\n",
       "    }\n",
       "</style>\n",
       "<table border=\"1\" class=\"dataframe\">\n",
       "  <thead>\n",
       "    <tr style=\"text-align: right;\">\n",
       "      <th></th>\n",
       "      <th>accountability_score</th>\n",
       "      <th>administrative_expenses</th>\n",
       "      <th>compensation_leader_compensation</th>\n",
       "      <th>compensation_leader_expense_percent</th>\n",
       "      <th>excess_or_deficit_for_year</th>\n",
       "      <th>fundraising_expenses</th>\n",
       "      <th>net_assets</th>\n",
       "      <th>other_revenue</th>\n",
       "      <th>overall_score</th>\n",
       "      <th>payments_to_affiliates</th>\n",
       "      <th>program_expenses</th>\n",
       "      <th>total_contributions</th>\n",
       "    </tr>\n",
       "  </thead>\n",
       "  <tbody>\n",
       "    <tr>\n",
       "      <th>0</th>\n",
       "      <td>-0.263579</td>\n",
       "      <td>-0.186773</td>\n",
       "      <td>-0.866057</td>\n",
       "      <td>-0.181814</td>\n",
       "      <td>-0.047114</td>\n",
       "      <td>-0.156168</td>\n",
       "      <td>-0.176026</td>\n",
       "      <td>-0.146236</td>\n",
       "      <td>0.330661</td>\n",
       "      <td>-0.075369</td>\n",
       "      <td>-0.186006</td>\n",
       "      <td>-0.180195</td>\n",
       "    </tr>\n",
       "    <tr>\n",
       "      <th>1</th>\n",
       "      <td>-0.601692</td>\n",
       "      <td>-0.048412</td>\n",
       "      <td>-0.711788</td>\n",
       "      <td>-0.869707</td>\n",
       "      <td>0.022858</td>\n",
       "      <td>-0.165434</td>\n",
       "      <td>-0.099415</td>\n",
       "      <td>-0.103574</td>\n",
       "      <td>-0.157966</td>\n",
       "      <td>-0.075369</td>\n",
       "      <td>-0.147726</td>\n",
       "      <td>-0.157962</td>\n",
       "    </tr>\n",
       "    <tr>\n",
       "      <th>2</th>\n",
       "      <td>-0.714396</td>\n",
       "      <td>-0.198450</td>\n",
       "      <td>-0.623248</td>\n",
       "      <td>-1.071041</td>\n",
       "      <td>-0.115813</td>\n",
       "      <td>-0.133811</td>\n",
       "      <td>-0.188129</td>\n",
       "      <td>-0.152597</td>\n",
       "      <td>-0.799611</td>\n",
       "      <td>-0.075369</td>\n",
       "      <td>-0.081977</td>\n",
       "      <td>-0.080003</td>\n",
       "    </tr>\n",
       "    <tr>\n",
       "      <th>3</th>\n",
       "      <td>-0.601692</td>\n",
       "      <td>-0.156641</td>\n",
       "      <td>-0.806334</td>\n",
       "      <td>-1.159125</td>\n",
       "      <td>0.081865</td>\n",
       "      <td>-0.111714</td>\n",
       "      <td>-0.118328</td>\n",
       "      <td>-0.163070</td>\n",
       "      <td>0.355093</td>\n",
       "      <td>-0.075369</td>\n",
       "      <td>-0.099625</td>\n",
       "      <td>-0.052384</td>\n",
       "    </tr>\n",
       "    <tr>\n",
       "      <th>4</th>\n",
       "      <td>0.638054</td>\n",
       "      <td>-0.191633</td>\n",
       "      <td>-0.706060</td>\n",
       "      <td>0.782913</td>\n",
       "      <td>-0.085533</td>\n",
       "      <td>-0.160089</td>\n",
       "      <td>-0.179602</td>\n",
       "      <td>-0.148440</td>\n",
       "      <td>0.442531</td>\n",
       "      <td>-0.075369</td>\n",
       "      <td>-0.190529</td>\n",
       "      <td>-0.192874</td>\n",
       "    </tr>\n",
       "  </tbody>\n",
       "</table>\n",
       "</div>"
      ],
      "text/plain": [
       "   accountability_score  administrative_expenses  \\\n",
       "0             -0.263579                -0.186773   \n",
       "1             -0.601692                -0.048412   \n",
       "2             -0.714396                -0.198450   \n",
       "3             -0.601692                -0.156641   \n",
       "4              0.638054                -0.191633   \n",
       "\n",
       "   compensation_leader_compensation  compensation_leader_expense_percent  \\\n",
       "0                         -0.866057                            -0.181814   \n",
       "1                         -0.711788                            -0.869707   \n",
       "2                         -0.623248                            -1.071041   \n",
       "3                         -0.806334                            -1.159125   \n",
       "4                         -0.706060                             0.782913   \n",
       "\n",
       "   excess_or_deficit_for_year  fundraising_expenses  net_assets  \\\n",
       "0                   -0.047114             -0.156168   -0.176026   \n",
       "1                    0.022858             -0.165434   -0.099415   \n",
       "2                   -0.115813             -0.133811   -0.188129   \n",
       "3                    0.081865             -0.111714   -0.118328   \n",
       "4                   -0.085533             -0.160089   -0.179602   \n",
       "\n",
       "   other_revenue  overall_score  payments_to_affiliates  program_expenses  \\\n",
       "0      -0.146236       0.330661               -0.075369         -0.186006   \n",
       "1      -0.103574      -0.157966               -0.075369         -0.147726   \n",
       "2      -0.152597      -0.799611               -0.075369         -0.081977   \n",
       "3      -0.163070       0.355093               -0.075369         -0.099625   \n",
       "4      -0.148440       0.442531               -0.075369         -0.190529   \n",
       "\n",
       "   total_contributions  \n",
       "0            -0.180195  \n",
       "1            -0.157962  \n",
       "2            -0.080003  \n",
       "3            -0.052384  \n",
       "4            -0.192874  "
      ]
     },
     "execution_count": 12,
     "metadata": {},
     "output_type": "execute_result"
    }
   ],
   "source": [
    "comp_leader_feat = pd.DataFrame(scaled_features, columns = comp_leader_df.drop('financial_score', axis = 1).columns)\n",
    "comp_leader_feat.head()"
   ]
  },
  {
   "cell_type": "code",
   "execution_count": 13,
   "metadata": {},
   "outputs": [],
   "source": [
    "X = comp_leader_feat[['administrative_expenses', 'excess_or_deficit_for_year',\n",
    "                      'fundraising_expenses', 'net_assets',\n",
    "                      'other_revenue', 'payments_to_affiliates',\n",
    "                      'compensation_leader_compensation', 'compensation_leader_expense_percent']]\n",
    "y = comp_leader_df['financial_score']"
   ]
  },
  {
   "cell_type": "code",
   "execution_count": 14,
   "metadata": {},
   "outputs": [],
   "source": [
    "X_train, X_test, y_train, y_test = train_test_split(X, y, test_size = 0.3, random_state = 101)"
   ]
  },
  {
   "cell_type": "code",
   "execution_count": 15,
   "metadata": {},
   "outputs": [
    {
     "name": "stderr",
     "output_type": "stream",
     "text": [
      "/Users/charlieyaris/.venvs/lpthw/lib/python3.6/site-packages/scipy/linalg/basic.py:1226: RuntimeWarning: internal gelsd driver lwork query error, required iwork dimension not returned. This is likely the result of LAPACK bug 0038, fixed in LAPACK 3.2.2 (released July 21, 2010). Falling back to 'gelss' driver.\n",
      "  warnings.warn(mesg, RuntimeWarning)\n"
     ]
    },
    {
     "data": {
      "text/plain": [
       "LinearRegression(copy_X=True, fit_intercept=True, n_jobs=1, normalize=False)"
      ]
     },
     "execution_count": 15,
     "metadata": {},
     "output_type": "execute_result"
    }
   ],
   "source": [
    "lm = LinearRegression(fit_intercept = True)\n",
    "lm.fit(X_train, y_train)"
   ]
  },
  {
   "cell_type": "code",
   "execution_count": 16,
   "metadata": {},
   "outputs": [],
   "source": [
    "cdf = pd.DataFrame(lm.coef_, X.columns, columns = ['Coeficient'])"
   ]
  },
  {
   "cell_type": "code",
   "execution_count": 17,
   "metadata": {},
   "outputs": [
    {
     "name": "stdout",
     "output_type": "stream",
     "text": [
      "Intercept: \n",
      " 85.9530210982053\n",
      "                                     Coeficient\n",
      "administrative_expenses               -0.901581\n",
      "excess_or_deficit_for_year             0.367939\n",
      "fundraising_expenses                  -0.883045\n",
      "net_assets                             1.052912\n",
      "other_revenue                          0.059770\n",
      "payments_to_affiliates                -0.046244\n",
      "compensation_leader_compensation       0.408303\n",
      "compensation_leader_expense_percent   -1.414938\n"
     ]
    }
   ],
   "source": [
    "print('Intercept: \\n', lm.intercept_)\n",
    "print(cdf)"
   ]
  },
  {
   "cell_type": "code",
   "execution_count": 18,
   "metadata": {},
   "outputs": [],
   "source": [
    "predictions = lm.predict(X_test)"
   ]
  },
  {
   "cell_type": "code",
   "execution_count": 19,
   "metadata": {},
   "outputs": [],
   "source": [
    "error = pd.DataFrame((y_test - predictions))"
   ]
  },
  {
   "cell_type": "code",
   "execution_count": 20,
   "metadata": {},
   "outputs": [
    {
     "data": {
      "text/plain": [
       "financial_score    6.846995\n",
       "dtype: float64"
      ]
     },
     "execution_count": 20,
     "metadata": {},
     "output_type": "execute_result"
    }
   ],
   "source": [
    "error.abs().mean()"
   ]
  },
  {
   "cell_type": "code",
   "execution_count": 21,
   "metadata": {},
   "outputs": [
    {
     "name": "stderr",
     "output_type": "stream",
     "text": [
      "/Users/charlieyaris/.venvs/lpthw/lib/python3.6/site-packages/matplotlib/axes/_axes.py:6462: UserWarning: The 'normed' kwarg is deprecated, and has been replaced by the 'density' kwarg.\n",
      "  warnings.warn(\"The 'normed' kwarg is deprecated, and has been \"\n"
     ]
    },
    {
     "data": {
      "image/png": "[encoded data removed]",
      "text/plain": [
       "<Figure size 432x432 with 3 Axes>"
      ]
     },
     "metadata": {},
     "output_type": "display_data"
    }
   ],
   "source": [
    "ax = sns.jointplot(x = y_test, y = predictions, \n",
    "                   kind = 'scatter');\n",
    "ax.set_axis_labels('Y Test', 'Predicted Y')\n",
    "ax.plot(sns.regplot, sns.distplot);"
   ]
  },
  {
   "cell_type": "code",
   "execution_count": 22,
   "metadata": {},
   "outputs": [
    {
     "name": "stdout",
     "output_type": "stream",
     "text": [
      "MAE:  6.84699485152053\n",
      "MSE:  91.54974646814571\n",
      "RMSE: 9.568163171066102\n",
      "R^2:  0.03756772976226752\n"
     ]
    }
   ],
   "source": [
    "from sklearn import metrics\n",
    "\n",
    "print('MAE: ', metrics.mean_absolute_error(y_test, predictions))\n",
    "print('MSE: ', metrics.mean_squared_error(y_test, predictions))\n",
    "print('RMSE:', np.sqrt(metrics.mean_squared_error(y_test, predictions)))\n",
    "print('R^2: ', lm.score(X_train, y_train))"
   ]
  },
  {
   "cell_type": "code",
   "execution_count": 23,
   "metadata": {},
   "outputs": [
    {
     "name": "stderr",
     "output_type": "stream",
     "text": [
      "/Users/charlieyaris/.venvs/lpthw/lib/python3.6/site-packages/matplotlib/axes/_axes.py:6462: UserWarning: The 'normed' kwarg is deprecated, and has been replaced by the 'density' kwarg.\n",
      "  warnings.warn(\"The 'normed' kwarg is deprecated, and has been \"\n"
     ]
    },
    {
     "data": {
      "image/png": "[encoded data removed]",
      "text/plain": [
       "<Figure size 432x288 with 1 Axes>"
      ]
     },
     "metadata": {},
     "output_type": "display_data"
    }
   ],
   "source": [
    "ax = sns.distplot((y_test - predictions), bins = 50)\n",
    "ax.xaxis.set_tick_params(which = 'both', rotation = 45)"
   ]
  },
  {
   "cell_type": "code",
   "execution_count": null,
   "metadata": {},
   "outputs": [],
   "source": []
  }
 ],
 "metadata": {
  "kernelspec": {
   "display_name": "Python 3",
   "language": "python",
   "name": "python3"
  },
  "language_info": {
   "codemirror_mode": {
    "name": "ipython",
    "version": 3
   },
   "file_extension": ".py",
   "mimetype": "text/x-python",
   "name": "python",
   "nbconvert_exporter": "python",
   "pygments_lexer": "ipython3",
   "version": "3.6.4"
  }
 },
 "nbformat": 4,
 "nbformat_minor": 2
}
