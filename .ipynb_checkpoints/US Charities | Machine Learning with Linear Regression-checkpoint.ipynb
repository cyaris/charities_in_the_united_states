{
 "cells": [
  {
   "cell_type": "code",
   "execution_count": 1,
   "metadata": {},
   "outputs": [],
   "source": [
    "import pandas as pd\n",
    "import numpy as np\n",
    "import matplotlib.pyplot as plt\n",
    "import seaborn as sns\n",
    "%matplotlib inline"
   ]
  },
  {
   "cell_type": "code",
   "execution_count": 2,
   "metadata": {},
   "outputs": [],
   "source": [
    "df = pd.read_csv('charity_navigator_clean.csv', index_col = 0)"
   ]
  },
  {
   "cell_type": "code",
   "execution_count": 3,
   "metadata": {},
   "outputs": [
    {
     "data": {
      "text/html": [
       "<div>\n",
       "<style scoped>\n",
       "    .dataframe tbody tr th:only-of-type {\n",
       "        vertical-align: middle;\n",
       "    }\n",
       "\n",
       "    .dataframe tbody tr th {\n",
       "        vertical-align: top;\n",
       "    }\n",
       "\n",
       "    .dataframe thead th {\n",
       "        text-align: right;\n",
       "    }\n",
       "</style>\n",
       "<table border=\"1\" class=\"dataframe\">\n",
       "  <thead>\n",
       "    <tr style=\"text-align: right;\">\n",
       "      <th></th>\n",
       "      <th>accountability_score</th>\n",
       "      <th>administrative_expenses</th>\n",
       "      <th>compensation_leader_compensation</th>\n",
       "      <th>compensation_leader_expense_percent</th>\n",
       "      <th>excess_or_deficit_for_year</th>\n",
       "      <th>financial_score</th>\n",
       "      <th>fundraising_expenses</th>\n",
       "      <th>net_assets</th>\n",
       "      <th>other_revenue</th>\n",
       "      <th>overall_score</th>\n",
       "      <th>...</th>\n",
       "      <th>Arts, Culture, Humanities</th>\n",
       "      <th>Community Development</th>\n",
       "      <th>Education</th>\n",
       "      <th>Environment</th>\n",
       "      <th>Health</th>\n",
       "      <th>Human Services</th>\n",
       "      <th>Human and Civil Rights</th>\n",
       "      <th>International</th>\n",
       "      <th>Religion</th>\n",
       "      <th>Research and Public Policy</th>\n",
       "    </tr>\n",
       "  </thead>\n",
       "  <tbody>\n",
       "    <tr>\n",
       "      <th>0</th>\n",
       "      <td>89.0</td>\n",
       "      <td>164590.0</td>\n",
       "      <td>53463.0</td>\n",
       "      <td>3.11</td>\n",
       "      <td>349718.0</td>\n",
       "      <td>90.56</td>\n",
       "      <td>111522</td>\n",
       "      <td>1350382</td>\n",
       "      <td>49634.0</td>\n",
       "      <td>89.75</td>\n",
       "      <td>...</td>\n",
       "      <td>0</td>\n",
       "      <td>0</td>\n",
       "      <td>0</td>\n",
       "      <td>0</td>\n",
       "      <td>0</td>\n",
       "      <td>0</td>\n",
       "      <td>1</td>\n",
       "      <td>0</td>\n",
       "      <td>0</td>\n",
       "      <td>0</td>\n",
       "    </tr>\n",
       "    <tr>\n",
       "      <th>1</th>\n",
       "      <td>86.0</td>\n",
       "      <td>1001560.0</td>\n",
       "      <td>73500.0</td>\n",
       "      <td>1.47</td>\n",
       "      <td>1175965.0</td>\n",
       "      <td>85.92</td>\n",
       "      <td>54613</td>\n",
       "      <td>14773920</td>\n",
       "      <td>382540.0</td>\n",
       "      <td>85.95</td>\n",
       "      <td>...</td>\n",
       "      <td>0</td>\n",
       "      <td>0</td>\n",
       "      <td>1</td>\n",
       "      <td>0</td>\n",
       "      <td>0</td>\n",
       "      <td>0</td>\n",
       "      <td>0</td>\n",
       "      <td>0</td>\n",
       "      <td>0</td>\n",
       "      <td>0</td>\n",
       "    </tr>\n",
       "    <tr>\n",
       "      <th>2</th>\n",
       "      <td>85.0</td>\n",
       "      <td>93957.0</td>\n",
       "      <td>85000.0</td>\n",
       "      <td>0.99</td>\n",
       "      <td>-461502.0</td>\n",
       "      <td>77.65</td>\n",
       "      <td>248833</td>\n",
       "      <td>-770370</td>\n",
       "      <td>0.0</td>\n",
       "      <td>80.96</td>\n",
       "      <td>...</td>\n",
       "      <td>0</td>\n",
       "      <td>0</td>\n",
       "      <td>0</td>\n",
       "      <td>0</td>\n",
       "      <td>0</td>\n",
       "      <td>0</td>\n",
       "      <td>0</td>\n",
       "      <td>1</td>\n",
       "      <td>0</td>\n",
       "      <td>0</td>\n",
       "    </tr>\n",
       "    <tr>\n",
       "      <th>3</th>\n",
       "      <td>86.0</td>\n",
       "      <td>346867.0</td>\n",
       "      <td>61220.0</td>\n",
       "      <td>0.78</td>\n",
       "      <td>1872733.0</td>\n",
       "      <td>97.50</td>\n",
       "      <td>384550</td>\n",
       "      <td>11460087</td>\n",
       "      <td>-81726.0</td>\n",
       "      <td>89.94</td>\n",
       "      <td>...</td>\n",
       "      <td>0</td>\n",
       "      <td>0</td>\n",
       "      <td>1</td>\n",
       "      <td>0</td>\n",
       "      <td>0</td>\n",
       "      <td>0</td>\n",
       "      <td>0</td>\n",
       "      <td>0</td>\n",
       "      <td>0</td>\n",
       "      <td>0</td>\n",
       "    </tr>\n",
       "    <tr>\n",
       "      <th>4</th>\n",
       "      <td>97.0</td>\n",
       "      <td>135195.0</td>\n",
       "      <td>74244.0</td>\n",
       "      <td>5.41</td>\n",
       "      <td>-103940.0</td>\n",
       "      <td>87.08</td>\n",
       "      <td>87436</td>\n",
       "      <td>723772</td>\n",
       "      <td>32436.0</td>\n",
       "      <td>90.62</td>\n",
       "      <td>...</td>\n",
       "      <td>0</td>\n",
       "      <td>0</td>\n",
       "      <td>0</td>\n",
       "      <td>0</td>\n",
       "      <td>0</td>\n",
       "      <td>0</td>\n",
       "      <td>0</td>\n",
       "      <td>0</td>\n",
       "      <td>1</td>\n",
       "      <td>0</td>\n",
       "    </tr>\n",
       "  </tbody>\n",
       "</table>\n",
       "<p>5 rows × 25 columns</p>\n",
       "</div>"
      ],
      "text/plain": [
       "   accountability_score  administrative_expenses  \\\n",
       "0                  89.0                 164590.0   \n",
       "1                  86.0                1001560.0   \n",
       "2                  85.0                  93957.0   \n",
       "3                  86.0                 346867.0   \n",
       "4                  97.0                 135195.0   \n",
       "\n",
       "   compensation_leader_compensation  compensation_leader_expense_percent  \\\n",
       "0                           53463.0                                 3.11   \n",
       "1                           73500.0                                 1.47   \n",
       "2                           85000.0                                 0.99   \n",
       "3                           61220.0                                 0.78   \n",
       "4                           74244.0                                 5.41   \n",
       "\n",
       "   excess_or_deficit_for_year  financial_score  fundraising_expenses  \\\n",
       "0                    349718.0            90.56                111522   \n",
       "1                   1175965.0            85.92                 54613   \n",
       "2                   -461502.0            77.65                248833   \n",
       "3                   1872733.0            97.50                384550   \n",
       "4                   -103940.0            87.08                 87436   \n",
       "\n",
       "   net_assets  other_revenue  overall_score             ...              \\\n",
       "0     1350382        49634.0          89.75             ...               \n",
       "1    14773920       382540.0          85.95             ...               \n",
       "2     -770370            0.0          80.96             ...               \n",
       "3    11460087       -81726.0          89.94             ...               \n",
       "4      723772        32436.0          90.62             ...               \n",
       "\n",
       "   Arts, Culture, Humanities  Community Development  Education  Environment  \\\n",
       "0                          0                      0          0            0   \n",
       "1                          0                      0          1            0   \n",
       "2                          0                      0          0            0   \n",
       "3                          0                      0          1            0   \n",
       "4                          0                      0          0            0   \n",
       "\n",
       "   Health  Human Services  Human and Civil Rights  International  Religion  \\\n",
       "0       0               0                       1              0         0   \n",
       "1       0               0                       0              0         0   \n",
       "2       0               0                       0              1         0   \n",
       "3       0               0                       0              0         0   \n",
       "4       0               0                       0              0         1   \n",
       "\n",
       "   Research and Public Policy  \n",
       "0                           0  \n",
       "1                           0  \n",
       "2                           0  \n",
       "3                           0  \n",
       "4                           0  \n",
       "\n",
       "[5 rows x 25 columns]"
      ]
     },
     "execution_count": 3,
     "metadata": {},
     "output_type": "execute_result"
    }
   ],
   "source": [
    "df2 = df[df['compensation_leader_compensation'].isnull() == False]\n",
    "org_type_dummies = pd.get_dummies(df2.org_type)\n",
    "df2 = pd.concat([df2, org_type_dummies], axis=1, join = 'outer')\n",
    "df2.drop(['charity_name', 'charity_url', \n",
    "          'city', 'cn_advisory', \n",
    "          'state', 'org_type',\n",
    "          'org_category', 'compensation_leader_title'], \n",
    "         axis = 1, inplace = True)\n",
    "df2.head()"
   ]
  },
  {
   "cell_type": "code",
   "execution_count": 4,
   "metadata": {},
   "outputs": [],
   "source": [
    "from sklearn.model_selection import train_test_split\n",
    "from sklearn.linear_model import LinearRegression\n",
    "from sklearn import metrics"
   ]
  },
  {
   "cell_type": "code",
   "execution_count": 5,
   "metadata": {},
   "outputs": [],
   "source": [
    "X = df2[['accountability_score', 'financial_score',\n",
    "         'overall_score', 'administrative_expenses',\n",
    "         'excess_or_deficit_for_year', 'fundraising_expenses',\n",
    "         'net_assets', 'other_revenue',\n",
    "         'payments_to_affiliates', 'Animals',\n",
    "         'Arts, Culture, Humanities', 'Community Development',\n",
    "         'Education', 'Environment',\n",
    "         'Health', 'Human Services',\n",
    "         'Human and Civil Rights', 'International',\n",
    "         'Religion', 'Research and Public Policy']]\n",
    "y = df2['compensation_leader_compensation']"
   ]
  },
  {
   "cell_type": "code",
   "execution_count": 6,
   "metadata": {},
   "outputs": [
    {
     "name": "stderr",
     "output_type": "stream",
     "text": [
      "/Users/charlieyaris/.venvs/lpthw/lib/python3.6/site-packages/scipy/linalg/basic.py:1226: RuntimeWarning: internal gelsd driver lwork query error, required iwork dimension not returned. This is likely the result of LAPACK bug 0038, fixed in LAPACK 3.2.2 (released July 21, 2010). Falling back to 'gelss' driver.\n",
      "  warnings.warn(mesg, RuntimeWarning)\n"
     ]
    }
   ],
   "source": [
    "X_train, X_test, y_train, y_test = train_test_split(X, y, test_size = 0.4, random_state = 101)\n",
    "linreg = LinearRegression()\n",
    "linreg.fit(X_train, y_train)\n",
    "y_pred = linreg.predict(X_test)"
   ]
  },
  {
   "cell_type": "code",
   "execution_count": 7,
   "metadata": {},
   "outputs": [
    {
     "name": "stderr",
     "output_type": "stream",
     "text": [
      "/Users/charlieyaris/.venvs/lpthw/lib/python3.6/site-packages/matplotlib/axes/_axes.py:6462: UserWarning: The 'normed' kwarg is deprecated, and has been replaced by the 'density' kwarg.\n",
      "  warnings.warn(\"The 'normed' kwarg is deprecated, and has been \"\n"
     ]
    },
    {
     "data": {
      "image/png": "[encoded data removed]",
      "text/plain": [
       "<Figure size 432x432 with 3 Axes>"
      ]
     },
     "metadata": {},
     "output_type": "display_data"
    }
   ],
   "source": [
    "ax = sns.jointplot(x = y_test, y = y_pred, \n",
    "                   kind = 'scatter');\n",
    "ax.set_axis_labels('Y Test', 'Predicted Y')\n",
    "ax.plot(sns.regplot, sns.distplot);"
   ]
  },
  {
   "cell_type": "code",
   "execution_count": 8,
   "metadata": {},
   "outputs": [
    {
     "name": "stderr",
     "output_type": "stream",
     "text": [
      "/Users/charlieyaris/.venvs/lpthw/lib/python3.6/site-packages/matplotlib/axes/_axes.py:6462: UserWarning: The 'normed' kwarg is deprecated, and has been replaced by the 'density' kwarg.\n",
      "  warnings.warn(\"The 'normed' kwarg is deprecated, and has been \"\n"
     ]
    },
    {
     "data": {
      "image/png": "[encoded data removed]",
      "text/plain": [
       "<Figure size 432x288 with 1 Axes>"
      ]
     },
     "metadata": {},
     "output_type": "display_data"
    }
   ],
   "source": [
    "ax = sns.distplot((y_test - y_pred), bins = 50)\n",
    "ax.xaxis.set_tick_params(which = 'both', rotation = 45)"
   ]
  },
  {
   "cell_type": "code",
   "execution_count": 9,
   "metadata": {},
   "outputs": [
    {
     "name": "stdout",
     "output_type": "stream",
     "text": [
      "Intercept: \n",
      " -49257.38270579724\n",
      "                              Coeficient\n",
      "accountability_score         1826.351362\n",
      "financial_score               639.494968\n",
      "overall_score                -143.684141\n",
      "administrative_expenses         0.005240\n",
      "excess_or_deficit_for_year      0.000520\n",
      "fundraising_expenses            0.000572\n",
      "net_assets                      0.000006\n",
      "other_revenue                   0.002446\n",
      "payments_to_affiliates          0.042524\n",
      "Animals                    -13465.682483\n",
      "Arts, Culture, Humanities   34751.360024\n",
      "Community Development      -20476.501716\n",
      "Education                   13351.010698\n",
      "Environment                -14727.316845\n",
      "Health                      11490.032911\n",
      "Human Services             -31874.542786\n",
      "Human and Civil Rights       4321.197644\n",
      "International               -4715.320260\n",
      "Religion                   -42470.693227\n",
      "Research and Public Policy  63816.456041\n"
     ]
    }
   ],
   "source": [
    "cdf = pd.DataFrame(linreg.coef_, X.columns, columns = ['Coeficient'])\n",
    "print('Intercept: \\n', linreg.intercept_)\n",
    "print(cdf)"
   ]
  },
  {
   "cell_type": "code",
   "execution_count": 10,
   "metadata": {},
   "outputs": [
    {
     "name": "stdout",
     "output_type": "stream",
     "text": [
      "Train R^2: 0.2478\n",
      "Test  R^2: 0.1754\n",
      "MAE:       71913.7754\n",
      "MSE:       13486831535.148\n",
      "RMSE:      116132.8185\n"
     ]
    }
   ],
   "source": [
    "print('Train R^2:', linreg.score(X_train, y_train).round(4))\n",
    "print('Test  R^2:', linreg.score(X_test, y_test).round(4))\n",
    "print('MAE:      ', metrics.mean_absolute_error(y_test, y_pred).round(4))\n",
    "print('MSE:      ', metrics.mean_squared_error(y_test, y_pred).round(4))\n",
    "print('RMSE:     ', np.sqrt(metrics.mean_squared_error(y_test, y_pred)).round(4))"
   ]
  },
  {
   "cell_type": "code",
   "execution_count": 11,
   "metadata": {},
   "outputs": [],
   "source": [
    "from sklearn.preprocessing import StandardScaler\n",
    "from sklearn.linear_model import Ridge"
   ]
  },
  {
   "cell_type": "code",
   "execution_count": 12,
   "metadata": {},
   "outputs": [
    {
     "data": {
      "text/html": [
       "<div>\n",
       "<style scoped>\n",
       "    .dataframe tbody tr th:only-of-type {\n",
       "        vertical-align: middle;\n",
       "    }\n",
       "\n",
       "    .dataframe tbody tr th {\n",
       "        vertical-align: top;\n",
       "    }\n",
       "\n",
       "    .dataframe thead th {\n",
       "        text-align: right;\n",
       "    }\n",
       "</style>\n",
       "<table border=\"1\" class=\"dataframe\">\n",
       "  <thead>\n",
       "    <tr style=\"text-align: right;\">\n",
       "      <th></th>\n",
       "      <th>accountability_score</th>\n",
       "      <th>administrative_expenses</th>\n",
       "      <th>compensation_leader_expense_percent</th>\n",
       "      <th>excess_or_deficit_for_year</th>\n",
       "      <th>financial_score</th>\n",
       "      <th>fundraising_expenses</th>\n",
       "      <th>net_assets</th>\n",
       "      <th>other_revenue</th>\n",
       "      <th>overall_score</th>\n",
       "      <th>payments_to_affiliates</th>\n",
       "      <th>...</th>\n",
       "      <th>Arts, Culture, Humanities</th>\n",
       "      <th>Community Development</th>\n",
       "      <th>Education</th>\n",
       "      <th>Environment</th>\n",
       "      <th>Health</th>\n",
       "      <th>Human Services</th>\n",
       "      <th>Human and Civil Rights</th>\n",
       "      <th>International</th>\n",
       "      <th>Religion</th>\n",
       "      <th>Research and Public Policy</th>\n",
       "    </tr>\n",
       "  </thead>\n",
       "  <tbody>\n",
       "    <tr>\n",
       "      <th>0</th>\n",
       "      <td>-0.263579</td>\n",
       "      <td>-0.186773</td>\n",
       "      <td>-0.181814</td>\n",
       "      <td>-0.047114</td>\n",
       "      <td>0.462148</td>\n",
       "      <td>-0.156168</td>\n",
       "      <td>-0.176026</td>\n",
       "      <td>-0.146236</td>\n",
       "      <td>0.330661</td>\n",
       "      <td>-0.075369</td>\n",
       "      <td>...</td>\n",
       "      <td>-0.417255</td>\n",
       "      <td>-0.327716</td>\n",
       "      <td>-0.285942</td>\n",
       "      <td>-0.230243</td>\n",
       "      <td>-0.334349</td>\n",
       "      <td>-0.635888</td>\n",
       "      <td>4.886773</td>\n",
       "      <td>-0.270780</td>\n",
       "      <td>-0.229912</td>\n",
       "      <td>-0.157289</td>\n",
       "    </tr>\n",
       "    <tr>\n",
       "      <th>1</th>\n",
       "      <td>-0.601692</td>\n",
       "      <td>-0.048412</td>\n",
       "      <td>-0.869707</td>\n",
       "      <td>0.022858</td>\n",
       "      <td>-0.004671</td>\n",
       "      <td>-0.165434</td>\n",
       "      <td>-0.099415</td>\n",
       "      <td>-0.103574</td>\n",
       "      <td>-0.157966</td>\n",
       "      <td>-0.075369</td>\n",
       "      <td>...</td>\n",
       "      <td>-0.417255</td>\n",
       "      <td>-0.327716</td>\n",
       "      <td>3.497212</td>\n",
       "      <td>-0.230243</td>\n",
       "      <td>-0.334349</td>\n",
       "      <td>-0.635888</td>\n",
       "      <td>-0.204634</td>\n",
       "      <td>-0.270780</td>\n",
       "      <td>-0.229912</td>\n",
       "      <td>-0.157289</td>\n",
       "    </tr>\n",
       "    <tr>\n",
       "      <th>2</th>\n",
       "      <td>-0.714396</td>\n",
       "      <td>-0.198450</td>\n",
       "      <td>-1.071041</td>\n",
       "      <td>-0.115813</td>\n",
       "      <td>-0.836696</td>\n",
       "      <td>-0.133811</td>\n",
       "      <td>-0.188129</td>\n",
       "      <td>-0.152597</td>\n",
       "      <td>-0.799611</td>\n",
       "      <td>-0.075369</td>\n",
       "      <td>...</td>\n",
       "      <td>-0.417255</td>\n",
       "      <td>-0.327716</td>\n",
       "      <td>-0.285942</td>\n",
       "      <td>-0.230243</td>\n",
       "      <td>-0.334349</td>\n",
       "      <td>-0.635888</td>\n",
       "      <td>-0.204634</td>\n",
       "      <td>3.693041</td>\n",
       "      <td>-0.229912</td>\n",
       "      <td>-0.157289</td>\n",
       "    </tr>\n",
       "    <tr>\n",
       "      <th>3</th>\n",
       "      <td>-0.601692</td>\n",
       "      <td>-0.156641</td>\n",
       "      <td>-1.159125</td>\n",
       "      <td>0.081865</td>\n",
       "      <td>1.160365</td>\n",
       "      <td>-0.111714</td>\n",
       "      <td>-0.118328</td>\n",
       "      <td>-0.163070</td>\n",
       "      <td>0.355093</td>\n",
       "      <td>-0.075369</td>\n",
       "      <td>...</td>\n",
       "      <td>-0.417255</td>\n",
       "      <td>-0.327716</td>\n",
       "      <td>3.497212</td>\n",
       "      <td>-0.230243</td>\n",
       "      <td>-0.334349</td>\n",
       "      <td>-0.635888</td>\n",
       "      <td>-0.204634</td>\n",
       "      <td>-0.270780</td>\n",
       "      <td>-0.229912</td>\n",
       "      <td>-0.157289</td>\n",
       "    </tr>\n",
       "    <tr>\n",
       "      <th>4</th>\n",
       "      <td>0.638054</td>\n",
       "      <td>-0.191633</td>\n",
       "      <td>0.782913</td>\n",
       "      <td>-0.085533</td>\n",
       "      <td>0.112034</td>\n",
       "      <td>-0.160089</td>\n",
       "      <td>-0.179602</td>\n",
       "      <td>-0.148440</td>\n",
       "      <td>0.442531</td>\n",
       "      <td>-0.075369</td>\n",
       "      <td>...</td>\n",
       "      <td>-0.417255</td>\n",
       "      <td>-0.327716</td>\n",
       "      <td>-0.285942</td>\n",
       "      <td>-0.230243</td>\n",
       "      <td>-0.334349</td>\n",
       "      <td>-0.635888</td>\n",
       "      <td>-0.204634</td>\n",
       "      <td>-0.270780</td>\n",
       "      <td>4.349486</td>\n",
       "      <td>-0.157289</td>\n",
       "    </tr>\n",
       "  </tbody>\n",
       "</table>\n",
       "<p>5 rows × 24 columns</p>\n",
       "</div>"
      ],
      "text/plain": [
       "   accountability_score  administrative_expenses  \\\n",
       "0             -0.263579                -0.186773   \n",
       "1             -0.601692                -0.048412   \n",
       "2             -0.714396                -0.198450   \n",
       "3             -0.601692                -0.156641   \n",
       "4              0.638054                -0.191633   \n",
       "\n",
       "   compensation_leader_expense_percent  excess_or_deficit_for_year  \\\n",
       "0                            -0.181814                   -0.047114   \n",
       "1                            -0.869707                    0.022858   \n",
       "2                            -1.071041                   -0.115813   \n",
       "3                            -1.159125                    0.081865   \n",
       "4                             0.782913                   -0.085533   \n",
       "\n",
       "   financial_score  fundraising_expenses  net_assets  other_revenue  \\\n",
       "0         0.462148             -0.156168   -0.176026      -0.146236   \n",
       "1        -0.004671             -0.165434   -0.099415      -0.103574   \n",
       "2        -0.836696             -0.133811   -0.188129      -0.152597   \n",
       "3         1.160365             -0.111714   -0.118328      -0.163070   \n",
       "4         0.112034             -0.160089   -0.179602      -0.148440   \n",
       "\n",
       "   overall_score  payments_to_affiliates             ...              \\\n",
       "0       0.330661               -0.075369             ...               \n",
       "1      -0.157966               -0.075369             ...               \n",
       "2      -0.799611               -0.075369             ...               \n",
       "3       0.355093               -0.075369             ...               \n",
       "4       0.442531               -0.075369             ...               \n",
       "\n",
       "   Arts, Culture, Humanities  Community Development  Education  Environment  \\\n",
       "0                  -0.417255              -0.327716  -0.285942    -0.230243   \n",
       "1                  -0.417255              -0.327716   3.497212    -0.230243   \n",
       "2                  -0.417255              -0.327716  -0.285942    -0.230243   \n",
       "3                  -0.417255              -0.327716   3.497212    -0.230243   \n",
       "4                  -0.417255              -0.327716  -0.285942    -0.230243   \n",
       "\n",
       "     Health  Human Services  Human and Civil Rights  International  Religion  \\\n",
       "0 -0.334349       -0.635888                4.886773      -0.270780 -0.229912   \n",
       "1 -0.334349       -0.635888               -0.204634      -0.270780 -0.229912   \n",
       "2 -0.334349       -0.635888               -0.204634       3.693041 -0.229912   \n",
       "3 -0.334349       -0.635888               -0.204634      -0.270780 -0.229912   \n",
       "4 -0.334349       -0.635888               -0.204634      -0.270780  4.349486   \n",
       "\n",
       "   Research and Public Policy  \n",
       "0                   -0.157289  \n",
       "1                   -0.157289  \n",
       "2                   -0.157289  \n",
       "3                   -0.157289  \n",
       "4                   -0.157289  \n",
       "\n",
       "[5 rows x 24 columns]"
      ]
     },
     "execution_count": 12,
     "metadata": {},
     "output_type": "execute_result"
    }
   ],
   "source": [
    "scaler = StandardScaler()\n",
    "scaler.fit(df2.drop('compensation_leader_compensation', axis = 1))\n",
    "scaled_features = scaler.transform(df2.drop('compensation_leader_compensation', axis = 1))\n",
    "df_scaled_features = pd.DataFrame(scaled_features, \n",
    "                                  columns = df2.columns.drop('compensation_leader_compensation'))\n",
    "df_scaled_features.head()"
   ]
  },
  {
   "cell_type": "code",
   "execution_count": 13,
   "metadata": {},
   "outputs": [],
   "source": [
    "X = df_scaled_features[['accountability_score', 'financial_score',\n",
    "                        'overall_score', 'administrative_expenses',\n",
    "                        'excess_or_deficit_for_year', 'fundraising_expenses',\n",
    "                        'net_assets', 'other_revenue',\n",
    "                        'payments_to_affiliates', 'Animals',\n",
    "                        'Arts, Culture, Humanities', 'Community Development',\n",
    "                        'Education', 'Environment',\n",
    "                        'Health', 'Human Services',\n",
    "                        'Human and Civil Rights', 'International',\n",
    "                        'Religion', 'Research and Public Policy']]\n",
    "y = df2['compensation_leader_compensation']\n",
    "\n",
    "X_train, X_test, y_train, y_test = train_test_split(X, y, test_size = 0.4, random_state = 101)"
   ]
  },
  {
   "cell_type": "code",
   "execution_count": 34,
   "metadata": {},
   "outputs": [],
   "source": [
    "ridge = Ridge(alpha = 1000)\n",
    "ridge.fit(X_train, y_train)\n",
    "y_pred = ridge.predict(X_test)"
   ]
  },
  {
   "cell_type": "code",
   "execution_count": 35,
   "metadata": {},
   "outputs": [
    {
     "name": "stderr",
     "output_type": "stream",
     "text": [
      "/Users/charlieyaris/.venvs/lpthw/lib/python3.6/site-packages/matplotlib/axes/_axes.py:6462: UserWarning: The 'normed' kwarg is deprecated, and has been replaced by the 'density' kwarg.\n",
      "  warnings.warn(\"The 'normed' kwarg is deprecated, and has been \"\n"
     ]
    },
    {
     "data": {
      "image/png": "[encoded data removed]",
      "text/plain": [
       "<Figure size 432x432 with 3 Axes>"
      ]
     },
     "metadata": {},
     "output_type": "display_data"
    }
   ],
   "source": [
    "ax = sns.jointplot(x = y_test, y = y_pred, \n",
    "                   kind = 'scatter');\n",
    "ax.set_axis_labels('Y Test', 'Predicted Y')\n",
    "ax.plot(sns.regplot, sns.distplot);"
   ]
  },
  {
   "cell_type": "code",
   "execution_count": 36,
   "metadata": {},
   "outputs": [
    {
     "name": "stderr",
     "output_type": "stream",
     "text": [
      "/Users/charlieyaris/.venvs/lpthw/lib/python3.6/site-packages/matplotlib/axes/_axes.py:6462: UserWarning: The 'normed' kwarg is deprecated, and has been replaced by the 'density' kwarg.\n",
      "  warnings.warn(\"The 'normed' kwarg is deprecated, and has been \"\n"
     ]
    },
    {
     "data": {
      "image/png": "[encoded data removed]",
      "text/plain": [
       "<Figure size 432x288 with 1 Axes>"
      ]
     },
     "metadata": {},
     "output_type": "display_data"
    }
   ],
   "source": [
    "ax = sns.distplot((y_test - y_pred), bins = 50)\n",
    "ax.xaxis.set_tick_params(which = 'both', rotation = 45)"
   ]
  },
  {
   "cell_type": "code",
   "execution_count": 37,
   "metadata": {},
   "outputs": [
    {
     "name": "stdout",
     "output_type": "stream",
     "text": [
      "Intercept: \n",
      " -49257.38270579724\n",
      "                              Coeficient\n",
      "accountability_score         1826.351362\n",
      "financial_score               639.494968\n",
      "overall_score                -143.684141\n",
      "administrative_expenses         0.005240\n",
      "excess_or_deficit_for_year      0.000520\n",
      "fundraising_expenses            0.000572\n",
      "net_assets                      0.000006\n",
      "other_revenue                   0.002446\n",
      "payments_to_affiliates          0.042524\n",
      "Animals                    -13465.682483\n",
      "Arts, Culture, Humanities   34751.360024\n",
      "Community Development      -20476.501716\n",
      "Education                   13351.010698\n",
      "Environment                -14727.316845\n",
      "Health                      11490.032911\n",
      "Human Services             -31874.542786\n",
      "Human and Civil Rights       4321.197644\n",
      "International               -4715.320260\n",
      "Religion                   -42470.693227\n",
      "Research and Public Policy  63816.456041\n"
     ]
    }
   ],
   "source": [
    "cdf = pd.DataFrame(linreg.coef_, X.columns, columns = ['Coeficient'])\n",
    "print('Intercept: \\n', linreg.intercept_)\n",
    "print(cdf)"
   ]
  },
  {
   "cell_type": "code",
   "execution_count": 38,
   "metadata": {},
   "outputs": [
    {
     "name": "stdout",
     "output_type": "stream",
     "text": [
      "Train R^2: 0.2435\n",
      "Test  R^2: 0.1996\n",
      "MAE:       72240.4585\n",
      "MSE:       13091957031.1756\n",
      "RMSE:      114420.0902\n"
     ]
    }
   ],
   "source": [
    "print('Train R^2:', ridge.score(X_train, y_train).round(4))\n",
    "print('Test  R^2:', ridge.score(X_test, y_test).round(4))\n",
    "print('MAE:      ', metrics.mean_absolute_error(y_test, y_pred).round(4))\n",
    "print('MSE:      ', metrics.mean_squared_error(y_test, y_pred).round(4))\n",
    "print('RMSE:     ', np.sqrt(metrics.mean_squared_error(y_test, y_pred)).round(4))"
   ]
  },
  {
   "cell_type": "code",
   "execution_count": null,
   "metadata": {},
   "outputs": [],
   "source": []
  },
  {
   "cell_type": "code",
   "execution_count": null,
   "metadata": {},
   "outputs": [],
   "source": []
  }
 ],
 "metadata": {
  "kernelspec": {
   "display_name": "Python 3",
   "language": "python",
   "name": "python3"
  },
  "language_info": {
   "codemirror_mode": {
    "name": "ipython",
    "version": 3
   },
   "file_extension": ".py",
   "mimetype": "text/x-python",
   "name": "python",
   "nbconvert_exporter": "python",
   "pygments_lexer": "ipython3",
   "version": "3.6.4"
  }
 },
 "nbformat": 4,
 "nbformat_minor": 2
}
