{
 "cells": [
  {
   "cell_type": "code",
   "execution_count": 1,
   "metadata": {},
   "outputs": [],
   "source": [
    "import pandas as pd\n",
    "import numpy as np"
   ]
  },
  {
   "cell_type": "code",
   "execution_count": 2,
   "metadata": {},
   "outputs": [],
   "source": [
    "df = pd.read_csv('charity_navigator_scraped.csv')"
   ]
  },
  {
   "cell_type": "code",
   "execution_count": 3,
   "metadata": {},
   "outputs": [],
   "source": [
    "n = 0\n",
    "for compensation in df['compensation_leader_compensation']:\n",
    "    if df.loc[n, 'compensation_leader_compensation'] == 'None reported\\\\r\\\\n                 ':\n",
    "        df.loc[n, 'compensation_leader_compensation'] = None\n",
    "        n += 1\n",
    "    elif df.loc[n, 'compensation_leader_compensation'] == '--\\\\r\\\\n                 ':\n",
    "        df.loc[n, 'compensation_leader_compensation'] = None\n",
    "        n += 1\n",
    "    elif df.loc[n, 'compensation_leader_compensation'] == 'NaN':\n",
    "        df.loc[n, 'compensation_leader_compensation'] = None\n",
    "        n += 1\n",
    "    else:\n",
    "        n += 1"
   ]
  },
  {
   "cell_type": "code",
   "execution_count": 4,
   "metadata": {},
   "outputs": [],
   "source": [
    "n = 0\n",
    "for compensation_percent in df['compensation_leader_expense_percent']:\n",
    "    if df.loc[n, 'compensation_leader_expense_percent'] == '--\\\\r\\\\n                 ':\n",
    "        df.loc[n, 'compensation_leader_expense_percent'] = None\n",
    "        n += 1\n",
    "    else:\n",
    "        n += 1"
   ]
  },
  {
   "cell_type": "code",
   "execution_count": 5,
   "metadata": {},
   "outputs": [],
   "source": [
    "df['city'] = df['city'].astype(str)\n",
    "n = 0\n",
    "for city in df['city']:\n",
    "    if '\\\\r\\\\n\\\\t\\\\t\\\\t' in df.loc[n, 'city']:\n",
    "        df.loc[n, 'city'] = str(df.loc[n, 'city']) \\\n",
    "        .split('\\\\r\\\\n\\\\t\\\\t\\\\t')[1]\n",
    "        n += 1\n",
    "    elif \"' \" in df.loc[n, 'city']:\n",
    "        df.loc[n, 'city'] = str(df.loc[n, 'city']) \\\n",
    "        .split(\"' \")[1]\n",
    "        n += 1\n",
    "    else:\n",
    "        n+= 1"
   ]
  },
  {
   "cell_type": "code",
   "execution_count": 6,
   "metadata": {},
   "outputs": [],
   "source": [
    "def strip(column):\n",
    "    column = str(column).replace('$', '')\n",
    "    column = str(column).replace('%', '')\n",
    "    column = str(column).replace(',', '')\n",
    "    return column\n",
    "\n",
    "df['compensation_leader_compensation'] = pd.to_numeric \\\n",
    "(df['compensation_leader_compensation'].apply(strip), errors='coerce')\n",
    "df['compensation_leader_expense_percent'] = pd.to_numeric \\\n",
    "(df['compensation_leader_expense_percent'].apply(strip), errors='coerce')\n",
    "\n",
    "df['administrative_expenses'] = df['administrative_expenses'].apply(strip).astype(float)\n",
    "df['excess_or_deficit_for_year'] = df['excess_or_deficit_for_year'].apply(strip).astype(float)\n",
    "df['fundraising_expenses'] = df['fundraising_expenses'].apply(strip).astype(int)\n",
    "df['net_assets'] = df['net_assets'].apply(strip).astype(int)\n",
    "df['other_revenue'] = df['other_revenue'].apply(strip).astype(float)\n",
    "df['payments_to_affiliates'] = df['payments_to_affiliates'].apply(strip).astype(int)\n",
    "df['program_expenses'] = df['program_expenses'].apply(strip).astype(int)\n",
    "df['total_contributions'] = df['total_contributions'].apply(strip).astype(int)\n",
    "\n",
    "df['charity_name'] = df['charity_name'].astype(str)\n",
    "df['charity_url'] = df['charity_url'].astype(str)\n",
    "df['cn_advisory'] = df['cn_advisory'].astype(str)\n",
    "df['compensation_leader_title'] = df['compensation_leader_title'].astype(str)\n",
    "df['organization_type'] = df['organization_type'].astype(str)\n",
    "df['state'] = df['state'].astype(str)"
   ]
  },
  {
   "cell_type": "code",
   "execution_count": 7,
   "metadata": {},
   "outputs": [
    {
     "name": "stdout",
     "output_type": "stream",
     "text": [
      "<class 'pandas.core.frame.DataFrame'>\n",
      "RangeIndex: 8190 entries, 0 to 8189\n",
      "Data columns (total 20 columns):\n",
      "accountability_score                   8190 non-null float64\n",
      "administrative_expenses                8190 non-null float64\n",
      "charity_name                           8190 non-null object\n",
      "charity_url                            8190 non-null object\n",
      "city                                   8190 non-null object\n",
      "cn_advisory                            8190 non-null object\n",
      "compensation_leader_compensation       7290 non-null float64\n",
      "compensation_leader_expense_percent    7290 non-null float64\n",
      "compensation_leader_title              8190 non-null object\n",
      "excess_or_deficit_for_year             8190 non-null float64\n",
      "financial_score                        8190 non-null float64\n",
      "fundraising_expenses                   8190 non-null int64\n",
      "net_assets                             8190 non-null int64\n",
      "organization_type                      8190 non-null object\n",
      "other_revenue                          8190 non-null float64\n",
      "overall_score                          8190 non-null float64\n",
      "payments_to_affiliates                 8190 non-null int64\n",
      "program_expenses                       8190 non-null int64\n",
      "state                                  8190 non-null object\n",
      "total_contributions                    8190 non-null int64\n",
      "dtypes: float64(8), int64(5), object(7)\n",
      "memory usage: 1.2+ MB\n"
     ]
    }
   ],
   "source": [
    "df.info()"
   ]
  },
  {
   "cell_type": "code",
   "execution_count": 8,
   "metadata": {},
   "outputs": [],
   "source": [
    "df.to_csv('charity_navigator_clean.csv')"
   ]
  }
 ],
 "metadata": {
  "kernelspec": {
   "display_name": "Python 3",
   "language": "python",
   "name": "python3"
  },
  "language_info": {
   "codemirror_mode": {
    "name": "ipython",
    "version": 3
   },
   "file_extension": ".py",
   "mimetype": "text/x-python",
   "name": "python",
   "nbconvert_exporter": "python",
   "pygments_lexer": "ipython3",
   "version": "3.6.4"
  }
 },
 "nbformat": 4,
 "nbformat_minor": 2
}
