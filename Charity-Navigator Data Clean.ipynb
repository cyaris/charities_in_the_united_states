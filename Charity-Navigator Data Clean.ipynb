version https://git-lfs.github.com/spec/v1
oid sha256:94b8958cc8c98170bf40767c43259726f3cd215e6e88f2c87fe9e4f3327e5eae
size 2748
